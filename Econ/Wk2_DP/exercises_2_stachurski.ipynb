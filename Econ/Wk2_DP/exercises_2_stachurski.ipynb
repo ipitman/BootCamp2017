{
 "cells": [
  {
   "cell_type": "markdown",
   "metadata": {},
   "source": [
    "## Exercise Set 2 for OSM \n",
    "\n",
    "### Dynamic Programming with John Stachurski"
   ]
  },
  {
   "cell_type": "markdown",
   "metadata": {},
   "source": [
    "Exercises for the [OSM](https://bfi.uchicago.edu/osm) bootcamp dynamic programming section.\n",
    "\n",
    "We will use the following libraries:"
   ]
  },
  {
   "cell_type": "code",
   "execution_count": 1,
   "metadata": {
    "collapsed": true
   },
   "outputs": [],
   "source": [
    "import numpy as np\n",
    "import matplotlib.pyplot as plt\n",
    "import quantecon as qe"
   ]
  },
  {
   "cell_type": "markdown",
   "metadata": {},
   "source": [
    "### Exercise 1"
   ]
  },
  {
   "cell_type": "markdown",
   "metadata": {},
   "source": [
    "Consider the setting of the [stochastic optimal growth model](https://lectures.quantecon.org/py/optgrowth.html), with the same notation and same assumptions on the primitives $u$, $f$, $\\beta$ and $\\phi$. \n",
    "\n",
    "Let $\\mathscr C$ be all continuous bounded functions on $\\mathbb R_+$.\n",
    "\n",
    "Let $\\sigma \\in \\Sigma$ be any feasible policy and let $U$ be the operator from $\\mathscr C$ to itself defined by\n",
    "\n",
    "$$ Uw(y) = u(\\sigma(y)) + \\beta \\int w(f(y - \\sigma(y))z) \\phi(dz) \\qquad (y \\in \\mathbb R_+)$$\n",
    "\n",
    "Prove that $U$ is a contraction mapping with respect to the supremum distance.  Argue that the unique fixed point of $U$ in $\\mathscr C$ is $v_\\sigma$.\n",
    "\n",
    "(\"Argue\" means provide a sketch of a proof that contains the key ideas, plus some intuition.  Or give a complete, formal proof, if you can.)"
   ]
  },
  {
   "cell_type": "markdown",
   "metadata": {},
   "source": [
    "### Solution"
   ]
  },
  {
   "cell_type": "markdown",
   "metadata": {},
   "source": [
    "Pick $y \\in \\mathbb{R}_{+}$. Pick $w, w^{\\prime} \\in \\mathscr{C}$ Then:\n",
    "\\begin{align*}\n",
    "\\lvert Uw(y) - Uw^{\\prime}(y) \\rvert &= \\left\\lvert \\left(u(\\sigma(y)) + \\beta \\int w(f(y - \\sigma(y))z) \\phi(dz)\\right) - \\left(u(\\sigma(y)) + \\beta \\int w^{\\prime}(f(y - \\sigma(y))z) \\phi(dz)\\right) \\right\\rvert \\\\\n",
    "&= \\left\\lvert \\ \\beta \\int w(f(y - \\sigma(y))z) - w^{\\prime}(f(y - \\sigma(y))z) \\phi(dz) \\ \\right\\rvert \\\\\n",
    "&\\leq \\beta \\int \\left\\lvert \\ w(f(y - \\sigma(y))z) - w^{\\prime}(f(y - \\sigma(y))z) \\ \\right\\rvert \\phi(dz) \\\\\n",
    "&\\leq \\beta \\int \\left\\| \\ w - w^{\\prime} \\ \\right\\|_{sup} \\ \\phi(dz) \\\\\n",
    "&= \\beta \\ \\left\\| \\ w - w^{\\prime} \\ \\right\\|_{sup} \\int \\phi(dz) \\\\\n",
    "&= \\beta \\ \\left\\| \\ w - w^{\\prime} \\ \\right\\|_{sup} \\\\\n",
    "\\end{align*}\n",
    "Consider the set $S := \\{\\lvert Uw(y) - Uw^{\\prime}(y) \\rvert : y \\in \\mathbb{R}_{+}\\}$. Note that $\\sup S = \\| Uw - Uw^{\\prime} \\|_{sup}$. Also, note that $\\beta\\|w - w^{\\prime}\\|_{sup}$ is an upperbound for $S$, as shown above. Thus, by the defintion of $\\sup$, we have that:\n",
    "$$ \\| \\ Uw - Uw^{\\prime} \\ \\|_{sup} \\leq \\beta \\ \\left\\| \\ w - w^{\\prime} \\ \\right\\|_{sup}$$\n",
    "Thus, since $\\beta \\in (0, 1)$ and $U : \\mathscr{C} \\rightarrow \\mathscr{C}$, we have that $U$ is a contraction mapping with respect to the supremum distance.\n",
    "\n",
    "We know that $\\mathscr{C}$ is complete, so we can apply the Banach Fixed Point Theorem and assert that $\\exists$ a unique fixed point $w^{*} \\in \\mathscr{C}$ s.t. $Uw^{*} = w^{*}$.\n",
    "\n",
    "The intuition for why $w^{*} = v_{\\sigma}$ is the following. Assume that the agent uses the policy function $\\sigma$ every period. Then, we can think of $v_{\\sigma}$ as the agent's expected lifetime utility. So, in each period, the agent's expected lifetime utility (from that period onward) should be given by $v_{\\sigma}(y_t)$, where $y_t$ is how much output the agent has in that period. In particular, the agent's expected lifetime utility from tomorrow onward should be given by $v_{\\sigma}(y_{t+1})$, if today is period $t$. Thus, the agent's expected lifetime utility from today onwards is their utility today plus the discounted expected value of $v_{\\sigma}(y_{t+1})$ (I say expected value because $y_{t+1}$ depends on a stochastic shock). This is precisely our expression for the fixed point of U:\n",
    "\n",
    "$$ v_{\\sigma}(y_t) = u(\\sigma(y_t)) + \\beta \\ \\mathbb{E}[v_{\\sigma}(y_{t + 1})] $$\n",
    "\n",
    "Or equivalently:\n",
    "\n",
    "$$ v_{\\sigma}(y) = u(\\sigma(y)) + \\beta \\int v_{\\sigma}(f(y - \\sigma(y))z) \\phi(dz) $$\n"
   ]
  },
  {
   "cell_type": "markdown",
   "metadata": {},
   "source": [
    "### Exercise 2"
   ]
  },
  {
   "cell_type": "markdown",
   "metadata": {},
   "source": [
    "Notation and concepts continue from exercise 2.\n",
    "\n",
    "Use the fact you proved in exercise 2, combined with piecewise linear interpolation method we used for the Bellman operator, to compute and plot good approximations of the value $v_\\sigma$ of the policies\n",
    "\n",
    "* $\\sigma_1(y) = 0.95 y$\n",
    "* $\\sigma_2(y) = H(y) y$ where $H$ is the cdf of the lognormal $LN(0, 0.5)$ distribution.\n",
    "\n",
    "For the latter use `scipy.stats.lognorm.cdf(y, 0.5)`\n",
    "\n",
    "For the primitives, use the default specification in the `LogLinearOG` class from the [stochastic optimal growth model lecture](https://lectures.quantecon.org/py/optgrowth.html).\n",
    "\n",
    "Plot your results, choosing grid and plotting dimensions to best illustrate the two functions.  Based on the plot alone, argue that neither of these policies is an optimal policy."
   ]
  },
  {
   "cell_type": "code",
   "execution_count": 2,
   "metadata": {},
   "outputs": [
    {
     "data": {
      "image/png": "[encoded data removed]",
      "text/plain": [
       "<matplotlib.figure.Figure at 0x11b9e1208>"
      ]
     },
     "metadata": {},
     "output_type": "display_data"
    },
    {
     "data": {
      "image/png": "[encoded data removed]",
      "text/plain": [
       "<matplotlib.figure.Figure at 0x11ed39080>"
      ]
     },
     "metadata": {},
     "output_type": "display_data"
    }
   ],
   "source": [
    "import scipy.stats as stats\n",
    "\n",
    "class LogLinearOG:\n",
    "    \"\"\"\n",
    "    Log linear optimal growth model, with log utility, CD production and\n",
    "    multiplicative lognormal shock, so that\n",
    "\n",
    "        y = f(k, z) = z k^alpha\n",
    "\n",
    "    with z ~ LN(mu, s).\n",
    "\n",
    "    The class holds parameters and true value and policy functions.\n",
    "    \"\"\"\n",
    "\n",
    "    def __init__(self, alpha=0.4, beta=0.96, mu=0, s=0.1):\n",
    "\n",
    "        self.alpha, self.beta, self.mu, self.s = alpha, beta, mu, s \n",
    "\n",
    "        # == Some useful constants == #\n",
    "        self.ab = alpha * beta\n",
    "        self.c1 = np.log(1 - self.ab) / (1 - beta)\n",
    "        self.c2 = (mu + alpha * np.log(self.ab)) / (1 - alpha)\n",
    "        self.c3 = 1 / (1 - beta)\n",
    "        self.c4 = 1 / (1 - self.ab)\n",
    "\n",
    "    def u(self, c):\n",
    "        \" Utility \"\n",
    "        return np.log(c)\n",
    "\n",
    "    def u_prime(self, c):\n",
    "        return 1 / c\n",
    "\n",
    "    def f(self, k):\n",
    "        \" Deterministic part of production function.  \"\n",
    "        return k**self.alpha\n",
    "\n",
    "    def f_prime(self, k):\n",
    "        return self.alpha * k**(self.alpha - 1)\n",
    "\n",
    "    def c_star(self, y):\n",
    "        \" True optimal policy.  \"\n",
    "        return (1 - self.alpha * self.beta) * y\n",
    "\n",
    "    def v_star(self, y):\n",
    "        \" True value function. \"\n",
    "        return self.c1 + self.c2 * (self.c3 - self.c4) + self.c4 * np.log(y)\n",
    "\n",
    "\n",
    "def get_next_w(w, grid, beta, u, f, sigma, shocks, Tw=None):\n",
    "    \"\"\"\n",
    "    Parameters\n",
    "    ----------\n",
    "    w : array_like(float, ndim=1)\n",
    "        The value of the input function on different grid points\n",
    "    grid : array_like(float, ndim=1)\n",
    "        The set of grid points\n",
    "    beta : scalar\n",
    "        The discount factor\n",
    "    u : function\n",
    "        The utility function\n",
    "    f : function\n",
    "        The production function\n",
    "    shocks : numpy array\n",
    "        An array of draws from the shock, for Monte Carlo integration (to\n",
    "        compute expectations).\n",
    "    Tw : array_like(float, ndim=1) optional (default=None)\n",
    "        Array to write output values to\n",
    "    \"\"\"\n",
    "    # === Apply linear interpolation to w === #\n",
    "    w_func = lambda x: np.interp(x, grid, w)\n",
    "\n",
    "    # == Initialize Tw if necessary == #\n",
    "    if Tw is None:\n",
    "        Tw = np.empty_like(w)\n",
    "\n",
    "    # == set Tw[i] = max_c { u(c) + beta E w(f(y  - c) z)} == #\n",
    "    for i, y in enumerate(grid):\n",
    "        Tw[i] = u(sigma(y)) + beta * np.mean(w_func(f(y - sigma(y)) * shocks))\n",
    "    \n",
    "    return Tw\n",
    "\n",
    "lg = LogLinearOG()\n",
    "# == Unpack parameters / functions for convenience == #\n",
    "alpha, beta, mu, s = lg.alpha, lg.beta, lg.mu, lg.s\n",
    "\n",
    "grid_max = 4         # Largest grid point\n",
    "grid_size = 200      # Number of grid points\n",
    "shock_size = 250     # Number of shock draws in Monte Carlo integral\n",
    "\n",
    "grid = np.linspace(1e-5, grid_max, grid_size)\n",
    "shocks = np.exp(mu + s * np.random.randn(shock_size))\n",
    "\n",
    "w = 5 * np.log(grid)  # An initial condition\n",
    "fig1, ax1 = plt.subplots(figsize=(9, 6))\n",
    "ax1.set_title(\"v sub sigma_1\")\n",
    "ax1.set_ylim(-55, -44)\n",
    "ax1.set_xlim(np.min(grid), np.max(grid))\n",
    "for i in range(200):\n",
    "    w = get_next_w(w,\n",
    "                   grid,\n",
    "                   beta,\n",
    "                   np.log,\n",
    "                   lambda k: k**alpha,\n",
    "                   lambda y: 0.95 * y,\n",
    "                   shocks)\n",
    "\n",
    "ax1.plot(grid, w, 'b', lw=2, alpha=0.6)\n",
    "\n",
    "plt.show()\n",
    "\n",
    "w = 5 * np.log(grid)  # An initial condition\n",
    "fig2, ax2 = plt.subplots(figsize=(9, 6))\n",
    "ax2.set_title(\"v sub sigma_2\")\n",
    "ax2.set_ylim(-50, -25)\n",
    "ax2.set_xlim(np.min(grid), np.max(grid))\n",
    "for i in range(200):\n",
    "    w = get_next_w(w,\n",
    "                   grid,\n",
    "                   beta,\n",
    "                   np.log,\n",
    "                   lambda k: k**alpha,\n",
    "                   lambda y: stats.lognorm.cdf(y, 0.5),\n",
    "                   shocks)\n",
    "\n",
    "ax2.plot(grid, w, 'r', lw=2, alpha=0.6)\n",
    "\n",
    "plt.show()"
   ]
  },
  {
   "cell_type": "markdown",
   "metadata": {},
   "source": [
    "We know that the true value function is higher than both of the policy value functions $v_{\\sigma_1}$ and $v_{\\sigma_2}$ that we have found. This indicates that neither policy maximizes expected lifetime utility, and that both policies are therefore suboptimal."
   ]
  },
  {
   "cell_type": "code",
   "execution_count": null,
   "metadata": {
    "collapsed": true
   },
   "outputs": [],
   "source": []
  }
 ],
 "metadata": {
  "kernelspec": {
   "display_name": "Python 3",
   "language": "python",
   "name": "python3"
  },
  "language_info": {
   "codemirror_mode": {
    "name": "ipython",
    "version": 3
   },
   "file_extension": ".py",
   "mimetype": "text/x-python",
   "name": "python",
   "nbconvert_exporter": "python",
   "pygments_lexer": "ipython3",
   "version": "3.6.1"
  }
 },
 "nbformat": 4,
 "nbformat_minor": 2
}
