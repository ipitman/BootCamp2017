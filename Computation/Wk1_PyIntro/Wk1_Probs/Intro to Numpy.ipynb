{
 "cells": [
  {
   "cell_type": "code",
   "execution_count": 1,
   "metadata": {
    "collapsed": true
   },
   "outputs": [],
   "source": [
    "import numpy as np"
   ]
  },
  {
   "cell_type": "code",
   "execution_count": 2,
   "metadata": {
    "collapsed": true
   },
   "outputs": [],
   "source": [
    "def Problem1():\n",
    "    \"\"\"\n",
    "    Defines two matrices A and B and returns their product, AB.\n",
    "    \"\"\"\n",
    "    A = np.array([[3, -1, 4], [1, 5, -9]])\n",
    "    B = np.array([[2, 6, -5, 3], [5, -8, 9, 7], [9, -3, -2, -3]])\n",
    "    AB = np.dot(A, B)\n",
    "    return AB"
   ]
  },
  {
   "cell_type": "code",
   "execution_count": 3,
   "metadata": {
    "collapsed": true,
    "scrolled": true
   },
   "outputs": [],
   "source": [
    "def Problem2():\n",
    "    \"\"\"\n",
    "    Defines a matrix A and returns a polynomial of A.\n",
    "    \"\"\"\n",
    "    A = np.array([[3, 1, 4], [1, 5, 9], [-5, 3, 1]])\n",
    "    B = - np.dot(A, np.dot(A, A)) + 9 * np.dot(A, A) - 15 * A\n",
    "    return B"
   ]
  },
  {
   "cell_type": "code",
   "execution_count": 4,
   "metadata": {
    "collapsed": true
   },
   "outputs": [],
   "source": [
    "def Problem3():\n",
    "    \"\"\"\n",
    "    Defines two matrices A and B and returns the product ABA with data type np.int64\n",
    "    \"\"\"\n",
    "    A = np.triu(np.ones((7, 7), dtype=np.int64))\n",
    "    B = np.triu(6 * np.ones((7, 7), dtype=np.int64)) - 1\n",
    "    ABA = np.dot(A, np.dot(B, A))\n",
    "    ABA = ABA.astype(np.int64)\n",
    "    return ABA"
   ]
  },
  {
   "cell_type": "code",
   "execution_count": 5,
   "metadata": {
    "collapsed": true
   },
   "outputs": [],
   "source": [
    "def Problem4(A):\n",
    "    \"\"\"\n",
    "    Takes an array A and returns a copy B in which all the negative entries have been replaced with zero.\n",
    "    Inputs:\n",
    "    A (array)\n",
    "    \n",
    "    Returns:\n",
    "    B (array)\n",
    "    \"\"\"\n",
    "    try:\n",
    "        B = A.copy()\n",
    "    except:\n",
    "        print('Please enter an array.')\n",
    "    B[B < 0] = 0\n",
    "    return B"
   ]
  },
  {
   "cell_type": "code",
   "execution_count": 6,
   "metadata": {
    "collapsed": true
   },
   "outputs": [],
   "source": [
    "def Problem5():\n",
    "    \"\"\"\n",
    "    Defines three matrices A, B and C and returns the required block matrix.\n",
    "    \"\"\"\n",
    "    A = np.arange(6).reshape((3, 2)).T\n",
    "    B = 3 * np.tril(np.ones((3, 3), dtype=np.int64))\n",
    "    C = - 2 * np.eye(3, dtype=np.int64)\n",
    "    Row1 = np.hstack((np.zeros((3, 3), dtype=np.int64), A.T, np.eye(3, dtype=np.int64)))\n",
    "    Row2 = np.hstack((A, np.zeros((2, 2), dtype=np.int64), np.zeros((2, 3), dtype=np.int64)))\n",
    "    Row3 = np.hstack((B, np.zeros((3, 2), dtype=np.int64), C))\n",
    "    Block = np.vstack((Row1, Row2, Row3))\n",
    "    return Block"
   ]
  },
  {
   "cell_type": "code",
   "execution_count": 7,
   "metadata": {
    "collapsed": true
   },
   "outputs": [],
   "source": [
    "def Problem6(A):\n",
    "    \"\"\"\n",
    "    Takes an two dimensional array A as input and transforms it into a row-stochastic matrix, which is returned.\n",
    "    \"\"\"\n",
    "    assert A.ndim == 2, \"Please enter an array of dimension 2.\"\n",
    "    RowSums = np.vstack(A.sum(axis=1))\n",
    "    A = A / RowSums\n",
    "    return A"
   ]
  },
  {
   "cell_type": "code",
   "execution_count": 9,
   "metadata": {
    "collapsed": true
   },
   "outputs": [],
   "source": [
    "def Problem7():\n",
    "    grid = np.load(\"grid.npy\")\n",
    "    Max1 = np.max(grid[:, :-3] * grid[:, 1:-2] * grid[:, 2:-1] * grid[:, 3:])\n",
    "    Max2 = np.max(grid[:-3, :] * grid[1:-2, :] * grid[2:-1, :] * grid[3:, :])\n",
    "    Max3 = np.max(grid[:-3, :-3] * grid[1:-2, 1:-2] * grid[2:-1, 2:-1] * grid[3:, 3:])\n",
    "    Max4 = np.max(grid[:-3, 3:] * grid[1:-2, 2:-1] * grid[2:-1, 1:-2] * grid[3:, :-3])\n",
    "    return max(Max1, Max2, Max3, Max4)"
   ]
  }
 ],
 "metadata": {
  "kernelspec": {
   "display_name": "Python 3",
   "language": "python",
   "name": "python3"
  },
  "language_info": {
   "codemirror_mode": {
    "name": "ipython",
    "version": 3
   },
   "file_extension": ".py",
   "mimetype": "text/x-python",
   "name": "python",
   "nbconvert_exporter": "python",
   "pygments_lexer": "ipython3",
   "version": "3.6.1"
  }
 },
 "nbformat": 4,
 "nbformat_minor": 1
}
