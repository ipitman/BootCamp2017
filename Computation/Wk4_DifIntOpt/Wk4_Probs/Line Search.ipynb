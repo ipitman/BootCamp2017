{
 "cells": [
  {
   "cell_type": "code",
   "execution_count": 74,
   "metadata": {
    "collapsed": true
   },
   "outputs": [],
   "source": [
    "import numpy as np\n",
    "from autograd import grad\n",
    "import autograd.numpy as anp\n",
    "import matplotlib.pyplot as plt"
   ]
  },
  {
   "cell_type": "code",
   "execution_count": 75,
   "metadata": {},
   "outputs": [
    {
     "data": {
      "text/plain": [
       "0.00071614434567845997"
      ]
     },
     "execution_count": 75,
     "metadata": {},
     "output_type": "execute_result"
    }
   ],
   "source": [
    "def golden_section(f, a, b, niter):\n",
    "    rho = 0.5 * (3 - 5 ** 0.5)\n",
    "    current_iter = 0\n",
    "    while current_iter < niter:\n",
    "        a_prime = a + rho * (b - a)\n",
    "        b_prime = a + (1 - rho) * (b - a)\n",
    "        if f(a_prime) >= f(b_prime):\n",
    "            a = a_prime\n",
    "        else:\n",
    "            b = b_prime\n",
    "        current_iter += 1\n",
    "    return (b + a) / 2\n",
    "\n",
    "#It takes 13 steps to get within 0.001 of log(4)\n",
    "abs(np.log(4) - golden_section(lambda x: np.exp(x) - 4*x, 0, 3, 13))"
   ]
  },
  {
   "cell_type": "code",
   "execution_count": 76,
   "metadata": {},
   "outputs": [
    {
     "data": {
      "text/plain": [
       "0.00055217361989057245"
      ]
     },
     "execution_count": 76,
     "metadata": {},
     "output_type": "execute_result"
    }
   ],
   "source": [
    "\n",
    "def bisection(f, a, b, niter):\n",
    "    current_iter = 0\n",
    "    derivative = grad(f)\n",
    "    while current_iter < niter:\n",
    "        x_1 = (b + a) / 2\n",
    "        deriv = derivative(x_1)\n",
    "        if deriv > 0:\n",
    "            b = x_1\n",
    "        else:\n",
    "            a = x_1\n",
    "        current_iter += 1\n",
    "    return x_1\n",
    "\n",
    "#It takes 10 steps to get within 0.001 of log(4)\n",
    "abs(np.log(4) - bisection(lambda x: anp.exp(x) - 4*x, 0, 3, 10))"
   ]
  },
  {
   "cell_type": "code",
   "execution_count": 77,
   "metadata": {},
   "outputs": [
    {
     "name": "stdout",
     "output_type": "stream",
     "text": [
      "10000 loops, best of 3: 33.8 µs per loop\n",
      "1000 loops, best of 3: 1.42 ms per loop\n"
     ]
    }
   ],
   "source": [
    "%timeit golden_section(lambda x: np.exp(x) - 4*x, 0, 3, 13)\n",
    "%timeit bisection(lambda x: anp.exp(x) - 4*x, 0, 3, 10)\n",
    "#bisection is a lot slower because it needs to caluclate the derivative..."
   ]
  },
  {
   "cell_type": "code",
   "execution_count": 93,
   "metadata": {},
   "outputs": [
    {
     "name": "stdout",
     "output_type": "stream",
     "text": [
      "-0.204882912512\n",
      "-0.298556128233\n",
      "-0.290851859544\n",
      "-0.290839315038\n",
      "-0.290839314995\n"
     ]
    },
    {
     "data": {
      "image/png": "[encoded data removed]",
      "text/plain": [
       "<matplotlib.figure.Figure at 0x116473f98>"
      ]
     },
     "metadata": {},
     "output_type": "display_data"
    }
   ],
   "source": [
    "def newton(f, x_0, niter):\n",
    "    current_iter = 0\n",
    "    f_prime = grad(f)\n",
    "    f_double_prime = grad(f_prime)\n",
    "    while current_iter < niter:\n",
    "        if f_double_prime(x_0) == 0:\n",
    "            raise ValueError('The sequence does not converge since f_double_prime(x_{}) = 0'.format(count))\n",
    "        x_1 = x_0 - (f_prime(x_0) / f_double_prime(x_0))\n",
    "        print(x_1)\n",
    "        x_0 = x_1\n",
    "        current_iter += 1\n",
    "    return x_1\n",
    "\n",
    "minimizer = newton(lambda x: x ** 2 + anp.sin(5*x), -0.5, 5)\n",
    "domain = np.linspace(-2.5, 2.5, 1000)\n",
    "plt.plot(domain, domain ** 2 + np.sin(5*domain))\n",
    "plt.plot(minimizer, minimizer ** 2 + np.sin(5*minimizer), 'ro')\n",
    "plt.show()"
   ]
  },
  {
   "cell_type": "code",
   "execution_count": 98,
   "metadata": {},
   "outputs": [
    {
     "name": "stdout",
     "output_type": "stream",
     "text": [
      "-0.527567487894\n",
      "-0.689735324366\n",
      "-0.18196891629\n",
      "-0.281477372739\n",
      "-0.156590065244\n",
      "-0.165813849944\n",
      "-0.163680816734\n"
     ]
    },
    {
     "data": {
      "image/png": "[encoded data removed]",
      "text/plain": [
       "<matplotlib.figure.Figure at 0x116312a58>"
      ]
     },
     "metadata": {},
     "output_type": "display_data"
    }
   ],
   "source": [
    "def secant(f, Df, x_0, x_1, niter):\n",
    "    current_iter = 0\n",
    "    while current_iter < niter:\n",
    "        x_2 = x_1 - ((x_1 - x_0) / (Df(x_1) - Df(x_0))) * Df(x_1)\n",
    "        print(x_2)\n",
    "        x_0 = x_1\n",
    "        x_1 = x_2\n",
    "        current_iter += 1\n",
    "    return x_2\n",
    "\n",
    "minimizer = secant(lambda x: x ** 2 + np.sin(x) + np.sin(10*x), lambda x: 2*x + np.cos(x) + 10*np.cos(10*x), 0, -1, 7)\n",
    "domain = np.linspace(-2.5, 2.5, 1000)\n",
    "plt.plot(domain, domain ** 2 + np.sin(domain) + np.sin(10*domain))\n",
    "plt.plot(minimizer, minimizer ** 2 + np.sin(minimizer) + np.sin(10*minimizer), 'ro')\n",
    "plt.show()"
   ]
  },
  {
   "cell_type": "code",
   "execution_count": 110,
   "metadata": {},
   "outputs": [],
   "source": [
    "def backtracking(f, Df, x, p):\n",
    "    alpha = 1\n",
    "    rho = 0.5\n",
    "    c = 0.5\n",
    "    fixed = Df(x).T*p\n",
    "    while f(x + alpha*p) > f(x) + c*alpha*fixed:\n",
    "        alpha = rho*alpha\n",
    "    return alpha"
   ]
  },
  {
   "cell_type": "code",
   "execution_count": null,
   "metadata": {
    "collapsed": true
   },
   "outputs": [],
   "source": []
  }
 ],
 "metadata": {
  "kernelspec": {
   "display_name": "Python 3",
   "language": "python",
   "name": "python3"
  },
  "language_info": {
   "codemirror_mode": {
    "name": "ipython",
    "version": 3
   },
   "file_extension": ".py",
   "mimetype": "text/x-python",
   "name": "python",
   "nbconvert_exporter": "python",
   "pygments_lexer": "ipython3",
   "version": "3.6.1"
  }
 },
 "nbformat": 4,
 "nbformat_minor": 2
}
