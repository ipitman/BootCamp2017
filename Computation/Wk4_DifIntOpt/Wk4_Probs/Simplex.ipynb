{
 "cells": [
  {
   "cell_type": "code",
   "execution_count": 1,
   "metadata": {
    "collapsed": true
   },
   "outputs": [],
   "source": [
    "import numpy as np"
   ]
  },
  {
   "cell_type": "code",
   "execution_count": 2,
   "metadata": {
    "collapsed": true
   },
   "outputs": [],
   "source": [
    "class LinearProgram(object):\n",
    "    def __init__(self, c, A, b):\n",
    "        self.c = np.asarray(c)\n",
    "        self.A = np.asarray(A)\n",
    "        self.b = np.asarray(b)\n",
    "        self.m, self.n = self.A.shape\n",
    "        assert self.c.shape == (self.n, 1), 'Please enter a vertical c vector with {} elements.'.format(self.n)\n",
    "        assert self.b.shape == (self.m, 1), 'Please enter a vertical b vector with {} elements.'.format(self.m)\n",
    "        assert np.all(self.b >= 0), 'Problem is not feasible at the origin.'\n",
    "        self.non_slack = np.arange(self.n)\n",
    "        self.slack = np.arange(self.m) + self.n\n",
    "        self.index_list = np.concatenate((self.slack, self.non_slack))\n",
    "        self.T = np.concatenate((np.concatenate((np.zeros((1, 1)), -self.c.T, np.zeros((1, self.m)), np.ones((1, 1))), 1), \n",
    "                                 np.concatenate((self.b, self.A, np.identity(self.m), np.zeros((self.m, 1))), 1)))\n",
    "    def get_pivot_indices(self):\n",
    "        pivot_j = None\n",
    "        pivot_i = None\n",
    "        ratio_list = []\n",
    "        for j in range(self.n):\n",
    "            if self.T[0, j + 1] < 0:\n",
    "                pivot_j = j\n",
    "                break\n",
    "        for i in range(self.m):\n",
    "            if self.T[i + 1, pivot_j + 1] > 0:\n",
    "                ratio_list.append((i, self.T[i + 1, 0] / self.T[i + 1, pivot_j + 1]))\n",
    "        assert ratio_list, 'The problem is unbounded and has no solutions.'\n",
    "        pivot_i = min(ratio_list, key=lambda x: x[1])[0]\n",
    "        return pivot_j, pivot_i\n",
    "    \n",
    "    def pivot(self):\n",
    "        if np.all(self.T[0, 1:] >= 0):\n",
    "            return False\n",
    "        pivot_j, pivot_i = self.get_pivot_indices()\n",
    "        index_i = None\n",
    "        index_j = None\n",
    "        for k, variable in enumerate(self.index_list):\n",
    "            if variable == self.slack[pivot_i]:\n",
    "                index_i = k\n",
    "            elif variable == self.non_slack[pivot_j]:\n",
    "                index_j = k\n",
    "        self.index_list[index_i], self.index_list[index_j] = self.index_list[index_j], self.index_list[index_i]\n",
    "        self.T[pivot_i + 1, :] /= self.T[pivot_i + 1, pivot_j + 1]\n",
    "        for i in range(self.m + 1):\n",
    "            if i == pivot_i + 1:\n",
    "                pass\n",
    "            else:\n",
    "                self.T[i, :] -= self.T[i, pivot_j + 1] * self.T[pivot_i + 1, :]\n",
    "        return True\n",
    "    \n",
    "    def solve(self):\n",
    "        while self.pivot():\n",
    "            pass\n",
    "        basic_dict = dict(zip(self.index_list[:self.m], self.T[1:, 0]))\n",
    "        non_basic_dict = dict(zip(self.index_list[self.m:], self.T[0, 1:self.n + 1]))\n",
    "        max_val = self.T[0, 0]\n",
    "        return max_val, basic_dict, non_basic_dict"
   ]
  },
  {
   "cell_type": "code",
   "execution_count": 3,
   "metadata": {},
   "outputs": [
    {
     "name": "stdout",
     "output_type": "stream",
     "text": [
      "(5.2000000000000002, {2: 0.59999999999999964, 0: 1.6000000000000001, 1: 0.19999999999999982}, {3: 0.0, 4: 0.0})\n"
     ]
    }
   ],
   "source": [
    "lp1 = LinearProgram([[3], [2]], [[1, -1], [3, 1], [4, 3]], [[2], [5], [7]])\n",
    "print(lp1.solve())"
   ]
  },
  {
   "cell_type": "code",
   "execution_count": 4,
   "metadata": {
    "collapsed": true
   },
   "outputs": [],
   "source": [
    "data = np.load('../productMix.npz')\n",
    "lp2 = LinearProgram(np.row_stack(data['p']), np.concatenate((data['A'], np.identity(4))), np.concatenate((np.row_stack(data['m']), np.row_stack(data['d']))))"
   ]
  },
  {
   "cell_type": "code",
   "execution_count": 5,
   "metadata": {},
   "outputs": [
    {
     "name": "stdout",
     "output_type": "stream",
     "text": [
      "Amount of good 0 produced: 10.0\n",
      "Amount of good 1 produced: 6.192982456140348\n",
      "Amount of good 2 produced: 12.0\n",
      "Amount of good 3 produced: 1.7894736842105292\n"
     ]
    }
   ],
   "source": [
    "solution = lp2.solve()\n",
    "for i in range(4):\n",
    "    print('Amount of good {} produced: {}'.format(i, solution[1][i]))"
   ]
  },
  {
   "cell_type": "code",
   "execution_count": null,
   "metadata": {
    "collapsed": true
   },
   "outputs": [],
   "source": []
  },
  {
   "cell_type": "code",
   "execution_count": null,
   "metadata": {
    "collapsed": true
   },
   "outputs": [],
   "source": []
  },
  {
   "cell_type": "code",
   "execution_count": null,
   "metadata": {
    "collapsed": true
   },
   "outputs": [],
   "source": []
  }
 ],
 "metadata": {
  "kernelspec": {
   "display_name": "Python 3",
   "language": "python",
   "name": "python3"
  },
  "language_info": {
   "codemirror_mode": {
    "name": "ipython",
    "version": 3
   },
   "file_extension": ".py",
   "mimetype": "text/x-python",
   "name": "python",
   "nbconvert_exporter": "python",
   "pygments_lexer": "ipython3",
   "version": "3.6.1"
  }
 },
 "nbformat": 4,
 "nbformat_minor": 2
}
