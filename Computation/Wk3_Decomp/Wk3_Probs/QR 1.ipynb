{
 "cells": [
  {
   "cell_type": "code",
   "execution_count": 95,
   "metadata": {},
   "outputs": [
    {
     "name": "stdout",
     "output_type": "stream",
     "text": [
      "(6, 4) (6, 4) (4, 4)\n",
      "True\n",
      "True\n",
      "True\n",
      "(6, 4) (6, 4) (4, 4)\n",
      "True\n",
      "True\n",
      "True\n"
     ]
    }
   ],
   "source": [
    "import numpy as np\n",
    "import scipy.linalg as la\n",
    "\n",
    "def algorithm1(A):\n",
    "    m, n = np.shape(A)\n",
    "    Q = np.copy(A)\n",
    "    R = np.zeros((n, n))\n",
    "    for i in range(n):\n",
    "        R[i, i] = la.norm(Q[:, i])\n",
    "        Q[:, i] /= R[i, i]\n",
    "        for j in range(i + 1, n):\n",
    "            R[i, j] = Q[:, j]@Q[:, i]\n",
    "            Q[:, j] -= R[i, j] * Q[:, i]\n",
    "    return Q, R\n",
    "\n",
    "A = np.random.random((6,4))\n",
    "Q,R = la.qr(A, mode=\"economic\")\n",
    "print(A.shape, Q.shape, R.shape)\n",
    "print(np.allclose(np.triu(R), R))\n",
    "print(np.allclose(np.dot(Q.T, Q), np.identity(4)))\n",
    "print(np.allclose(np.dot(Q, R), A))\n",
    "\n",
    "Q,R = algorithm1(A)\n",
    "print(A.shape, Q.shape, R.shape)\n",
    "print(np.allclose(np.triu(R), R))\n",
    "print(np.allclose(np.dot(Q.T, Q), np.identity(4)))\n",
    "print(np.allclose(np.dot(Q, R), A))"
   ]
  },
  {
   "cell_type": "code",
   "execution_count": 80,
   "metadata": {
    "collapsed": true
   },
   "outputs": [],
   "source": [
    "def get_abs_det(A): return np.product(np.diagonal(la.qr(A, mode=\"economic\")[1]))"
   ]
  },
  {
   "cell_type": "code",
   "execution_count": 81,
   "metadata": {
    "collapsed": true
   },
   "outputs": [],
   "source": [
    "def solver(A, b):\n",
    "    m, n = np.shape(A)\n",
    "    if m != n:\n",
    "        raise ValueError('Please enter an n x n matrix.')\n",
    "    Q, R = la.qr(A, mode=\"economic\")\n",
    "    y = Q.T@b\n",
    "    x = np.zeros_like(y)\n",
    "    for i, row in enumerate(reversed(R)):\n",
    "        x[n - 1 - i] = (y[n - 1 - i] - row[n - i:]@x[n - i:]) / row[n - 1 - i]\n",
    "    return x"
   ]
  },
  {
   "cell_type": "code",
   "execution_count": 88,
   "metadata": {},
   "outputs": [
    {
     "name": "stdout",
     "output_type": "stream",
     "text": [
      "(5, 3) (5, 5) (5, 3)\n"
     ]
    },
    {
     "data": {
      "text/plain": [
       "True"
      ]
     },
     "execution_count": 88,
     "metadata": {},
     "output_type": "execute_result"
    }
   ],
   "source": [
    "def algorithm2(A):\n",
    "    m, n = np.shape(A)\n",
    "    R = np.copy(A)\n",
    "    Q = np.identity(m)\n",
    "    sign = lambda x: 1 if x >= 0 else -1\n",
    "    for k in range(n):\n",
    "        u = np.copy(R[k:,k])\n",
    "        u[0] += sign(u[0]) * la.norm(u)\n",
    "        u /= la.norm(u)\n",
    "        R[k:,k:] -= np.outer(2 * u, u.T@R[k:,k:])\n",
    "        Q[k:,:] -= np.outer(2 * u, u.T@Q[k:,:])\n",
    "    return Q.T,R\n",
    "\n",
    "A = np.random.random((5,3))\n",
    "Q,R = algorithm2(A)\n",
    "print(A.shape, Q.shape, R.shape)\n",
    "np.allclose(Q.dot(R), A)"
   ]
  },
  {
   "cell_type": "code",
   "execution_count": 93,
   "metadata": {},
   "outputs": [
    {
     "name": "stdout",
     "output_type": "stream",
     "text": [
      "True\n",
      "True\n",
      "True\n",
      "True\n"
     ]
    }
   ],
   "source": [
    "def algorithm3(A):\n",
    "    m, n = np.shape(A)\n",
    "    H = np.copy(A)\n",
    "    Q = np.identity(m)\n",
    "    sign = lambda x: 1 if x >= 0 else -1\n",
    "    for k in range(n - 2):\n",
    "        u = np.copy(H[k+1:,k])\n",
    "        u[0] += sign(u[0]) * la.norm(u)\n",
    "        u /= la.norm(u)\n",
    "        H[k+1:,k:] -= np.outer(2 * u, u.T@H[k+1:,k:])\n",
    "        H[:,k+1:] -= np.outer(2 * (H[:,k+1:]@u), u.T)\n",
    "        Q[k+1:,:] -= np.outer(2 * u, u.T@Q[k+1:,:])\n",
    "    return H,Q.T\n",
    "\n",
    "A = np.random.random((8,8))\n",
    "H, Q = la.hessenberg(A, calc_q=True)\n",
    "print(np.allclose(np.triu(H, -1), H))\n",
    "print(np.allclose(np.dot(np.dot(Q, H), Q.T), A))\n",
    "\n",
    "A = np.random.random((8,8))\n",
    "H, Q = algorithm3(A)\n",
    "print(np.allclose(np.triu(H, -1), H))\n",
    "print(np.allclose(np.dot(np.dot(Q, H), Q.T), A))"
   ]
  },
  {
   "cell_type": "code",
   "execution_count": null,
   "metadata": {
    "collapsed": true
   },
   "outputs": [],
   "source": []
  }
 ],
 "metadata": {
  "kernelspec": {
   "display_name": "Python 3",
   "language": "python",
   "name": "python3"
  },
  "language_info": {
   "codemirror_mode": {
    "name": "ipython",
    "version": 3
   },
   "file_extension": ".py",
   "mimetype": "text/x-python",
   "name": "python",
   "nbconvert_exporter": "python",
   "pygments_lexer": "ipython3",
   "version": "3.6.1"
  }
 },
 "nbformat": 4,
 "nbformat_minor": 2
}
