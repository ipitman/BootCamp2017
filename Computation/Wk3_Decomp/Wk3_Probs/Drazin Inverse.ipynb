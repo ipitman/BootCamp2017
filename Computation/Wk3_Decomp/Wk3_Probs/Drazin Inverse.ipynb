{
 "cells": [
  {
   "cell_type": "code",
   "execution_count": 2,
   "metadata": {},
   "outputs": [
    {
     "data": {
      "text/plain": [
       "True"
      ]
     },
     "execution_count": 2,
     "metadata": {},
     "output_type": "execute_result"
    }
   ],
   "source": [
    "import numpy as np\n",
    "from numpy.linalg import matrix_power\n",
    "\n",
    "def is_drazin(A, k, AD):\n",
    "    return np.allclose(A@AD, AD@A) and np.allclose(matrix_power(A,k + 1)@AD, matrix_power(A,k)) and np.allclose(AD@A@AD, AD)\n",
    "\n",
    "A = np.array([[1, 3, 0, 0],\n",
    "[0, 1, 3, 0],\n",
    "[0, 0, 1, 3],\n",
    "[0, 0, 0, 0]])\n",
    "\n",
    "AD = np.array([\n",
    "[1, -3, 9, 81],\n",
    "[0, 1, -3, -18],\n",
    "[0, 0, 1, 3],\n",
    "[0, 0, 0, 0]])\n",
    "\n",
    "k = 1\n",
    "\n",
    "is_drazin(A, k, AD)"
   ]
  },
  {
   "cell_type": "code",
   "execution_count": 3,
   "metadata": {},
   "outputs": [
    {
     "data": {
      "text/plain": [
       "array([[  1.,  -3.,   9.,  81.],\n",
       "       [  0.,   1.,  -3., -18.],\n",
       "       [  0.,   0.,   1.,   3.],\n",
       "       [  0.,   0.,   0.,   0.]])"
      ]
     },
     "execution_count": 3,
     "metadata": {},
     "output_type": "execute_result"
    }
   ],
   "source": [
    "import scipy.linalg as la\n",
    "\n",
    "def drazin(A, tol):\n",
    "    (n, n) = np.shape(A)\n",
    "    Q1, S, k1 = la.schur(A, sort=lambda x: abs(x) > tol)\n",
    "    Q2, T, k2 = la.schur(A, sort=lambda x: abs(x) <= tol)\n",
    "    U = np.concatenate((S[:,:k1], T[:,:n-k1]), 1)\n",
    "    U_inv = la.inv(U)\n",
    "    V = U_inv@A@U\n",
    "    Z = np.zeros((n, n), dtype = np.float64)\n",
    "    if k1 != 0:\n",
    "        M_inv = la.inv(V[:k1,:k1])\n",
    "        Z[:k1,:k1] = M_inv\n",
    "    return U@Z@U_inv\n",
    "\n",
    "tol=1e-5\n",
    "\n",
    "drazin(A, tol)"
   ]
  },
  {
   "cell_type": "code",
   "execution_count": 12,
   "metadata": {},
   "outputs": [
    {
     "name": "stdout",
     "output_type": "stream",
     "text": [
      "True\n",
      "True\n",
      "True\n"
     ]
    }
   ],
   "source": [
    "def R(A):\n",
    "    (n, n) = np.shape(A)\n",
    "    D = np.diag(A.sum(1))\n",
    "    L = D - A\n",
    "    I = np.identity(n)\n",
    "    R = np.zeros((n, n))\n",
    "    for j in range(n):\n",
    "        L_j = L.copy()\n",
    "        L_j[j, :] = I[j, :]\n",
    "        L_jD = drazin(L_j, 1e-5)\n",
    "        R[:, j] = np.diag(L_jD)\n",
    "        R[j, j] = 0\n",
    "    return R\n",
    "\n",
    "A=np.array([[0, 4],[4,0]])\n",
    "B=np.array([[0,1,1],[1,0,1],[1,1,0]])\n",
    "C=np.array([[0,1,0,0],[1,0,1,0],[0,1,0,1],[0,0,1,0]])\n",
    "print(R(A)[0,1]==0.25)\n",
    "print(R(B)[0,1]==2/3)\n",
    "print(R(C)[0,3]-3.0<1e-10)"
   ]
  },
  {
   "cell_type": "code",
   "execution_count": 100,
   "metadata": {},
   "outputs": [
    {
     "name": "stdout",
     "output_type": "stream",
     "text": [
      "Sonia\n",
      "Piers\n",
      "Abigail\n"
     ]
    }
   ],
   "source": [
    "import pandas as pd\n",
    "\n",
    "class LinkPredictor(object):\n",
    "    def __init__(self, filename):\n",
    "        data = pd.read_csv(filename)\n",
    "        self.names = pd.unique(data.values.ravel())\n",
    "        self.n = len(self.names)\n",
    "        self.A = pd.DataFrame(np.zeros((self.n, self.n)), index=self.names, columns=self.names)\n",
    "        for row in data.values:\n",
    "            self.A.loc[row[0], row[1]] +=1\n",
    "            self.A.loc[row[1], row[0]] += 1\n",
    "        self.R = pd.DataFrame(R(self.A.values), index=self.names, columns=self.names)\n",
    "    \n",
    "    def predict_link(self, node=None):\n",
    "        if node is None:\n",
    "            index = np.unravel_index(np.nanargmin(self.R[(self.A == 0)&(np.identity(self.n) == 0)].values), (self.n, self.n))\n",
    "            return self.A.index[index[0]], self.A.index[index[1]]\n",
    "        else:\n",
    "            try:\n",
    "                return self.R[(self.A == 0)&(np.identity(self.n) == 0)][node].idxmin()\n",
    "            except:\n",
    "                raise ValueError('Node is not in the network.')\n",
    "    \n",
    "    def add_link(self, node1, node2):\n",
    "        try:\n",
    "            self.A.loc[node1, node2] = 1\n",
    "            self.A.loc[node2, node1] = 1\n",
    "            self.R = pd.DataFrame(R(self.A.values), index=self.names, columns=self.names)\n",
    "        except:\n",
    "            raise ValueError('Node is not in the network.')\n",
    "\n",
    "lp = LinkPredictor('../social_network.csv')\n",
    "print(lp.predict_link('Alan'))\n",
    "lp.add_link('Alan', 'Sonia')\n",
    "print(lp.predict_link('Alan'))\n",
    "lp.add_link('Alan', 'Piers')\n",
    "print(lp.predict_link('Alan'))"
   ]
  },
  {
   "cell_type": "code",
   "execution_count": null,
   "metadata": {
    "collapsed": true
   },
   "outputs": [],
   "source": []
  }
 ],
 "metadata": {
  "kernelspec": {
   "display_name": "Python 3",
   "language": "python",
   "name": "python3"
  },
  "language_info": {
   "codemirror_mode": {
    "name": "ipython",
    "version": 3
   },
   "file_extension": ".py",
   "mimetype": "text/x-python",
   "name": "python",
   "nbconvert_exporter": "python",
   "pygments_lexer": "ipython3",
   "version": "3.6.1"
  }
 },
 "nbformat": 4,
 "nbformat_minor": 2
}
