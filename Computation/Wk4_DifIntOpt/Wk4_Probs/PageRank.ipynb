{
 "cells": [
  {
   "cell_type": "code",
   "execution_count": 113,
   "metadata": {},
   "outputs": [],
   "source": [
    "import numpy as np\n",
    "from scipy.linalg import norm, eig\n",
    "from scipy.sparse import dok_matrix\n",
    "import pandas as pd"
   ]
  },
  {
   "cell_type": "code",
   "execution_count": 44,
   "metadata": {},
   "outputs": [],
   "source": [
    "def get_A(filename, N):\n",
    "    data = []\n",
    "    with open(filename, 'r') as f:\n",
    "        for line in f:\n",
    "            try:\n",
    "                data.append(tuple((int(x) for x in line.strip().split())))\n",
    "            except:\n",
    "                pass\n",
    "    A = dok_matrix((N, N))\n",
    "    for edge in data:\n",
    "        A[edge[0], edge[1]] = 1\n",
    "    return A\n",
    "        \n",
    "\n",
    "A = get_adj('../matrix.txt', 8).toarray()"
   ]
  },
  {
   "cell_type": "code",
   "execution_count": 45,
   "metadata": {
    "collapsed": true
   },
   "outputs": [],
   "source": [
    "def get_K(A):\n",
    "    D_diag = np.sum(A, 1)\n",
    "    for i, rowsum in enumerate(D_diag):\n",
    "        if rowsum == 0:\n",
    "            A[i,:] += 1\n",
    "            D_diag[i] = sum(A[i,:])\n",
    "    return (np.diag(1 / D_diag)@A).T"
   ]
  },
  {
   "cell_type": "code",
   "execution_count": 54,
   "metadata": {},
   "outputs": [],
   "source": [
    "K = get_K(A)"
   ]
  },
  {
   "cell_type": "code",
   "execution_count": 79,
   "metadata": {},
   "outputs": [
    {
     "data": {
      "text/plain": [
       "array([ 0.43870407,  0.02171029,  0.02786154,  0.02171029,  0.02171029,\n",
       "        0.02786154,  0.04585394,  0.39461572])"
      ]
     },
     "execution_count": 79,
     "metadata": {},
     "output_type": "execute_result"
    }
   ],
   "source": [
    "def get_SS(A, N=None, d=0.85, tol=1e-5):\n",
    "    if N is None:\n",
    "        (N, N) = np.shape(A)\n",
    "        K = get_K(A)\n",
    "    else:\n",
    "        K = get_K(A[:N,:N])\n",
    "    p = np.random.random(N)\n",
    "    while True:\n",
    "        p_prime = d * K@p + ((1 - d) / N) * np.ones(N)\n",
    "        if la.norm(p_prime - p) < tol:\n",
    "            break\n",
    "        p = p_prime\n",
    "    return p_prime\n",
    "\n",
    "get_SS(A)"
   ]
  },
  {
   "cell_type": "code",
   "execution_count": 78,
   "metadata": {},
   "outputs": [
    {
     "data": {
      "text/plain": [
       "((0.999999999999999+0j),\n",
       " array([ 0.43869288,  0.02171029,  0.02786154,  0.02171029,  0.02171029,\n",
       "         0.02786154,  0.04585394,  0.39459924]))"
      ]
     },
     "execution_count": 78,
     "metadata": {},
     "output_type": "execute_result"
    }
   ],
   "source": [
    "def get_SS_eig_method(A, N=None, d=0.85):\n",
    "    if N is None:\n",
    "        (N, N) = np.shape(A)\n",
    "        K = get_K(A)\n",
    "    else:\n",
    "        K = get_K(A[:N,:N])\n",
    "    B = d * K + ((1 - d) / N) * np.ones(N)\n",
    "    eigs, vecs = eig(B)\n",
    "    return eigs[0], vecs[:,0] / sum(vecs[:,0])\n",
    "\n",
    "get_SS_eig_method(A)"
   ]
  },
  {
   "cell_type": "code",
   "execution_count": 140,
   "metadata": {},
   "outputs": [
    {
     "data": {
      "text/plain": [
       "[('Duke', 0.0096615547966975406),\n",
       " ('Butler', 0.0085389943342128131),\n",
       " ('Louisville', 0.0084984316239761094),\n",
       " ('Illinois', 0.0083358476525664162),\n",
       " ('Indiana', 0.0082256987111321758)]"
      ]
     },
     "execution_count": 140,
     "metadata": {},
     "output_type": "execute_result"
    }
   ],
   "source": [
    "def comp_ranking(filename):\n",
    "    data = pd.read_csv(filename, header=0)\n",
    "    teams = pd.Series(data.values.ravel()).unique()\n",
    "    A = pd.DataFrame(np.zeros((teams.size, teams.size)), index=teams, columns=teams)\n",
    "    for row in data.values:\n",
    "        A.loc[row[1], row[0]] = 1\n",
    "    return sorted(zip(teams, get_SS(A, d=0.7)), key=lambda x: -x[1])[:5]\n",
    "\n",
    "comp_ranking('../ncaa2013.csv')"
   ]
  }
 ],
 "metadata": {
  "kernelspec": {
   "display_name": "Python 3",
   "language": "python",
   "name": "python3"
  },
  "language_info": {
   "codemirror_mode": {
    "name": "ipython",
    "version": 3
   },
   "file_extension": ".py",
   "mimetype": "text/x-python",
   "name": "python",
   "nbconvert_exporter": "python",
   "pygments_lexer": "ipython3",
   "version": "3.6.1"
  }
 },
 "nbformat": 4,
 "nbformat_minor": 2
}
