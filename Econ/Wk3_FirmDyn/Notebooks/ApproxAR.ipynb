{
 "cells": [
  {
   "cell_type": "markdown",
   "metadata": {},
   "source": [
    "# Approximating Autoregressive Processes\n",
    "### by [Jason DeBacker](http://jasondebacker.com), July 2017\n",
    "This Jupyter notebook was written using Python 3.6. To execute all the code here, one will need a the Python script `ar1_approx.py` to be located in a directory with the relative path `..\\Code\\`.\n",
    "\n",
    "Consider the AR(1) process given by:\n",
    "\n",
    "$$ ln(z_{t+1}) = \\rho ln(z_{t}) + (1-\\rho)\\mu + \\varepsilon_{t}, $$\n",
    "\n",
    "where $\\varepsilon_{t}\\sim N(0,\\sigma_{\\varepsilon})$.  \n",
    "\n",
    "With such a process, $z$ can take on any value on the real line.  The distribution of $z$ looks like:"
   ]
  },
  {
   "cell_type": "code",
<<<<<<< HEAD
   "execution_count": 1,
   "metadata": {},
=======
   "execution_count": 2,
   "metadata": {
    "collapsed": false
   },
>>>>>>> OpenSourceMacro/master
   "outputs": [
    {
     "data": {
      "text/plain": [
<<<<<<< HEAD
       "<matplotlib.axes._subplots.AxesSubplot at 0x11ac25c88>"
      ]
     },
     "execution_count": 1,
=======
       "<matplotlib.axes._subplots.AxesSubplot at 0x1161241d0>"
      ]
     },
     "execution_count": 2,
>>>>>>> OpenSourceMacro/master
     "metadata": {},
     "output_type": "execute_result"
    },
    {
     "data": {
<<<<<<< HEAD
      "image/png": "iVBORw0KGgoAAAANSUhEUgAAAXIAAAD3CAYAAAAALt/WAAAABHNCSVQICAgIfAhkiAAAAAlwSFlz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\nQmCC\n",
      "text/plain": [
       "<matplotlib.figure.Figure at 0x1103415f8>"
=======
      "image/png": "iVBORw0KGgoAAAANSUhEUgAAAXIAAAD3CAYAAAAALt/WAAAABHNCSVQICAgIfAhkiAAAAAlwSFlz\nAAALEgAACxIB0t1+/AAAIABJREFUeJzt3Xl0W+d95vEvFu4rSIJaSFEr9ZJaLNuSHMmW9yipndhx\n1mk1aRs3buLpdOY0mTmt2zOdpdNpOu1xk/Q0mSZpk7RJ0zZJ4yx24iy1Y8WSVVv7yleiRFKiFooL\nuK9Y5g8QMq2FBEkAFwCfzzk6JnHBi981wIcXP7z3fV2RSAQREclcbqcLEBGR+VGQi4hkOAW5iEiG\nU5CLiGQ4BbmISIbzpvoBOzsHph0m4/MVEggMp6qcpNKxpCcdS3rSsUzP7y9x3Wpb2p2Re70ep0tI\nGB1LetKxpCcdy9ylXZCLiMjsKMhFRDKcglxEJMMpyEVEMpyCXEQkwynIRUQynIJcRCTDpfyCIBEn\ndPWNcOxsNz0DYwQjsNxfxGbjJyeLxi7LwqUgl6w2EQzxo33neWFfGxPB8Fu2Ff3Uy9u3LOOxe1bg\ndt3yojmRtKcgl6zVOzjGn//jIS53D1NWlMtjD62gpqqIxdWl/HRfK68eu8z3Xm3hYucgv/nYOp2d\nS8ZSkEtWGhqd4C/++TCXu4d54PalfOCBNRTmR1/ufn8JZfmreWRbHX/1L8fYbzvpHTrMJz64iYI8\n/UpI5tGHnZJ1xiZCfPbbR2nvHOKhO2v41XeaayE+VVF+Dp/8d7dzV2M1ze19/N2LTWjpQ8lECnLJ\nOt98qZnm9j7uaqxm1861uKbpf+d43Tz17nWsrinl9VNX+cXRyymsVCQxFOSSVU5f6OXlQxepqSri\no+9aF9eHmF6Pm48/vp7CPC/f+OlpLnYOpqBSkcRRkEvWmAiG+MqPmnABH3mkgRxv/C/vqrICfuNd\njYwHw3zlR2qxSGZRkEvW+MHeVjp6hnl4cy2ra8pm/fN3rvWzpaGac5f6eaPpahIqFEkOBblkhcDA\nGC/+2wUqSvN43/2r5ryfD9y/Co/bxbd/fvaGceci6UpBLlnhh/vaCIbCPH7PSvJz5z6EsNpXyMOb\na+nqG+Wlg+0JrFAkeRTkkvECA2O8cvgSVWX53L1h8bz39+67V1CY5+UHe1oZGQsmoEKR5FKQS8b7\n4WvRs/F3370Cr2f+L+nighze+bY6hseC7D5yKQEViiSXglwyWmBgjFeOXMRfnpiz8ZgH76ghN8fN\nz/ZfIBRWr1zSm4JcMtrLhy4SDEV4dNvyhJyNxxQX5LBj4xK6+8fY39SZsP2KJIOCXDJWMBRm95FL\nFOV72bY+cWfjMe/YugwX8OLr5zWuXNKaglwy1n57lf6hce7ZuIS8nMTPXFjtK+TOtX7argxw+kJv\nwvcvkigzjtMyxriBzwObgDHgKWtt85TtW4G/AFzAFeDD1trR5JQr8qaXDl4E4ME7a5L2GDu3LuPA\n6U5ePnQRU+dL2uOIzEc8Z+RPAPnW2u3AM8CzsQ3GGBfwJeBJa+0O4EVgeTIKFZnqfMcAze19bFhV\nwSJfYdIep762jCWVhRw83cXgyETSHkdkPuK5ciIW0Fhr9xljtkzZthboBj5hjNkAvGCttdPtzOcr\nxDvDBP5+f0kcZWUGHUtyfPOVcwC898H6OdU1m5/5pe0r+MrzJzl5vpd37Zj7VaPJkk7Py3zpWOYm\nniAvBfqmfB8yxnittUGgCrgb+G2gGXjeGLPfWvvSrXYWCAxP+2B+fwmdnQNxlJX+dCzJMREM8crB\ndnwleSyvLJx1XbM9lttWVuB2ufjh3hbuMv7ZlptU6fS8zJeOZeZ93ko8rZV+YOoe3JMhDtGz8WZr\n7Slr7QTRM/ct1+9AJJGONHczMhZk27pFuN3JX2uzrCiXTWsqOd8xSNuV7AgayS7xBPke4FEAY8w2\n4NiUbeeAYmPMmsnv7wVOJLRCkevsPX4FgO1JGHJ4KztuWwLAq1p4QtJQPEH+HDBqjNkLfJpoP3yX\nMeZj1tpx4KPAN4wxbwAXrLUvJLFeWeAGhsc5dq6bZdXF1FYXp+xxN66qpLQol30nrxAM6UpPSS8z\n9sittWHg6etubpqy/SXgrgTXJXJTr5+6SigcSenZOERXEdpqqvnXg+2caguwcVVlSh9fZDq6IEgy\nymsnruBywbb1i1L+2FsbqwF4/VRHyh9bZDoKcskYnb0jnLvUz7rlPsqL81L++Gtqy/CV5HHwdJcW\nnZC0oiCXjHHARiev2tqY+rNxALfLxdaGakbGgpxo6XGkBpGbUZBLxjhgr+Jywe31VY7VcNfkH5HX\nm9RekfShIJeM0NM/ytlL/TTU+SgtzHWsjpVLSqgqy+fQmS7GJ0KO1SEylYJcMsKB09G2ymaHr6x0\nuVxsbaxmbDzEcbVXJE0oyCUjHLCduIA71zp/iXyshkNntOCEpAcFuaS9vqFxzlzoZU1tmSOjVa63\nckkpZcW5HGnu1jJwkhYU5JL2Dp3uJAJsMdVOlwJER6/cvqaKwZEJmtv7Zv4BkSRTkEvaO9zcBcAd\nDo5Wud4d9bH2SpfDlYgoyCXNjU2EONUWoMZfRFV5gdPlXNO43EderofDZ7q0nqc4TkEuae1kaw8T\nwTC3r0mfs3GAHK+bjSsruNo7wsWuIafLkQVOQS5p7UhzNwCb0izIAe5Yq/aKpAcFuaStcCTCkbNd\nFBfksGpJqdPl3OC21ZW4XS6ONivIxVkKcklbbVcG6BscZ9PqypSsBDRbRfk5rKkp5dylfgaGx50u\nRxYwBbmkrSOTZ7rp2FaJ2bi6kgjoKk9xlIJc0taRs9143C7Wr6xwupRbum119I/MsXPdDlciC5mC\nXNJS/9A4bVcGWLusnIK8GReyckytvwhfSR7Hz/UQDmsYojhDQS5p6WRrtFWxIY3PxiE6idbGVZUM\njkzQcrnf6XJkgVKQS1qK9ZzTua0Sc9vq6PqdR8+qvSLOUJBL2olEIpxo6aG0MIfa6mKny5lR43If\nHreLo+qTi0MU5JJ22juH6BsaZ/3KCtyu9Bt2eL2CPC9rl5XTdmWA/iENQ5TUm/FTJGOMG/g8sAkY\nA56y1jZP2f4J4CkgNjnzx621Ngm1ygJxIoPaKjHrV1Zwqi3AybYetq1b7HQ5ssDEc0b+BJBvrd0O\nPAM8e932zcCvWWsfmPynEJd5OdESbVGsX5FBQT5Z68mWgMOVyEIUz7iuHcCLANbafcaYLddt3wz8\nvjFmMfCCtfZT0+3M5yvE6/VM+4B+f0kcZWUGHcvsjI4HOd3ex8qlpaxZmbwLgRJ9LJWVxZQW5dJ0\nPkBVVTGuFLaE9BpLT6k8lniCvBSYOnt+yBjjtdYGJ7//J+BzQD/wnDHm3dba52+1s0BgeNoH8/tL\n6OwciKOs9Kdjmb3j57qZCIZpWFaetMdL1rE01JXz+qmrHLMdLKksSvj+b0avsfSUjGOZ7g9DPK2V\nfmDqHtyxEDfGuIDPWGu7rLXjwAvAHfOoVRa4TBp2eL11k+2VE7pcX1IsniDfAzwKYIzZBhybsq0U\nOG6MKZ4M9YeAAwmvUhaMEy095Hrd1NeWO13KrF3rk7eqTy6pFU9r5TlgpzFmL+ACnjTG7AKKrbVf\nNMb8AfAy0REt/2qt/WHyypVs1tM/ysWuITauqiTHm3kjYyvL8lnkK6DpfIBgKIzXk3nHIJlpxiC3\n1oaBp6+7uWnK9q8BX0twXbIAnciQy/Kns25lBS8fvMi5S/2sXZZ57yokM+mUQdJGJo4fv96b7RX1\nySV1FOSSFsLh6GX5FaV5LKksdLqcOWuo8+F2ua69uxBJBQW5pIW2jgGGRoOsX1GR0jHYiVaY72Xl\n0hJaLg0wPBqc+QdEEkBBLmkhNuxww6pKhyuZv/UrKghHItjzGr0iqaEgl7RwqrUHF9GZBDPdtfHk\naq9IiijIxXFjEyGaL/ZRt6iE4oIcp8uZt1VLS8nL9XBC48klRRTk4rjmi30EQ5GsOBsH8HrcNCwr\np6NnmO6+UafLkQVAQS6Oa2qLnrk2rsiOIIfoeHJQe0VSQ0EujjvVFsDjdlFfW+Z0KQmj8eSSSgpy\ncdTwaJCWy/2sXFpKfm48M0ZkhiWVhfhK8jjZGiAciThdjmQ5Bbk46vSFXiIRWJcl/fEYl8tF43If\ngyMTtF8ddLocyXIKcnHUqVh/PMuCHN48ptgxiiSLglwcdaotOm3tqqXZ0x+PiY0nV5BLsinIxTH9\nQ+O0dw5RX1uWkdPWzsRXksfiikLshV6CobDT5UgWy77fHskYTZOXsDdkYVslpnGFj7HxEC2X+50u\nRbKYglwc82Z/PHOnrZ1J7EPcU7rKU5JIQS6OOdUWoCDPw/LFxU6XkjSmzocL9ckluRTk4ojuvlGu\nBkYwy3x43Nn7MiwuyKFuUQlnL/UxNhFyuhzJUtn7GyRpLdYfz8Zhh9drXOEjGIpwpr3X6VIkSynI\nxRGxleYXQpCrTy7JpiCXlItEIjSdD1BSmEONv8jpcpKuvrYcj9vFSfXJJUkU5JJyHYERAgNjNC73\nZfSybvHKy/WwuqaM81cGGByZcLocyUIzzlJkjHEDnwc2AWPAU9ba5pvc74tAj7X2mYRXKVnl1OSM\ngNk8fvx665b7OH2hF3s+wGZT7XQ5kmXiOSN/Asi31m4HngGevf4OxpiPAxsTXJtkqdhQvGybKGs6\nsbnW1V6RZIhn3tAdwIsA1tp9xpgtUzcaY+4G3gZ8AWiYaWc+XyFer2fa+/j9JXGUlRl0LG8VDkew\nF/rw+wpYV1/tWGsl1c+Lr6KIgrwjnL7Ql/DH1mssPaXyWOIJ8lKgb8r3IWOM11obNMYsAf4H8F7g\nQ/E8YCAwPO12v7+Ezs6BeHaV9nQsNzrfMcDA8Di3rV5MV5cz07s69bzU15Zz9Gw3p8914SvJS8g+\n9RpLT8k4lun+MMTTWukHpu7Bba0NTn79QaAK+CHRtssuY8xH5lamLATZPG3tTN6c1larBklixRPk\ne4BHAYwx24BjsQ3W2r+01m621j4A/CnwDWvtV5NQp2SJhTC/yq00ajy5JEk8rZXngJ3GmL2AC3jS\nGLMLKLbWfjGp1UlWCYbC2Au9LK4oTFhrIZPUVhdTXJDDybYAkUhkQQy9lNSYMcittWHg6etubrrJ\n/b6aoJokS7VeGWBsPLQg2yoAbpeLhuU+9jddpSMwwuKKQqdLkiyhC4IkZRZyfzzmzcv11SeXxFGQ\nS8osxAuBrqfx5JIMCnJJifGJEM0X+6mb7BMvVNXlBVSW5tHUFiAciThdjmQJBbmkxJmLfQRD4Wtn\npAuVy+WicXkFQ6NBLnQ4M45eso+CXFIiNuQutrL8QvZme0V9ckkMBbmkxMnWHjxuF2try50uxXEa\nTy6JpiCXpBsanaDtygCrl5aSlzv9PDsLQXlxHkurijjd3kswFHa6HMkCCnJJuqa2XiJAo9oq1zQu\n9zE+EebcpX6nS5EsoCCXpIvNLbJugX/QOVWsvXJS48klARTkknQnWwPk5XpYuaTU6VLSRkNdOS7X\nmxdJicyHglySKjAwxpWeYcyycrwevdxiCvNzWLG4hHOX+hkdD878AyLT0G+WJFWsdbCQL8u/lcbl\nFYTCEU5f6Jv5ziLTUJBLUml+lVuLjSfX/OQyXwpySZpIJMLJ1h5KCnOorS52upy0U19Thtfj1nhy\nmTcFuSTNlZ5hegfHaVzuw625t2+Qm+NhTU0p568OMjA87nQ5ksEU5JI0J1vVVplJbGx90/lehyuR\nTKYgl6S59kGnLgS6pWvzk2sYosyDglySIhyOYM/3UlWWT3V5gdPlpK0VS0ooyPNooQmZFwW5JEVb\nxwDDY0FdzTkDj9uNWeajIzBCT/+o0+VIhlKQS1K8OX5cbZWZNFy7XF/tFZkbBbkkxYkWXQgUrzf7\n5GqvyNx4Z7qDMcYNfB7YBIwBT1lrm6dsfz/wDBAB/sFa+9kk1SoZYnQ8yJn2PpYvKqG0KNfpctJe\njb+I0sIcTrYFiEQiuDRUU2YpnjPyJ4B8a+12ooH9bGyDMcYD/CnwdmA78FvGmKpkFCqZo6mtl1A4\nwoZVaqvEw+Vy0bDcR9/gOJe7h50uRzJQPEG+A3gRwFq7D9gS22CtDQGN1to+oBLwALqyYYE71tIN\nwIaVCvJ4xZbA0zBEmYsZWytAKTB1Vp+QMcZrrQ0CWGuDxpj3AZ8DXgCGptuZz1eI1zv9KjF+f0kc\nZWWGhXgsTW29FOR52XZ7bdrOeJhuz8s9d9Ty1R81cfZyP788y9rS7VjmQ8cyN/EEeT8wtSJ3LMRj\nrLXfMcZ8F/gq8GvAV261s0Bg+reOfn8JnZ0DcZSV/hbisXQEhrncPcSda/0Eeqb9m+6YdHxePIC/\nPJ8jZzq5fKUv7j+A6Xgsc6VjmXmftxLPq2UP8CiAMWYbcCy2wRhTaox5xRiTZ60NEz0b1yKEC9jx\nc9GRF2qrzN7GVZWMjIU4e1HT2srsxBPkzwGjxpi9wKeBTxhjdhljPmat7Qf+AdhtjHmV6MiVryev\nXEl3x8+pPz5XG1dVAnB08v+hSLxmbK1Mnmk/fd3NTVO2fxH4YoLrkgw0EQzTdL6XxRWFVOmy/Flr\nWO7D63Fz7GwPH3zA6Wokk6TnJ1GSkZrbexmbCGnY4Rzl5XhoqCunvXOQwMCY0+VIBlGQS8Ica4n1\nxysdriRzxdorx9RekVlQkEvCHD/Xg9fjxtSVO11Kxtq4ejLIzyrIJX4KckmIwMAY7Z2DmGVl5OVM\nf52A3NoiXwHV5QWcaO0hGNIAMImPglwSIjZJ1oZVaqvMh8vlYuOqSkbHQzS3axiixEdBLglxXJfl\nJ8zG1dH/h+qTS7wU5DJv4XCEEy09+EryWFpV5HQ5Gc/U+cjxujWeXOKmIJd5a7nSz9BokI2rKjQF\nawLk5XgwdeVc7BzSqkESFwW5zFtshIWGHSaOhiHKbCjIZd4ON3fhcbtYr/54wtwWu1xfwxAlDgpy\nmZfAwBjnOwYxdeUU5MUzmabEY1FFIdW+Ak62BTQMUWakIJd5OdLcBcCmNVoYKtE2rqpkbDzEGQ1D\nlBkoyGVeDk8G+e0K8oS7Nhvi2S6HK5F0pyCXORubCHGqLUBNVRF+zXaYcA115eTmuDncrD65TE9B\nLnN2srWHiWBYbZUkyc3xsGFlJR090VWXRG5FQS5zdmTyTFFtleS5oz76//bg6U6HK5F0piCXOQmH\nIxxu7qK4IIdVS0udLidrbVpThdvl4vAZ9cnl1hTkMidnL/XRPzTOHfVVuN26mjNZigtyqK8t4+yl\nfnoHtdiE3JyCXOYk9lZ/s/E7XEn2u2Nt9P9xbISQyPUU5DJrkUiEA7aT/FwPjct1NWeyxfrkaq/I\nrSjIZdYuXB2kq2+U21ZXkuPVSyjZ/OUF1PqLOdnaw8hY0OlyJA3pt1BmLdZWuXOt2iqpstn4CYYi\n166kFZlqxskxjDFu4PPAJmAMeMpa2zxl+68AvwMEgWPAb1lrNTlEFjt4uhOvx33tykNJvi0N1Xzv\n1RbeaLrKtvWLnS5H0kw8Z+RPAPnW2u3AM8CzsQ3GmALgj4EHrbX3AGXAu5NRqKSHjp5h2juH2LCy\nQpNkpVBNVRFLKgs5dk7tFblRPEG+A3gRwFq7D9gyZdsYcLe1dnjyey+gmfCz2OtNVwGNVnHC1oZq\ngqGwpraVG8RzSlUKTJ1+LWSM8Vprg5MtlA4AY8x/AoqBn063M5+vEK93+lXW/f6SOMrKDNl2LIfO\ndOH1uNm5fSVFBTlOlzRnmfi8vGP7Sr6/p5WjLT28+/41127PxGO5FR3L3MQT5P3A1Irc1tpr7+0m\ne+h/BqwF3m+tjUy3s0BgeLrN+P0ldHYOxFFW+su2Yzl86gqtl/u5o76K4cFRhgcz881Xpj4vBR5Y\nUlnI/lMdXLgYID/Xm7HHcjM6lpn3eSvxtFb2AI8CGGO2Ef1Ac6ovAPnAE1NaLJKF3jjVAcDWxmqH\nK1mYXC4Xm001E0G1V+St4jkjfw7YaYzZC7iAJ40xu4i2UfYDHwV+AbxkjAH4rLX2uSTVKw6JRCK8\nfuoquV63Jsly0F2N1Ty/t5V9Jzq4q3GR0+VImpgxyCf74E9fd3PTlK81Fn0BaLnUz5WeYbY0VJOf\nq9EqTqn1F1PrL+bYuW4GRybQR84CCmGJ0+5D7QDc1aC2itO2b1hEKBxh/+QIIhEFucwoHI7wysF2\nCvI83LZaFwE57W2Ni3AB+05ccboUSRMKcplR0/kAXX2jbG1YRG7O9ENHJfkqSvMxdeWcbu/jao/G\nF4iCXOKw51j0zO/uDbo0PF3ELtN/ZbLlJQubglymNToe5MDpqyyuLKS+tszpcmTSFuPH63Hx8oEL\nRCLTXrohC4CCXKZ1wHYyPhHmoc3LcLm0ElC6KMzP4Y56Pxc6Bjl3qd/pcsRhCnKZ1t7j0bbKg1uW\nOVyJXO/eTUsA+MXRSw5XIk5TkMstdfaO0NQWoL62jMWVRU6XI9dZt6ICv6+Afzt1ldFxzYi4kCnI\n5ZZ2H7lEBLj/9qVOlyI34Xa5ePvWOsbGQ+xv6nS6HHGQglxuKhgK84ujlynK97LF6CKgdPXw1jpc\nqL2y0CnI5aYOn+mif2ic7RsWa+x4GltUUUjjCh9n2vu43D3kdDniEAW53NQrhy8CcP/tNQ5XIjN5\nYPI5eungRYcrEacoyOUGV3tHONEa/ZCzpkofcqa72+ur8JXksefYZS0Dt0ApyOUGLx+MXi34gM7G\nM4LX4+aB25cyOh66NlxUFhYFubzFyFiQ3UcuUVqUyxbNdJgx7ru9Bo/bxUsH23Wl5wKkIJe3iL49\nD/HQnTXkePXyyBRlRblsbazmcvcwp9oCTpcjKabfVLkmHI7ws/3t0bfqd6itkmkevrMWgJ+8ccHh\nSiTVFORyzZHmLq72jrB9/SJKC3OdLkdmaXVNGWtqyjh6tpv2zkGny5EUUpDLNT+ePJPbuVXzqmSq\nR7ctB+BH+847XImkkoJcADh9oZfTF3rZsKqCWn+x0+XIHN22ppKlVUW8fqqD7r5Rp8uRFFGQCwA/\n2NsKwON3r3S2EJkXt8vFI2+rIxSO8OM3dFa+UCjIhXOX+jnR0kPjch9rtHhExnvbukX4SvLYfeQS\n/UPjTpcjKTBjkBtj3MaYvzbGvGaM+bkxZs1N7lNojNljjGlITpmSTD/Y0wLAY3evcLYQSQivx827\nti9nfCLMC6+1OV2OpEA8Z+RPAPnW2u3AM8CzUzcaY7YAu4HViS9Pkq3lcj9HznZTX1uGqSt3uhxJ\nkPs2LaWyNJ+XD12kp1+98mwXT5DvAF4EsNbuA7Zctz0PeC/QlNjSJNkikQjf/vlZAJ64d5WWcssi\nXo+bx3esIBgK8/zk5x+Svbxx3KcU6JvyfcgY47XWBgGstXsAjDFxPaDPV4jXO/20qH5/SVz7ygTp\nfCwHmjo41RZgc0M1922pm/H+6Xwss7UQjuU9D9Tz49cv8Iujl9n1yDqWZMAEaAvheUmGeIK8H5ha\nkTsW4nMRCAxPu93vL6Gzc2Cuu08r6Xws4XCEv/nucVzA43evmLHOdD6W2VpIx/LY3Sv4wvdP8MXv\nHOG33rsxhZXN3kJ6Xua6z1uJp7WyB3gUwBizDTiWmLLESa+duEJ75yB3b1jMsmqNG89WdzVWs7qm\nlP22kybNwZK14gny54BRY8xe4NPAJ4wxu4wxH0tuaZIsw6MTfOvnZ8n1unni3lVOlyNJ5HK52PX2\ntQB842dnCIXDDlckyTBja8VaGwaevu7mGz7YtNY+kKCaJMme291C/9A4779/FZVl+U6XI0m2ckkp\nOzYu4dVjl9l9+BIPTk6uJdlDFwQtMK1X+nnpUDtLKgt5510zf8Ap2eH9968iP9fDv7xyjt7BMafL\nkQRTkC8goXCYr/3YEonAh3euxevR079QlBXn8cEHVjM8Fpx8DWjxiWyi3+QF5If7ztNyeYBt6xfR\nuKLC6XIkxe6/owazrJxDZ7p4o+mq0+VIAinIF4i2KwN8/9UWyotzr334JQuL2+XiI482kOt18/Wf\nnKZP87BkDQX5AjARDPGl508SCkf4jXc1UlyQ43RJ4pBFvkLed98qBkcm+JsfnCCsFktWUJAvAP/w\n0zNc6hrioTtr2LCy0ulyxGFv37qM21ZXcqI1wI/2aVKtbKAgz3K7j1xi95FL1FUX86EHb5i4UhYg\nt8vFR9/ViK8kj+d2t3D6Qq/TJck8KcizWMvlfr7+E0tRvpf/+L6N5OZMP8eNLBwlhbl8/PH1AHzu\nuWN09o44XJHMh4I8S3X1jvCX3z5KKBTh44+vx19e4HRJkmbWLivn3++sZ2B4gs986wjDoxNOlyRz\npCDPQv3D4zz7zSP0DY3zyw/Xs2GV+uJycw/eWcs7ti7jcvcwn3vuOBPBkNMlyRwoyLPMyFiQz37r\nKB09wzyyrY6dW5c5XZKkuQ89uIY76qs41RaYDHPNx5JpFORZZHBkgj//x0O0XO7nno2L+cD9WrRJ\nZuZ2u3j6PevZsLKCo2e7+evvHScYUphnEgV5lugbHOPPvnGQ1isD7LhtCU8+0qgVfyRuOV4Pv/2+\njTQu93HoTBef+dYRRsbmvOyApJiCPAuc7xjgf//9fto7h3h4cy0feaQBt1shLrOTm+PhP3/gNm5f\nU8XJ1gCf+voBrfeZIRTkGe71Ux38ydcPEOgf4333rWLX2+tx60xc5igvJ3pm/uCdNbR3DvFHX32D\nE609TpclM1CQZ6iRsSBffuEUf/29E7hcLn77/Rt5990r1E6ReXO7XXx451p+5e31DI0G+Yt/Osx3\ndp9T3zyNxbNmp6SZ4+e6+fsfW7r6RqlbVMzHHlvP0gxYWFcyh8vlYueWZaypKeP/ffc4z+9t5fCZ\nTn79kQZWLy1zujy5joI8g1wNDPPPLzVz6EwXLhe8a/ty3rNjpeYVl6RZuaSU//nkVr758ll2H7nE\nn/z9Ae7dtIT37FiFryTP6fJkkoI8A1wNDPP83jb2Hr9COBJhbW0Zu3aupW7RrVfVFkmUwvwcPvJI\nA9vXL+JrPznN7iOXee1EBw/dWcPOLcuoKNVygU5TkKepcCTCyZYeXjp4kSNnu4hEYGlVEY/fs4Kt\nDdXqhUt/LBiLAAAHRUlEQVTKmTof/+s3trL32BW++2oLP379Aj/b387Wxmru37SUtcvK9bp0iII8\njYTCYc5d6md/UydvNHXQOxid+H/lklLeedcytjRUa0SKOMrjdnPvpqVsW7+I10508JM3LrDvRAf7\nTnRQVZbP29Yt4s61fpYvLtFrNYUU5A4KhcO0Xx2i+WIf9nyAk60BhicvwijK93LfpqXcf/tSVi4p\ndbhSkbfK8Xq4b9NS7r1tCU1tAfYcv8J+e5UXXmvjhdfaKC3Kpb62jPqaMlbXlrF8UYk+y0miGYPc\nGOMGPg9sAsaAp6y1zVO2Pwb8dyAIfNla+6Uk1ZqRIpEIgyMTBAbG6Oob5WLXEJe6hrjYOciVnmGC\noTdXaKkszeOuxmo2rali/coKvfAl7blcLhpXVNC4ooIPv2MtJ1p6OHymi+OtPRywnRywnQDkeN3U\nVRezuKKQRRWFLJ78V1mWT36uRy2ZeYrnjPwJIN9au90Ysw14FngPgDEmB/g0sBUYAvYYY75vre1I\nVsHxiEQiRAAiECFCbDWryOSN4citt0Umvw6FI4RCYYKhMBOh6NcToTChUGTyv2HGJ8KMjAUZHgtG\n/zv65tdDIxMMjATp7B256fjbvBwPy6qLWVZdzJqacupry6j2FegFLRkrP9fLZlPNZlNNJBKhu2+U\nMxf7aL7YR3N7H61XBjh7qf+Gn8vNcVNWlEtVeSGFeR6K8r3k53rJz/WQn+ulIM9DQV70+xyvB4/b\nhdfjxutxXfva43Hhccduc+NyEf2HC1wQvdDZdcPtLsiK37l4gnwH8CKAtXafMWbLlG2NQLO1NgBg\njHkVuA/4VqILbWoL8LnnjjE2EYbrAjgSTWXSafVBF1BekketvwhfSR6+kjwqS/NZUlVETVURlWX5\n6iFK1nK5XFSVF1BVXsD29YsBCIbCdPeNcrlnmI6eYa70DBMYGKNvcJzeoTFsW0/0JMuJeidrjv1K\nulyxW+P42ZvczcWNeeR2ufjAA6t5eHPt3Au9hXiCvBTom/J9yBjjtdYGb7JtAJj2agGfrxCvd/qV\navz+G4fVDQUjrFhaxkQwdNO/ptG/tFO+5q1Pylt+xu268Wevu7/H4ybH4ybH68brnfL11P/muCnK\nz6GoIOfafwvzvRQX5FCQn4Mny+Y7udnzkql0LM5YsriMDbfYFgpHGBgaZ3h0guHR2LvcCYZj73ZH\nJ5gIRt8lB6e8Sw4Gw4TCEYLBMMFwmGAwcu3d9tR35+FI5C3vxCNv+frG+8cjMovTR5fLxYra8qQ8\nX/EEeT8w9ZHdkyF+s20lwLQLAAYCw9M+mN9fQmfnwA23F3ld/JcPbYqjXIeFw4wMjTEyNHbLY8lE\nOpb0lG3HMjE6Tg5Qlu+hLN8DZZl50dF0z8tcn6/p/gDE82naHuBRgMke+bEp204B9caYCmNMLtG2\nymtzqlJEROYknjPy54Cdxpi9RDsTTxpjdgHF1tovGmM+CfyY6B+FL1trLyavXBERud6MQW6tDQNP\nX3dz05TtPwB+kOC6REQkThqoLCKS4RTkIiIZTkEuIpLhFOQiIhlOQS4ikuFckUg6XdguIiKzpTNy\nEZEMpyAXEclwCnIRkQynIBcRyXAKchGRDKcgFxHJcApyEZEMF880tilljCkCvgH4gHHg1zN1alxj\nTBnwdaIrKeUCn7TWZvR87caY9wIftNbucrqW2ZppIfFMY4x5G/B/rbUPOF3LfEyu/ftlYAWQB/yx\ntfb7jhY1R8YYD/AlwBBdZ+hpa+3xZD9uOp6R/yZwwFp7H9EQ/F2H65mPTwL/aq29H/gI8Dlny5kf\nY8xngU+Rnq+beFxbSBx4huhC4hnJGPO7wN8A+U7XkgAfBrqttfcCvwT8lcP1zMdjANbae4D/Bvyf\nVDxo2v1CWms/w5sHX8cMS8eluU8DX5j82guMOlhLIuwF/oPTRczDWxYSB7ZMf/e0dhZ4n9NFJMi3\ngD+c/NoFBKe5b1qz1n4X+Njkt8tJUX452loxxnwU+MR1Nz9prX3DGPMSsBHYmfrKZm+GY1lM9N3F\n76S+stmb5lj+2RjzgAMlJcp0C4lnFGvtvxhjVjhdRyJYawcBjDElwLeJnslmLGtt0Bjzd8B7gQ+k\n4jEdDXJr7d8Cf3uLbQ8ZYxqAF4DVKS1sDm51LMaYjcA/Af/VWvtKygubg+melww33ULi4iBjzDKi\ny0p+3lr7DafrmS9r7a8bY34P+DdjzDpr7VAyHy/tWivGmN83xvzq5LeDQMjJeubDGLOO6NvGXdba\nHzldj0y7kLg4xBizCPgJ8HvW2i87Xc98GGN+1Rjz+5PfDgPhyX9JlXajVoh+ev13k2/vPcCTDtcz\nH58i+mHUZ40xAH3W2vc4W9KCdsNC4g7XI1F/QHSU2h8aY2K98kestSMO1jRX3wG+YozZDeQAv5OK\n49A0tiIiGS7tWisiIjI7CnIRkQynIBcRyXAKchGRDKcgFxHJcApyEZEMpyAXEclw/x8Q9iHLAo+h\n0gAAAABJRU5ErkJggg==\n",
      "text/plain": [
       "<matplotlib.figure.Figure at 0x10e86e400>"
>>>>>>> OpenSourceMacro/master
      ]
     },
     "metadata": {},
     "output_type": "display_data"
    }
   ],
   "source": [
    "# import packages\n",
    "import matplotlib.pyplot as plt\n",
    "import seaborn as sns\n",
    "import numpy as np\n",
    "\n",
    "# to print plots inline\n",
    "%matplotlib inline\n",
    "\n",
    "# set our parameters\n",
    "rho = 0.8\n",
    "mu = 0.0\n",
    "sigma_eps = 0.2\n",
    "\n",
    "# draw our shocks\n",
    "num_draws = 100000 # number of shocks to draw\n",
    "eps = np.random.normal(0.0, sigma_eps, size=(num_draws))\n",
    "\n",
    "# Compute z\n",
    "z = np.empty(num_draws)\n",
    "z[0] = 0.0 + eps[0]\n",
    "for i in range(1, num_draws):\n",
    "    z[i] = rho * z[i - 1] + (1 - rho) * mu + eps[i]\n",
    "    \n",
    "\n",
    "# plot distribution of z\n",
    "# sns.distplot(z, hist=False)\n",
    "sns.kdeplot(np.array(z), bw=0.5)"
   ]
  },
  {
   "cell_type": "markdown",
   "metadata": {},
   "source": [
    "The distribution of $z$ should have variance = $\\sigma_{z}^{2} = \\frac{\\sigma_{\\epsilon}^{2}}{(1-\\rho)}$.  Let's check: "
   ]
  },
  {
   "cell_type": "code",
<<<<<<< HEAD
   "execution_count": 2,
   "metadata": {},
=======
   "execution_count": 3,
   "metadata": {
    "collapsed": false
   },
>>>>>>> OpenSourceMacro/master
   "outputs": [
    {
     "name": "stdout",
     "output_type": "stream",
     "text": [
      "Theoretical sigma_z =  0.3333333333333334\n",
<<<<<<< HEAD
      "Simulated sigma_z =  0.333982281926\n"
=======
      "Simulated sigma_z =  0.332545794167\n"
>>>>>>> OpenSourceMacro/master
     ]
    }
   ],
   "source": [
    "# theory says:\n",
    "sigma_z = sigma_eps / ((1 - rho ** 2) ** (1 / 2))\n",
    "print('Theoretical sigma_z = ', sigma_z)\n",
    "\n",
    "# from our simulation:\n",
    "sigma_z_simul = z.std()\n",
    "print('Simulated sigma_z = ', sigma_z_simul)"
   ]
  },
  {
   "cell_type": "markdown",
   "metadata": {},
   "source": [
    "Pretty close.  And it will get closer as you increae `N`.  \n",
    "\n",
    "For the computational solution to our dynamic programming problem, we'll want to approximate this continuous distribution with something over a finite grid.  There are a number of methods to do this (see Adda and Cooper (2003, pp. 56-59), Tauchen and Hussey (1991), and Rouwenhorst (1995) for some approaches).  What all of these approaches have in common is that they approximate the autoregressive process with a Markov process (technically a Markov chain, since it's over a finite grid). Generally, the approach is to divide the real line over which $z$ is defined into a finite set of intervals.  These approaches then compute the probabilities of transitioning between one interval and another to match the autoregressive processs.\n",
    "\n",
    "## 1. Adda-Cooper (2003) method\n",
    "\n",
    "Let us illustrate the general approach of these approximation methods through the Adda and Cooper (2003, pp. 56-59) (henceforth AC) method.  \n",
    "\n",
    "AC start by dividing the real line into intervals.  In particular, they divide the real line into intervals such that $z_{t}$ has an equal probability of falling into any of the intervals.  Since $\\varepsilon$ is distributed normally, the cut-off points given by $\\left\\{z^{i}\\right\\}_{i=0}^{N}$ for these intervals are defined by:\n",
    "\n",
    "$$ \\Phi\\left(\\frac{z^{i+1}-\\mu}{\\sigma_{z}}\\right) - \\Phi\\left(\\frac{z^{i}-\\mu}{\\sigma_{z}}\\right) = \\frac{1}{N}, $$\n",
    "\n",
    "where $N$ are the number of grid points in our discretized grid space and $\\Phi(\\cdot)$ is the cumulative density function of the standard normal distribution.  Solving this recursively we find that each cut-off point is given by:\n",
    "\n",
    "$$ z^{i} = \\sigma_{z} \\Phi^{-1}\\left(\\frac{i-1}{N}\\right) + \\mu $$ "
   ]
  },
  {
   "cell_type": "code",
<<<<<<< HEAD
   "execution_count": 3,
   "metadata": {},
=======
   "execution_count": 4,
   "metadata": {
    "collapsed": false
   },
>>>>>>> OpenSourceMacro/master
   "outputs": [
    {
     "name": "stdout",
     "output_type": "stream",
     "text": [
      "Cut-off values =  [       -inf -0.28054041 -0.08444903  0.08444903  0.28054041         inf]\n"
     ]
    }
   ],
   "source": [
    "# import packages\n",
    "from scipy.stats import norm\n",
    "\n",
    "# Compute cut-off values\n",
    "N = 5  # number of grid points (will have one more cut-off point than this)\n",
    "z_cutoffs = (sigma_z * norm.ppf(np.arange(N + 1) / N)) + mu\n",
    "print('Cut-off values = ', z_cutoffs)"
   ]
  },
  {
   "cell_type": "markdown",
   "metadata": {},
   "source": [
    "Now that we've defined the intervals through these cut-off values, we'll next want to compute the average value of $z$ in each of these intervals.  These values will be our grid points.  Let $z_{p}^{i}$ be grid point $i$ and define $z_{p}^{i}$ as the mean value of $z_{t}$ conditional on $z_{t}\\in\\left[z^{i},z^{i+1}\\right]$.  That is:\n",
    "\n",
    "$$ z_{p}^{i} = E\\left(z_{t}|z_{t}\\in \\left[z^{i},z^{i+1}\\right] \\right) = \\sigma_{z} \\frac{\\phi((z^{i}-\\mu)/\\sigma_z) - \\phi((z^{i+1}-\\mu)/\\sigma_z)}{\\Phi((z^{i+1}-\\mu)/\\sigma_z) - \\Phi((z^{i}-\\mu)/\\sigma_z)} + \\mu $$\n",
    "\n",
    "Simplifying:\n",
    "\n",
    "$$ z_{p}^{i} = N \\sigma_z \\left(\\phi\\left(\\frac{z^{i}-\\mu}{\\sigma_z}\\right) - \\phi\\left(\\frac{z^{i+1}-\\mu}{\\sigma_z}\\right) \\right) + \\mu $$"
   ]
  },
  {
   "cell_type": "code",
<<<<<<< HEAD
   "execution_count": 4,
   "metadata": {},
=======
   "execution_count": 5,
   "metadata": {
    "collapsed": false
   },
>>>>>>> OpenSourceMacro/master
   "outputs": [
    {
     "name": "stdout",
     "output_type": "stream",
     "text": [
      "Grid points =  [-0.4666032  -0.17730102  0.          0.17730102  0.4666032 ]\n"
     ]
    }
   ],
   "source": [
    "# compute grid points for z\n",
    "z_grid = ((N * sigma_z * (norm.pdf((z_cutoffs[:-1] - mu) / sigma_z)\n",
    "                              - norm.pdf((z_cutoffs[1:] - mu) / sigma_z)))\n",
    "              + mu)\n",
    "print('Grid points = ', z_grid)"
   ]
  },
  {
   "cell_type": "markdown",
   "metadata": {},
   "source": [
    "Now we have our grid points.  Next, we need to determine the transitions between these grid points.  We want these transition probabilities to be such they they match the autocorrelation in the AR(1) process we are modeling using a first over Markov process.\n",
    "\n",
    "Define the probability of transitioning between grid point i and grid point j as: \n",
    "\n",
    "$$ \\pi_{i,j} = P\\left( z_{t} \\in \\left[z^{j},z^{j+1} \\right] | z_{t-1} \\in \\left[z^{i},z^{i+1} \\right] \\right) $$\n",
    "\n",
    "Using the fact that $\\varepsilon \\sim N(0,\\sigma_{\\varepsilon})$, we have:\n",
    "\n",
    "$$ \\pi_{i,j} = \\frac{N}{\\sqrt{2\\pi\\sigma_{z}^{2}}} \\int_{z^{i}}^{z^{i+1}} e^{-(\\varepsilon - \\mu)^{2}/(2\\sigma_{z}^{2})} \\left[ \\Phi\\left(\\frac{z^{j+1} - \\mu(1-\\rho) - \\rho\\mu}{\\sigma_{\\varepsilon}}\\right) - \\Phi\\left(\\frac{z^{j} - \\mu(1-\\rho) - \\rho\\mu}{\\sigma_{\\varepsilon}}\\right) \\right] d\\varepsilon $$\n",
    "\n",
    "To find each $\\pi_{i,j}$, we ned to evaluate this integral.  We'll do so numerically."
   ]
  },
  {
   "cell_type": "code",
<<<<<<< HEAD
   "execution_count": 5,
   "metadata": {},
=======
   "execution_count": 6,
   "metadata": {
    "collapsed": false
   },
>>>>>>> OpenSourceMacro/master
   "outputs": [],
   "source": [
    "# import packages\n",
    "import scipy.integrate as integrate\n",
    "\n",
    "# define function that we will integrate\n",
    "def integrand(x, sigma_z, sigma_eps, rho, mu, z_j, z_jp1):\n",
    "    val = (np.exp((-1 * ((x - mu) ** 2)) / (2 * (sigma_z ** 2)))\n",
    "            * (norm.cdf((z_jp1 - (mu * (1 - rho)) - (rho * x)) / sigma_eps)\n",
    "               - norm.cdf((z_j - (mu * (1 - rho)) - (rho * x)) / sigma_eps)))\n",
    "    \n",
    "    return val\n",
    "\n",
    "# compute transition probabilities\n",
    "pi = np.empty((N, N))\n",
    "for i in range(N):\n",
    "    for j in range(N):\n",
    "        results = integrate.quad(integrand, z_cutoffs[i], z_cutoffs[i + 1],\n",
    "                                 args = (sigma_z, sigma_eps, rho, mu,\n",
    "                                         z_cutoffs[j], z_cutoffs[j + 1]))\n",
    "        pi[i,j] = (N / np.sqrt(2 * np.pi * sigma_z ** 2)) * results[0]\n",
    "        \n",
    "# print('Transition matrix = ', pi)\n",
    "# print('pi sums = ', pi.sum(axis=0), pi.sum(axis=1))"
   ]
  },
  {
   "cell_type": "markdown",
   "metadata": {},
   "source": [
    "We've now found \n",
    "\n",
    "$$ \\pi_{i,j} = P(z_{t}=z_{p}^{j}|z_{t-1}=z_{p}^{i}) $$\n",
    "\n",
    "Let's see how well this Markov process approximates the AR(1) above..."
   ]
  },
  {
   "cell_type": "code",
<<<<<<< HEAD
   "execution_count": 6,
   "metadata": {},
=======
   "execution_count": 7,
   "metadata": {
    "collapsed": false
   },
>>>>>>> OpenSourceMacro/master
   "outputs": [
    {
     "data": {
      "text/plain": [
<<<<<<< HEAD
       "<matplotlib.axes._subplots.AxesSubplot at 0x11e632a20>"
      ]
     },
     "execution_count": 6,
=======
       "<matplotlib.axes._subplots.AxesSubplot at 0x11670b0b8>"
      ]
     },
     "execution_count": 7,
>>>>>>> OpenSourceMacro/master
     "metadata": {},
     "output_type": "execute_result"
    },
    {
     "data": {
<<<<<<< HEAD
      "image/png": "iVBORw0KGgoAAAANSUhEUgAAAW8AAAD3CAYAAADSftWOAAAABHNCSVQICAgIfAhkiAAAAAlwSFlz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\nkOEtSQkyvCUpQYa3JCXI8JakBP0/58nWeqnWt2YAAAAASUVORK5CYII=\n",
      "text/plain": [
       "<matplotlib.figure.Figure at 0x110343cf8>"
=======
      "image/png": "iVBORw0KGgoAAAANSUhEUgAAAW8AAAD3CAYAAADSftWOAAAABHNCSVQICAgIfAhkiAAAAAlwSFlz\nAAALEgAACxIB0t1+/AAAEoNJREFUeJzt3WuMXGd9x/Hv7Mzuzl5mL47H60vs2EnKQxARpKWFck0r\nUAmiUFDbFwgEtKWioiqXtqFBRJUqEEVqS5FoVASkTVWhVkCp0guXiiqUlrQNNKEhTZ5gZ+04jmOv\n7b2NZ68z0xezvuUyuz47uztP8v1Imz0z85xz/s/u8W+feeack1yj0UCSlJaurS5AknT5DG9JSpDh\nLUkJMrwlKUGGtyQlqLAZO5mYmG15SsvoaD+Tk9XNKGXD2ZfOZF86k31prVwu5Z7ptY4YeRcK+a0u\noW3sS2eyL53JvmTXEeEtSbo8hrckJcjwlqQEGd6SlCDDW5ISZHhLUoIMb0lKkOEtSQkyvCUpQYa3\ntOKu+45tdQnSmhnekpQgw1taJ0fs2gqGtzrCRgfg1+8+vKHblzab4S1JCTK8JSlBhreS55yznosM\nb0lKkOEtSQkyvCUpQYa3JCXI8JakBBnekpSgwloahRBeCnwyxnhjCOFa4C+BBvBD4H0xxvrGlShJ\nerJVR94hhJuBzwPFlaf+BPhojPFVQA5488aVJ0l6OmuZNjkEvPWixz8BfHtl+WvAa9tdlCSptVWn\nTWKMXwkh7L/oqVyMsbGyPAsMr7aN0dF+CoV8yzblcmm1zSTDvly+0mAx877WtO7B06u2yVrDemrP\nymOsM21mX9Y05/0kF89vl4Cp1VaYnKy2fL1cLjExMZuhlM5jX7KZrcxn3tda112tTdYa1lN7Fh5j\nnWkj+tLqj0GWs03uDSHcuLJ8E/CdDNuQJK1DlpH3bwOfCyH0AA8CX25vSZKk1awpvGOMh4GXrSw/\nDLxmA2uSJK3Ci3QkKUGGtyQlyPCWpAQZ3pKUIMNbkhJkeEtSggxvSUqQ4S1JCTK8JSlBhrckJcjw\nlqQEGd6SlCDDW5ISZHhLUoIMb0lKkOEtSQkyvCUpQYa3JCXI8JakBBnekpQgw1uSEmR4S1KCDG9J\nSpDhLUkJMrwlKUGGtyQlyPCWpAQZ3pKUIMNbkhJkeEtSggxvSUpQIctKIYRu4A5gP1AD3hNjfKiN\ndUmSWsg68n4DUIgxvhz4A+Dj7StJkrSaTCNv4GGgEELoAoaApVaNR0f7KRTyLTdYLpcyltJ57Mvl\nKw0WM+9rTesePL1qm6w1rKf2rDzGOtNm9iVreFdoTpk8BGwH3tiq8eRkteXGyuUSExOzGUvpLPYl\nm9nKfOZ9rXXd1dpkrWE9tWfhMdaZNqIvrf4YZJ02+SDwjRjj84AXAXeEEIoZtyVJukxZR96TXJgq\nOQN0A63nRSRJbZM1vD8F3B5C+A7QA3wkxni2fWVJklrJFN4xxgrwy22uRZK0Rl6kI0kJMrwlKUGG\ntyQlyPCWpAQZ3pKUIMNbkhJkeEtSggxvSUqQ4S1JCTK8JSlBhrckJcjwlqQEGd6SlCDDW5ISZHhL\nUoIMb0lKkOEtSQkyvCUpQYa3JCXI8JakBBnekpQgw1uSEmR4S1KCDG9JSpDhLUkJMrwlKUGGtyQl\nyPCWpAQZ3pKUIMNbkhJUyLpiCOEW4E1AD3BbjPELbatKktRSppF3COFG4OXAK4DXAHvbWJMkaRVZ\nR94/B9wPfBUYAn63VePR0X4KhXzLDZbLpYyldB77cvlKg8XM+1rTugdPr9omaw3rqT0rj7HOtJl9\nyRre24GrgDcCB4A7QwjPjzE2nq7x5GS15cbK5RITE7MZS+ks9iWb2cp85n2tdd3V2mStYT21Z+Ex\n1pk2oi+t/hhkDe/TwEMxxkUghhDmgTJwMuP2JEmXIevZJv8OvD6EkAsh7AYGaAa6JGkTZArvGOM/\nAvcC/w38A/C+GGOtnYVJkp5Z5lMFY4w3t7MQSdLaeZGOJCXI8JakBBnekpQgw1uSEmR4S1KCDG9J\nSpDhLUkJMrwlKUGGtyQlyPCWpAQZ3pKUIMNbkhJkeEtSggxvSUqQ4S1JCTK8JSlBhrckJcjwlqQE\nGd6SlCDDW5ISZHhLUoIMb0lKkOEtSQkyvCUpQYa3JCXI8JakBBnekpQgw1uSEmR4S1KCDG9JSlBh\nPSuHEHYA3wdeF2N8qD0lSZJWk3nkHULoBj4LzLWvHEnSWqxn2uSPgD8HHm9TLZKkNco0bRJCeBcw\nEWP8RgjhltXaj472UyjkW7Ypl0tZSulI9uXylQaLmfe1pnUPnl61TdYa1lN7Vh5jnWkz+5J1zvtX\ngEYI4bXAi4G/CiG8Kcb4xNM1npysttxYuVxiYmI2Yymdxb5kM1uZz7yvta67WpusNayn9iw8xjrT\nRvSl1R+DTOEdY3z1ueUQwl3Ae58puCVJ7eepgpKUoHWdKggQY7yxDXVIki6DI29JSpDhLUkJMrwl\nKUGGtyQlyPCWpAQZ3pKUIMNbkhJkeEtSggxvSUqQ4S1JCTK8JSlBhrckJcjwlqQEGd6SlCDDW5IS\nZHhLUoIMb0lKkOEtSQkyvCUpQYa3JCXI8JakBBnekpQgw1uSEmR4S1KCDG9JSpDhLUkJMrwlKUGG\ntyQlyPCWpAQZ3pKUoEKWlUII3cDtwH6gF/hYjPHONtYlSWoh68j77cDpGOOrgNcDn2lfSZKk1WQa\neQNfAr68spwDlttTjiRpLTKFd4yxAhBCKNEM8Y+2aj862k+hkG+5zXK5lKWUjmRfLl9psJh5X2ta\n9+DpVdtkrWE9tWflMdaZNrMvWUfehBD2Al8FbosxfrFV28nJasttlcslJiZms5bSUexLNrOV+cz7\nWuu6q7XJWsN6as/CY6wzbURfWv0xyPqB5RjwTeA3Y4zfyliXJCmjrCPvjwCjwK0hhFtXnrspxjjX\nnrIkSa1knfN+P/D+NtciSVojL9KRpAQZ3pKUIMNbkhJkeEtSggxvSUqQ4S1JCTK8JSlBhrckJcjw\nlqQEGd6SlCDDW5ISZHhLUoIMb0lKkOEtSQkyvCUpQYa3JCXI8JakBBnekpQgw1uSEpT1f0AsdYTq\n0hxTyxM8dKbK7GKFytJZZhcrzNcWqNWXWW7UqNVrTMxW+d+FPnq6uunO99Cb76Gnq4dSzwDDvUMM\n9wwxV69Sb9TpyjmmUeczvNXx6o06p+bOcKxynMcrx5mYO73ydYqzS1UA/uW+1bdzuLp6m3++q4vt\nfdsY69/BWH+Zsf4yOwfG2DO4i958zzp7IrWP4a2OMzk/xaGpcQ5NH+GxyjGOVY6zUFu8pE0+l+eK\nvlH2D+1jvtLDdbt3MtgzQKl7kMGeQfoKRfK5PIWuPPlcngeOzPDC/cMs1BZZrC2xVF9kYXmRmcVZ\nphdnmFmY5UcnT1AoLnCyOsHJ6v9x/0X7y5FjbGAHewf3sK+0m31De7mqdCXd+e7N/eFIKwxvbalG\no8GJ6kkemb+fww98h0emxzk9P3n+9a5cF2P9ZfYM7uLKwd3sGdzFWH+Z0eLI+emNu+47xo0H9rTc\nT1++xkjvcMs2d1WPceOL99BoNKgsneVEdYIT1ZMcr5zg0dljPFY5xhNnT3DPif8BoJDLs2/oSroX\ntjM68UKuHr6KUs/gOn8i0toY3tpUtXqNo5VjHJwa59DUYQ5Nj5+f+qAK/YU+rt9+HdcMH+CakQPs\nHdy96aPbXC5HqWeQUs8g144cOP98vVFnYu40R2ceY3zmUR6ZPszhmaPUG0eI938fgLH+MlcP7+fa\nkQNcO3I1VxRHyeVym1q/nhsMb22ohdoi49NHODQ1zsHpwxyePsJifen866O9I1w39jzqs6Pc9MIb\n2Dmwo2M/MDz3LmCsv8xLdt4AwPzyAnfeey+D22d5ZPoI49NHuPv4Pdx9/B4ARnqHV4K8GeY7+3cY\n5moLw1ttVVk8y6Hp8fMj66OVY9Qb9fOv7xoY45rh/VyzEmjbiqNAc+pj9+DOrSo7s2Khlx3de89P\n29QbdY5VjnNw6tzPYJzvnbiP751ofqI60N3PtcMXwnzP4C7yXfmt7IISZXgrs3qjzvGzJ86POMdn\njnCyeur86125LvaVruSakf1cO3yAq0f2M9g9sIUVb7yuXBd7S3vYW9rDz+x9JY1Gg5PVCQ5OjfOj\nqXEOTY/zg1MP8INTDwDQm+9ZmWa5mmtHDrCvtIcez2rRGhjeWpNGo8GZ+UkeqzzOo7PHGJ8+wpGZ\no8zXFs63KeaLPH/0x5phPXKA/UP7nvNBlMs1z1IZG9jBK/a8FIDTc5Pn350cnBrnwTMP8+CZh4Fm\n+O8aGOOq0pXsG7qSq0p72T24k0KX/1R1KY8IPcVSbYknqif54ewZHjz+CMcqx3ms8jhzy/OXtBvr\n38GLh/dx9dBVHBi+qqPnqzvJFX2jXNE3yk/t/HEAZhcrzSmW6XGOzDzG0dnm6ZHfXZk3L+Ty7Fk5\n02bXwA7C8gH6l0uM9A47f/4cZng/Ry3Vljg9f4aT1VOcnDvFRPUUJ+dOM1E9xdTCNA0a59vmyLGj\nfzsv2Baap+uVdrN/aC8D3f1b2INnj1LPIDfsuJ4bdlwPNM/IeaJ6kiMzj3Fk9iiPzhzlscrjHJk9\n2lzhYPNbMd/LzoExdg7sYKyvzLbiCNv6trGtOMJQT8k/pM9ymcI7hNAF3Aa8CFgAfi3GeLCdheny\n1eo1qstznF2qUl2ucnapyvTCDFMLM0wvTDO1OLPyePrC6XlPcu7siLGBHVy382qG2cbuwZ1eXbiJ\n8l159gzuYs/gLl7OTwKwXF/mZPUUx8+eYIYpDk0c5YmzJzg6e4zDM48+ZRuFXJ5txVG2FUcZKQ4z\n1FOi1D3A4MopkKXu5vfB7gE/ME1U1pH3LwDFGONPhxBeBvwx8Ob2lXXBYm2JxdriJSNBgAYNGo0L\nj849d0mbCw3Ov/bUdS76b+PStpe82ri45ZPXvLCvue4ZzlTOPqWOBtCgTq1ep9aoUW80v9fq55Yv\ner5eo9aosVRfZqm2xEJ9kcVa82uhtsTiRY8Xa4vnA/vi+ednUsz3Mtw7zJ7B3WwrjjDWV6bcv50d\n/dvZ3nfFJSFdLpeYmJhddZvaeIWuArsHd7J7cOclv5davcbE3Ckm5k5zen6SM/OTnJmb5Mz8VPOd\n1eSpVbYMPV3dFAtF+gpFivkixUIvfYUivfleevI9dHcVKHQV6O4q0N3V/ZTlQleerlxX84sucrnc\nhce5LrpyuZXnm8v53MoyXdQr85yZOws0p38uTAKtPM6de3Tp9NDTTRddaLPKumzMVFPvQo7K4tmn\nPN/f3bch74Kyhvcrga8DxBj/M4TwkvaVdMHsYoXfv/sPn3JptJpy5OjJd9Nf6Gd73xX0d/czUOhr\nfu/up7/Qx1BPc250uHeIkd4hioXiVpetNsp35VemTsae9vWF2iJTC9NUFs8yu1Rp3rxrsXLR8lnm\na/PMLy9QXZ7jzPwkS/XlTe7Fs1sYvZbfuuHX277d3MWj0zUXE8Lnga/EGL+28vhR4OoYo791SdoE\nWcfyM0Dp4u0Y3JK0ebKG938AbwBYmfO+v3VzSVI7ZZ3z/irwuhDCd2l+OvDu9pUkSVpNpjlvSdLW\n8ix+SUqQ4S1JCTK8JSlBHXFvkxDCAPBFYBRYBN4ZYzy2tVVlE0IYBv4aGAJ6gA/FGO/e2qrWJ4Tw\nFuCXYoxv2+paLtez8VYOIYSXAp+MMd641bVkFULoBm4H9gO9wMdijHduaVEZhRDywOeAQPOi6/fG\nGH+40fvtlJH3e4DvxxhfTTP4bt7ietbjQ8C3YoyvAd4F/NnWlrM+IYRPA5+gc46Vy3X+Vg7A79G8\nlUOyQgg3A58HUr9U9u3A6Rjjq4DXA5/Z4nrW4+cBYoyvAD4KfHwzdtoR/yBjjH/KhQ7vA6a2sJz1\n+hTw2ZXlAjDfom0Kvgv8xlYXsQ6X3MoB2JBbOWyiQ8Bbt7qINvgScOvKcg5I9iK/GOPfA+euf7+K\nTcqvTZ82CSH8KvDBJz397hjjPSGEfwWuB1632XVlsUpfdtJ8F/GBza/s8rXoy9+GEG7cgpLaZQiY\nvuhxLYRQSPWK4BjjV0II+7e6jvWKMVYAQggl4Ms0R6zJijEuhxDuAN4C/OJm7HPTwzvG+AXgC8/w\n2s+GEJ4P/BNwzaYWlsEz9SWEcD3wN8DvxBi/vemFZdDq95I4b+XQoUIIe2le8HdbjPGLW13PesUY\n3xlC+DDwXyGEF8QYn3qLwTbqiGmTEMItIYR3rDysALWtrGc9QggvoPmW8G3nbtylLeWtHDpQCGEM\n+Cbw4Rjj7Vtdz3qEEN4RQrhl5WEVqK98baiOONuE5qfOd6y8dc+T9uX2n6D5YdKnQwgA0zHGDbnX\nudbEWzl0po/QPLvs1hDCubnvm2KMc1tYU1Z/B/xFCOHfgG7gA5vRDy+Pl6QEdcS0iSTp8hjekpQg\nw1uSEmR4S1KCDG9JSpDhLUkJMrwlKUH/D3koyAtMx/TMAAAAAElFTkSuQmCC\n",
      "text/plain": [
       "<matplotlib.figure.Figure at 0x10886be10>"
>>>>>>> OpenSourceMacro/master
      ]
     },
     "metadata": {},
     "output_type": "display_data"
    }
   ],
   "source": [
    "# Simulate the Markov process - will make this a function so can call later\n",
    "def sim_markov(z_grid, pi, num_draws):\n",
    "    # draw some random numbers on [0, 1]\n",
    "    u = np.random.uniform(size=num_draws)\n",
    "\n",
    "    # Do simulations\n",
    "    z_discrete = np.empty(num_draws)  # this will be a vector of values \n",
    "    # we land on in the discretized grid for z\n",
    "    N = z_grid.shape[0]\n",
    "    oldind = int(np.ceil((N - 1) / 2)) # set initial value to median of grid\n",
    "    z_discrete[0] = z_grid[oldind]  \n",
    "    for i in range(1, num_draws):\n",
    "        sum_p = 0\n",
    "        ind = 0\n",
    "        while sum_p < u[i]:\n",
    "            sum_p = sum_p + pi[ind, oldind]\n",
    "#             print('inds =  ', ind, oldind)\n",
    "            ind += 1\n",
    "        if ind > 0:\n",
    "            ind -= 1\n",
    "        z_discrete[i] = z_grid[ind]\n",
    "        oldind = ind\n",
    "                            \n",
    "    return z_discrete\n",
    "\n",
    "\n",
    "# Call simulation function to get simulated values\n",
    "z_discrete = sim_markov(z_grid, np.transpose(pi), num_draws)\n",
    "                            \n",
    "                            \n",
    "# Plot AR(1) and Markov approximation\n",
    "sns.distplot(z_discrete, hist=True, kde=False, norm_hist=True)\n",
    "sns.kdeplot(np.array(z), bw=0.5)"
   ]
  },
  {
   "cell_type": "markdown",
   "metadata": {},
   "source": [
    " ## 2.  Comparing methods\n",
    "    \n",
    "Working through the Adda-Cooper method was illustrative of how these approximations work.  Now let's compare across a few methods.  "
   ]
  },
  {
   "cell_type": "code",
<<<<<<< HEAD
   "execution_count": null,
   "metadata": {},
   "outputs": [],
=======
   "execution_count": 8,
   "metadata": {
    "collapsed": false
   },
   "outputs": [
    {
     "data": {
      "text/plain": [
       "<matplotlib.axes._subplots.AxesSubplot at 0x11664d208>"
      ]
     },
     "execution_count": 8,
     "metadata": {},
     "output_type": "execute_result"
    },
    {
     "data": {
      "image/png": "iVBORw0KGgoAAAANSUhEUgAAAWkAAAD3CAYAAADfYKXJAAAABHNCSVQICAgIfAhkiAAAAAlwSFlz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\n",
      "text/plain": [
       "<matplotlib.figure.Figure at 0x10886bf98>"
      ]
     },
     "metadata": {},
     "output_type": "display_data"
    }
   ],
>>>>>>> OpenSourceMacro/master
   "source": [
    "# import module with Markov approximation methods\n",
    "import sys\n",
    "sys.path.append('../Code')\n",
    "import ar1_approx as ar1\n",
    "\n",
    "# Use Rouwenhorst (1995) method\n",
    "N = 11\n",
    "num_sigma = 4\n",
    "step = (num_sigma * sigma_z) / (N / 2)\n",
    "pi_R, z_grid_R = ar1.rouwen(rho, mu, step, N)\n",
    "z_discrete_R = sim_markov(z_grid_R, pi_R, num_draws)\n",
    "\n",
    "# Plot AR(1) and Markov approximation\n",
    "sns.distplot(z_discrete_R, hist=True, kde=False, norm_hist=True)\n",
    "sns.kdeplot(np.array(z), bw=0.5)"
   ]
  },
  {
   "cell_type": "code",
<<<<<<< HEAD
   "execution_count": null,
   "metadata": {},
   "outputs": [],
=======
   "execution_count": 9,
   "metadata": {
    "collapsed": false
   },
   "outputs": [
    {
     "data": {
      "text/plain": [
       "<matplotlib.axes._subplots.AxesSubplot at 0x108885748>"
      ]
     },
     "execution_count": 9,
     "metadata": {},
     "output_type": "execute_result"
    },
    {
     "data": {
      "image/png": "iVBORw0KGgoAAAANSUhEUgAAAWkAAAD3CAYAAADfYKXJAAAABHNCSVQICAgIfAhkiAAAAAlwSFlz\nAAALEgAACxIB0t1+/AAAFVhJREFUeJzt3XlsnPl93/H3kMNDJEciJY1I3cfu+reW9tAelq/aURZd\nr+02aZymBWrE8NE2cJECcYLW7ro2igIJgqIJ2gCJkSD22m4Lo43jHNsWdoy6UQw3u971SvRqD/10\ny7taiaJEUuJ9Tv8gpZVWHM6Q4sz8SL9fAEE+8xy/73c5+uzDZ54jUygUkCSlqa7WBUiSijOkJSlh\nhrQkJcyQlqSEGdKSlLDscm+wt3ew6OkiHR0t9PePLPeQNbOa+rGXNNlLmirRSz6fy8z3elX3pLPZ\n+moOV3GrqR97SZO9pKmavXi4Q5ISZkhLUsIMaUlKmCEtSQkzpCUpYYa0JCXMkJakhBnSkpQwQ1qS\nEmZIa8U51H2eQ93nq7aeVEuGtCQlzJCWpIQZ0pKUsJK3Kg0hfAL4xNxkM7Af6IoxDlSuLEkSlBHS\nMcavAV8DCCH8AfCUAS1J1VH2Tf9DCI8C+2KMv7rQch0dLQveazWfz5Vf3QqwmvpZKb3k2pqBheud\nb14566VopdW7EHtZvMU8meXzwL8vtdBCTyvI53P09g4uYsi0raZ+VlIvg0NjAEXrLdZLqfVStJJ+\nL6XYS+ltzqesDw5DCO1AiDH+9XIWJUlaWLlnd7wf+F4lC5Ek3a7ckA7A6UoWIkm6XVnHpGOM/7HS\nhUiSbufFLJKUMENakhJmSEtSwgxpSUqYIS1JCTOkJSlhhrQkJcyQlqSEGdKSlDBDWpISZkhLUsIM\naUlKmCEtSQkzpCUpYYa0JCXMkJakhBnSkpQwQ1qSEmZIS1LCDGlJSlhZD6INITwJ/DzQCHwpxviV\nilYlSQLK2JMOIRwE3gO8F/gZYHuFa5IkzSlnT/oJ4Cjw58Ba4F9XtCJJ0g3lhPRGYCfw94HdwNMh\nhHtjjIX5Fu7oaCGbrS+6sXw+t5Q6k7Wa+lkpveTamoGF651vXjnrpWil1bsQe1m8ckL6CnAsxjgB\nxBDCGJAHLs23cH//SNEN5fM5ensHl1JnklZTPyupl8GhMYCi9RbrpdR6KVpJv5dS7KX0NudTztkd\nPwA+GELIhBC2AK3MBrckqcJKhnSM8X8BR4DngP8J/GqMcbrShUmSyjwFL8b42UoXIkm6nRezSFLC\nDGlJSpghLUkJM6QlKWGGtCQlzJCWpIQZ0pKUMENakhJmSEtSwgxpSUqYIS1JCTOkJSlhhrQkJcyQ\nlqSEGdKSlDBDWpISZkhLUsIMaUlKmCEtSQkzpCUpYYa0JCWsrKeFhxAOA9fmJs/EGD9ZuZIkSdeV\nDOkQQjOQiTEerHw5kqSblbMn/SDQEkL47tzyn48xPlvZsiRJUF5IjwC/A3wZuAf4dgghxBin5lu4\no6OFbLa+6Mby+dxS6kzWaupnpfSSa2sGFq53vnnlrJeilVbvQuxl8coJ6ePAyRhjATgeQrgCbAZe\nm2/h/v6RohvK53P09g4upc4kraZ+VlIvg0NjAEXrLdZLqfVStJJ+L6XYS+ltzqecszs+BfwuQAhh\nC7AWuLBslUmSiipnT/orwNdCCD8ACsCnih3qkCQtr5IhHWOcAD5ahVokSW/hxSySlDBDWpISZkhL\nUsIMaUlKmCEtSQkzpCUpYYa0JCXMkJakhBnSkpQwQ1qSEmZIS1LCDGlJSpghLUkJM6QlKWGGtCQl\nzJCWpIQZ0pKUMENakhJmSEtSwgxpSUqYIa2aOtR9nkPd52tdhpSskk8LBwghbAJeAB6PMR6rbEmS\npOtK7kmHEBqAPwJGK1+OlA738pWCcvakfwf4Q+DJcjbY0dFCNltfdH4+nyuvshViNfVTi15ybc2L\nHrucdeabt9ixllJbJdR6/OVkL4u3YEiHED4B9MYY/yqEUFZI9/ePFJ2Xz+fo7R1cVIEpW0391KqX\nwaExgEWNXWqdYr0sdqyl1LbcfI+lqRK9FAv9Uoc7PgU8HkI4BOwH/ksIoWtZK5MkFbXgnnSM8f3X\nf54L6k/HGC9WuihJ0ixPwZOkhJV1Ch5AjPFgBeuQJM3DPWlJSpghLUkJM6QlKWGGtCQlzJCWpIQZ\n0pKUMENakhJmSEtSwgxpSUqYIS1JCTOkJSlhhrQkJcyQlqSEGdKSlDBDWpISZkhLUsIMaUlKmCEt\nSQkzpCUpYYa0JCWs5INoQwj1wB8DASgAn44xvlTpwiRJ5e1J/xxAjPG9wBeA36poRZKkG0qGdIzx\nL4BfmZvcCQxUtCJJ0g0lD3cAxBinQghfBz4C/NJCy3Z0tJDN1hedn8/nFlVg6lZTP7XoJdfWvOix\ny1lnvnmLHWsptVVCrcdfTvayeGWFNECM8eMhhM8BPwwh7I0xDs+3XH//SNFt5PM5ensHF19lolZT\nP7XqZXBoDGBRY5dap1gvix1rKbUtN99jaapEL8VCv+ThjhDCx0IIT85NjgAzc1+SpAorZ0/6z4Cv\nhhC+DzQAn4kxjla2LEkSlBHSc4c1/nEVapEkvYUXs0hSwgxpSUqYIS1JCTOkJSlhhrQkJcyQlqSE\nGdKSlDBDWpISZkhLUsIMaUlKmCEtSQkzpCUpYYa0JCXMkJakhBnSkpQwQ1qSEmZIS1LCDGlJSpgh\nLUkJM6QlKWGGtCQlbMGnhYcQGoCngF1AE/CbMcanq1CXJInSe9K/DFyJMb4P+CDw+5UvSZJ03YJ7\n0sA3gT+d+zkDTJXaYEdHC9lsfdH5+Xyu7OJWgtXUTy16ybU1L3rsctaZb95ix1pKbZVQ6/GXk70s\n3oIhHWMcAggh5JgN6y+U2mB//0jRefl8jt7ewUWWmK7V1E+tehkcGgNY1Nil1inWy2LHWkpty833\nWJoq0Uux0C/5wWEIYTvw18B/jTF+Y1mrkiQtqNQHh53Ad4F/GWP8XnVKkiRdV+qY9OeBDuCLIYQv\nzr32oRjjaGXLkiRB6WPSvwb8WpVqkSS9hRezSFLCDGlJSpghLUkJM6QlKWGGtCQlzJCWpIQZ0pKU\nMENakhJmSEtSwgxpSUqYIS1JCTOkJSlhhrQkJcyQlqSEGdKSlDBDWpISZkhLUsIMaUlKmCEtSQkz\npLUsDnWf51D3+VqXkQT/W2g5lRXSIYR3hhAOVbgWSdJbLPi0cIAQwmeBjwHDlS9HknSzcvakTwG/\nWOlCJEm3K7knHWP8VghhV7kb7OhoIZutLzo/n8+Vu6kVYTX1cye95Nqal7SNpaxXzjrzzVvsWNXs\naSG+x9JUrV5KhvRi9fePFJ2Xz+fo7R1c7iFrZjX1c6e9DA6NASx6G0tZr9Q6xXpZ7FjV7KkY32Np\nqkQvxULfszskKWGGtCQlrKzDHTHGs8C7KluKJOmt3JOWpIQZ0pKUMENakhJmSGtVKRQKFAqFWpch\nLZtlP09aqoSpmSl6Rnq5MNzDSyMnGJkZ5OXuAkOTQwxNjjA0Oczk9CQFZgO6oa6BxvoGco05OprW\nsa5pLVdH6mipy7Hz6jRb2zbTWN9Q466k0gxpJadQKHBlrJ8TA6c52X+as4OvcWmkl5nCzK0L9s2G\ncVtDK50teRrrGshkMjQ01DM8Nsb49ARXx69xcbjnltVeeOF7ZMjQ1bqJbW1b2bl2G6Hjbja3dpLJ\nZKrYqVSaIa0kjEyO8kpf5OUrxzjRf5r+8YEb85rrm9iZ286Wtk42t3Zx6WI9bXXt/N39d9FU33jb\ntt56Ndj49AQD41f5m5dPMTxzjdaOUV4bPM/rQ29wYbiH53sOA7C2MUfouJuw/h7evv6eyjctlcGQ\nVs30jfVzcuzHnJ84xbd+cP7GnnJrQwsP5u/jnvY93N2+h61tXdRl3vz45NCV2Xs1zxfQ82mqb6Sz\nJc+mhgkADr5tKwAzhRl6R69weuAssf8kx/pP8HzPEZ7vOQLAhuxmtjbcxX2jzWxcs2HZ+pYWw5BW\nVY1MjnD40os8d/Ewp66evfH6jtxWHti4j/s27r0tlCulLlNHZ0uezpY8797yDgqFAheGezjWd5yj\nl1/l+MBprkxd4MVnfsDWts08sulBHu18iA1rOipem3SdIa2Km5qZ4uUrx3ju4mFeuvwqU4VpMmR4\nW/tdtE3sYHPjbj788L21LpNMJsOWti62tHXx2I7381eHT/DG5GlGm89zrO8ET5/+Dk+f/g73tO/h\nHV0P8VD+AVoa1tS6bK1yhrQqolAocObaOX548TBHel5keGr27oibWzs50PUw7+h8iI7m9qQfM9VU\n18Lupvs4+OATjEyO0t17lOcuHubEwGlODJzmT47/JfdteDsHuh5m34ZAts5/Tlp+vqu0rC6N9PLc\nxSM8f/Ewl8f6gNkP5B7b/j4OdD3CtrbNK/IMipaGNbxnywHes+UAfWP9/OhiNz/sOUx371G6e4/S\nmm3hkc4HOdD1MIVC/YrsUWkypHXHhiaGOTn2Y86NH+Obz14EoLGugXd0Psw7ux4mrL+7KseYq2V9\ncwcf2PWzPL7zIK8PXeC5iy/wo55uvn/+Gb5//hna6trZ2XQv940eZOOa9bUuVyucIa0lGZsa5+jl\nV/hRTzev9MW5MzMyvH392zjQ9TAPbNxHc7ap1mVWVCaTYXtuC9tzW/iFuz7Msf6TPHfxBY70vMTL\no8/y7555lrvW7eadmx/2+LWWzJBW2SZnpnj1SuRHPd0cvfwKEzOTAGxr28KG6bvY3hT40P631bjK\n2qivq2ffhsC+DYFtE6d5feIk1xrOcHzgFKeunuFPjv8l92/cyyObHmTfhkBjmacPSoa0FjQ1M8WJ\n/tMcvvRjjvS+xOjUKAD5NRt4tPMhHu3cT1frpqQ/AKy2hkwTu5v2cXD/B+gb6+f5i0dmP0C99CJH\nLr1IY10Dezfcy0Ob7ue+DffSnG2udclKmCGt24xOjfHKlWP8uPdlXr4SGZuefWbfusa1vHv7ozza\nuZ8duW1+OFaG9c0dPLHrMT6w82d5beg8Ry4dvfFhY3fvUbJ1Wd6+/h4eyj/Avo330tbQWuuSlRhD\nWswUZjjVd45nznZzrO8Ep66eZbowDcyGzLs2P8KD+fu4u333qvoAsJoymQw7ctvYkdvGz+/5IBeG\nezhy6UW6e1/i6OVXOXr5VTJk2LF2G3vXB/ZuCOzMbat12UqAIf1TaHpmmvNDFzh99Rwnr57heN/J\nG+cxw+zVf/dv3MsDG/exdYWeMpeymy+a+Xt7PkDP8CW6e1/ilb7I6avnOHftNb599v+wJruGvZvu\nZvua7dzVvpsdua2ei/1TyN/4KjdTmOHyaB+vD73B64NvcObqOc5e+8mND/0AOpraObB9P7tbdhE6\n7qGt0T+5q6mzdRNPtD7GE7seY3RqjOP9J3nlSuRY3wleeOMoL3AUmL3j366129mR28b23Fa257ay\nqWWjf92scob0KjE9M83lsT4ujfTSO3KZntHLvDF0kfNDbzA+PXHLsptbO9mzbid71u1iz7qd5Nds\n5PCpPgYvjNHWaUDX0ppsM/3nO9jMu/gn7/mH1LdO89zpo5wcOMupq2c4OXCGEwOnbyzfWN/I1tYu\nOls20dmap7NlE10teTasWe9e9ypR8rcYQqgDvgQ8CIwD/yzGeLLShWnW9Mw0w1MjDE0MMzw5zNDk\nCIMTg/SPX6V/bIC+sQEGxgfoH7962/2Wr99AaFvbFrbltrC1bTM7c9toaWipUTdarPUt7TzSuZ9H\nOvcDMDY1xutDF3ht8PyNr3ODr3Pm2k9uWS9DhnVNa+loamd9czvrmztY17SWtoZWco1tt3yvr6uv\nRWsqUzn/q/0FoDnG+O4QwruA3wX+wXIXMlOYYWRy9MaTNa67Pv3mE5EKty9TWGiduZ9vmnvz9t7c\n1k1bLRRZ5y1jjTZco29omJnCDNOFaaZnZr+/OT3NdGGGmcLs99npaSamJxifnmR8epyJmQnGp2e/\nZl8fZ2J6gtGpMYYmR26c8lZMhgxrG3PsWrudTWvybGrZSL5lI50tefJrNvr0kVWmOdvM3e27ubt9\n943XpmemuTx6hYsjvfSMXKJnuJfLY1foHxvg3OBrnLl2bsFttmTX0JJdQ1O2ieb6JpqzzTTXN9FU\n30RztonG+kaymSzZunqyddkbXw2ZW6frMnXUZerIkKEukyGTyVBH3ez3TB2jDde4OjxKhgyZTN3s\nMtSRycy+j4sp9ZnI7eveOn3z6guNM+/8Ios3j2cYmhy+5bXGuoaKnP9eTkj/HeA7ADHGZ0MIjy57\nFcBXX/4Ghy+9WIlNrzgNdQ00Z5voaFrHtrbNtDW00trYSq6hldaG2e/tze10NLXT3rTWPaGfcvV1\n9XS2bqKzdROw75Z5M4UZro5fo29sgMGJQQYnhxiaGGZwcojBiTd/Hp0aY2i0j/Hpidt2glSebF2W\nf3vg19nUkl/W7WZKPbQzhPBl4Fsxxm/PTf8E2BNjnFrWSiRJtynnY+FrQO7mdQxoSaqOckL6/wEf\nBpg7Jn20ohVJkm4o55j0nwOPhxD+ltnD6J+sbEmSpOtKHpOWJNWOlypJUsIMaUlKmCEtSQmr6sX9\nIYRW4BtABzABfDzGuCLvFh9CWAf8N2At0Aj8RozxmdpWdWdCCB8B/lGM8aO1rmWxVuPtC0II7wT+\nQ4zxYK1rWaoQQgPwFLALaAJ+M8b4dE2LWqIQQj3wx0Bg9gLkT8cYX6r0uNXek/7nwAsxxvczG3Cf\nrfL4y+k3gO/FGH8G+ATwB7Ut586EEH4P+G1W7l9XN25fAPwbZm9fsGKFED4LfBlY6Y9t+WXgSozx\nfcAHgd+vcT134ucAYozvBb4A/FY1Bq3qP8gY43/mzcZ2AAPVHH+Z/Sfgj+Z+zgJjNaxlOfwt8C9q\nXcQduOX2BUBFbl9QRaeAX6x1Ecvgm8AX537OACv2QrgY418AvzI3uZMq5VfFDneEEP4p8OtvefmT\nMcbnQwj/F7gfeLxS4y+nEr10MftXwWeqX9niLdDL/wghHKxBSctlLXD1punpEEJ2pV4dG2P8Vghh\nV63ruFMxxiGAEEIO+FNm90BXrBjjVAjh68BHgF+qxpgVC+kY41eArxSZ91gI4V7gfwN3VaqG5VKs\nlxDC/cB/B/5VjPFvql7YEiz0e1nhvH1BokII25m9KO5LMcZv1LqeOxVj/HgI4XPAD0MIe2OMwyVX\nugNVPdwRQngyhPCxuckhYLqa4y+nEMJeZv+U++j1m0+pprx9QYJCCJ3Ad4HPxRifqnU9dyKE8LEQ\nwpNzkyPAzNxXRVX70Q1PAV+f+5O7npV9iflvM/uhzu+FEACuxhiX/T7bKpu3L0jT55k9m+uLIYTr\nx6Y/FGNc+Ebpafoz4KshhO8DDcBnqtGHl4VLUsJW6ulWkvRTwZCWpIQZ0pKUMENakhJmSEtSwgxp\nSUqYIS1JCfv/xOa9iMWNNGAAAAAASUVORK5CYII=\n",
      "text/plain": [
       "<matplotlib.figure.Figure at 0x11661f908>"
      ]
     },
     "metadata": {},
     "output_type": "display_data"
    }
   ],
>>>>>>> OpenSourceMacro/master
   "source": [
    "# Use Tauchen and Hussey (1991) method\n",
    "wgt = 0.5 + rho / 4\n",
    "baseSigma = wgt * sigma_eps + (1 - wgt) * sigma_z \n",
    "N_TH = 8\n",
    "z_grid_TH, pi_TH = ar1.tauchenhussey(N_TH, mu, rho, sigma_eps, baseSigma)\n",
    "z_discrete_TH = sim_markov(z_grid_TH[0], np.transpose(pi_TH), num_draws)\n",
    "\n",
    "# Plot AR(1) and Markov approximation\n",
    "sns.distplot(z_discrete_TH, hist=True, kde=False, norm_hist=True)\n",
    "sns.kdeplot(np.array(z), bw=0.5)"
   ]
  },
  {
   "cell_type": "markdown",
   "metadata": {},
   "source": [
    "One caution here, if `N>8`, the results get a bit weird with represted values for in the $z$ grid and an asymetric distribution when simulated.  I'm not sure why grid points are repeated in thh $z$ grid, but I will look into this."
   ]
  },
  {
   "cell_type": "code",
<<<<<<< HEAD
   "execution_count": null,
   "metadata": {},
   "outputs": [],
=======
   "execution_count": 10,
   "metadata": {
    "collapsed": false
   },
   "outputs": [
    {
     "data": {
      "text/plain": [
       "<matplotlib.axes._subplots.AxesSubplot at 0x11703bcc0>"
      ]
     },
     "execution_count": 10,
     "metadata": {},
     "output_type": "execute_result"
    },
    {
     "data": {
      "image/png": "iVBORw0KGgoAAAANSUhEUgAAAXIAAAD4CAYAAADxeG0DAAAABHNCSVQICAgIfAhkiAAAAAlwSFlz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\n",
      "text/plain": [
       "<matplotlib.figure.Figure at 0x11703b390>"
      ]
     },
     "metadata": {},
     "output_type": "display_data"
    }
   ],
>>>>>>> OpenSourceMacro/master
   "source": [
    "# Use Adda and Cooper (2003) method\n",
    "z_grid_AC, pi_AC = ar1.addacooper(N, mu, rho, sigma_eps)\n",
    "z_discrete_AC = sim_markov(z_grid_AC, np.transpose(pi_AC), num_draws)\n",
    "\n",
    "# Plot AR(1) and Markov approximation\n",
    "sns.distplot(z_discrete_AC, hist=True, kde=False, norm_hist=True)\n",
    "sns.kdeplot(np.array(z), bw=0.5)"
   ]
  },
  {
   "cell_type": "markdown",
   "metadata": {},
   "source": [
    "Three 3 plots are highly illustrative of the approaches these different methods take.  Rouwenhorst (1995) chooses and evenly spaced grid over $z$ and then fits the transition matrix over these points to produced the normal distribution found in the stationary distribution of $z$. Adda and Cooper (2003) break the the real line up into intervals with equal probability density and we see this in the density that results from the Markov process.  Tauchen and Hussey (1991) is somewhat between the other two methods in this repsect.  The grid for $z$ is not evenly spaced, but the probability density of any particular grid point varies in the stationary distribution.\n",
    "\n",
    "Also notice how the range of values in the $z$ grid changes across methods.  The Rouwenhorst (1995) and Tauchen and Hussey (1991) methods allow you to set this range with `step` and `baseSigma`, respectively.\n",
    "\n",
    "You can play around with `N`, $\\rho$, $\\sigma_{\\varepsilon}$, and see how these approximations perform.  For a rigorous comparison of these approaches, please see Kopecky and Suen (2010).  They find that the Rouwenhorst (1995) method outperforms the others when $\\rho$ is close to one.  You might consider the peristence and variability in the shocks to your autoregressive process when choosing the most appropriate method for your problem."
   ]
  },
  {
   "cell_type": "code",
<<<<<<< HEAD
   "execution_count": null,
   "metadata": {},
   "outputs": [],
=======
   "execution_count": 11,
   "metadata": {
    "collapsed": false
   },
   "outputs": [
    {
     "data": {
      "text/plain": [
       "<matplotlib.axes._subplots.AxesSubplot at 0x11aa6de10>"
      ]
     },
     "execution_count": 11,
     "metadata": {},
     "output_type": "execute_result"
    },
    {
     "data": {
      "image/png": "iVBORw0KGgoAAAANSUhEUgAAAWkAAAD4CAYAAAAuNhccAAAABHNCSVQICAgIfAhkiAAAAAlwSFlz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\nGdKSlDBDWpIS9v8BotqnTUoO18cAAAAASUVORK5CYII=\n",
      "text/plain": [
       "<matplotlib.figure.Figure at 0x1171af860>"
      ]
     },
     "metadata": {},
     "output_type": "display_data"
    }
   ],
>>>>>>> OpenSourceMacro/master
   "source": [
    "# Try the Tauchen method from QuantEcon\n",
    "from quantecon import tauchen\n",
    "\n",
    "qe_result = tauchen(rho, sigma_eps, 3, N)\n",
    "pi_QE = qe_result.P\n",
    "z_grid_QE = np.linspace(-3*sigma_z, 3*sigma_z, N) # why can't this be returned from call to function??\n",
    "z_discrete_QE = sim_markov(z_grid_QE, np.transpose(pi_QE), num_draws)\n",
    "\n",
    "# Plot AR(1) and Markov approximation\n",
    "sns.distplot(z_discrete_QE, hist=True, kde=False, norm_hist=True)\n",
    "sns.kdeplot(np.array(z), bw=0.5)"
   ]
  },
  {
   "cell_type": "markdown",
   "metadata": {},
   "source": [
    "This looks close to Rouwenhorst since it also uses an evenly spaced grid.  I'm not sure why the `quantecon.tauchen` method only returns the transition matrix... maybe becuase it's simply a linear spaced grid over the specied range of the distribution."
   ]
  },
  {
   "cell_type": "markdown",
   "metadata": {},
   "source": [
    "## 3. References\n",
    "* Adda, Jerome and Russell Cooper, *Dynamic Economics: Quantitative Methods and Applications*, MIT Press (2003).\n",
    "* Kopecky, Karen and Richard Suen, \"Finite State Markov-chain Approximations to Highly Persistent Processes\", *Review of Economic Dynamics*, 13:3, pp. 701-714 (July 2010)\n",
    "* Rouwenhorst, K Geert, \"Asset Pricing Implications of Equilibrium Business Cycle Models\", in *Frontiers of Business Cycle Research* (Thomas F. Cooley Ed.), Princeton University Press (1995).\n",
    "* Tauchen, George and Robert Hussey, \"Quadrature-Based Methods for Obtaining Approximate Solutions to Nonlinear Asset Pricing Models\", *Econometrica*, 59:2, pp. 371-396, (1991)."
   ]
  },
  {
   "cell_type": "code",
   "execution_count": null,
   "metadata": {
    "collapsed": true
   },
   "outputs": [],
   "source": []
  }
 ],
 "metadata": {
  "kernelspec": {
   "display_name": "Python 3",
   "language": "python",
   "name": "python3"
  },
  "language_info": {
   "codemirror_mode": {
    "name": "ipython",
    "version": 3
   },
   "file_extension": ".py",
   "mimetype": "text/x-python",
   "name": "python",
   "nbconvert_exporter": "python",
   "pygments_lexer": "ipython3",
   "version": "3.6.1"
  }
 },
 "nbformat": 4,
 "nbformat_minor": 2
}
