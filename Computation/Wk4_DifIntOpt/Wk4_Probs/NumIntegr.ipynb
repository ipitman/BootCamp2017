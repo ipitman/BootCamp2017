{
 "cells": [
  {
   "cell_type": "code",
   "execution_count": 150,
   "metadata": {
    "collapsed": true
   },
   "outputs": [],
   "source": [
    "from numba import jit\n",
    "import numpy as np\n",
    "from scipy import stats\n",
    "from scipy.optimize import root\n",
    "from scipy.integrate import quad\n",
    "import matplotlib.pyplot as plt"
   ]
  },
  {
   "cell_type": "code",
   "execution_count": 24,
   "metadata": {},
   "outputs": [
    {
     "name": "stdout",
     "output_type": "stream",
     "text": [
      "midpoint error: 0.013714071739741485\n",
      "trapezoid error: 0.027428151536696532\n",
      "Simpsons error: 2.6702764444053173e-09\n"
     ]
    }
   ],
   "source": [
    "def NC_methods(g, a, b, N, method='midpoint'):\n",
    "    intervals = np.linspace(a, b, N)\n",
    "    if method == 'midpoint':\n",
    "        estimation = sum([(intervals[i + 1] - intervals[i]) * g((intervals[i] + intervals[i + 1]) / 2) for i in range(N - 1)])\n",
    "        return estimation\n",
    "    if method == 'trapezoid':\n",
    "        estimation = sum([((intervals[i + 1] - intervals[i]) / 2) * (g(intervals[i]) + g(intervals[i + 1])) for i in range(N-1)])\n",
    "        return estimation\n",
    "    if method == 'Simpsons':\n",
    "        estimation = sum([((intervals[i + 1] - intervals[i]) / 6) * (g(intervals[i]) + 4 * g((intervals[i] + intervals[i + 1]) / 2) + g(intervals[i + 1])) for i in range(N-1)])\n",
    "        return estimation\n",
    "    \n",
    "g = lambda x: 0.1*x**4 - 1.5*x**3 + 0.53*x**2 + 2*x + 1\n",
    "\n",
    "true_val = 4373 + (1/3)\n",
    "        \n",
    "print('midpoint error: {}'.format(abs(true_val - NC_methods(g, -10, 10, 1000))))\n",
    "print('trapezoid error: {}'.format(abs(true_val - NC_methods(g, -10, 10, 1000, method='trapezoid'))))\n",
    "print('Simpsons error: {}'.format(abs(true_val - NC_methods(g, -10, 10, 1000, method='Simpsons'))))"
   ]
  },
  {
   "cell_type": "code",
   "execution_count": 28,
   "metadata": {},
   "outputs": [
    {
     "name": "stdout",
     "output_type": "stream",
     "text": [
      "nodes: [-4.  -3.2 -2.4 -1.6 -0.8  0.   0.8  1.6  2.4  3.2  4. ]\n",
      "weights: [  3.16712418e-05   2.39602174e-03   2.01950016e-02   9.23195383e-02\n",
      "   2.29508588e-01   3.10843483e-01   2.29508588e-01   9.23195383e-02\n",
      "   2.01950016e-02   2.39602174e-03   3.16712418e-05]\n"
     ]
    },
    {
     "data": {
      "image/png": "[encoded data removed]",
      "text/plain": [
       "<matplotlib.figure.Figure at 0x1191c74a8>"
      ]
     },
     "metadata": {},
     "output_type": "display_data"
    }
   ],
   "source": [
    "def N_distribution(mu, sigma, N, sd_num):\n",
    "    lb = mu - sd_num * sigma\n",
    "    ub = mu + sd_num * sigma\n",
    "    nodes = np.linspace(lb, ub, N)\n",
    "    weights = np.empty(N)\n",
    "    for i in range(N):\n",
    "        if i == 0:\n",
    "            weights[i] = stats.norm.cdf(nodes[i], loc=mu, scale=sigma)\n",
    "        elif i == N - 1:\n",
    "            weights[i] = 1 - stats.norm.cdf(nodes[i], loc=mu, scale=sigma)\n",
    "        else:\n",
    "            weights[i] = NC_methods(lambda x: stats.norm.pdf(x, loc=mu, scale=sigma), (nodes[i - 1] + nodes[i]) / 2, (nodes[i] + nodes[i + 1]) / 2, 1000, method='Simpsons')\n",
    "    return nodes, weights\n",
    "\n",
    "nodes, weights = N_distribution(0, 1, 11, 4)\n",
    "print('nodes: {}'.format(nodes))\n",
    "print('weights: {}'.format(weights))\n",
    "plt.plot(nodes, weights)\n",
    "plt.show()\n"
   ]
  },
  {
   "cell_type": "code",
   "execution_count": 32,
   "metadata": {},
   "outputs": [
    {
     "name": "stdout",
     "output_type": "stream",
     "text": [
      "nodes: [  1.83156389e-02   4.07622040e-02   9.07179533e-02   2.01896518e-01\n",
      "   4.49328964e-01   1.00000000e+00   2.22554093e+00   4.95303242e+00\n",
      "   1.10231764e+01   2.45325302e+01   5.45981500e+01]\n",
      "weights: [  3.16712418e-05   2.39602174e-03   2.01950016e-02   9.23195383e-02\n",
      "   2.29508588e-01   3.10843483e-01   2.29508588e-01   9.23195383e-02\n",
      "   2.01950016e-02   2.39602174e-03   3.16712418e-05]\n"
     ]
    },
    {
     "data": {
      "image/png": "[encoded data removed]",
      "text/plain": [
       "<matplotlib.figure.Figure at 0x119254390>"
      ]
     },
     "metadata": {},
     "output_type": "display_data"
    }
   ],
   "source": [
    "def LN_distribution(mu, sigma, N, sd_num):\n",
    "    #Note that mu and sigma are NOT the mean and SD of the LN distribution, \n",
    "    #but rather those of the corresponding normal distribution.\n",
    "    nodes, weights = N_distribution(mu, sigma, N, sd_num)\n",
    "    log_nodes = np.e ** nodes\n",
    "    return log_nodes, weights\n",
    "\n",
    "nodes, weights = LN_distribution(0, 1, 11, 4)\n",
    "print('nodes: {}'.format(nodes))\n",
    "print('weights: {}'.format(weights))\n",
    "plt.plot(nodes, weights)\n",
    "plt.show()"
   ]
  },
  {
   "cell_type": "code",
   "execution_count": 37,
   "metadata": {},
   "outputs": [
    {
     "name": "stdout",
     "output_type": "stream",
     "text": [
      "50011.1066523\n",
      "50011.08700852173\n"
     ]
    }
   ],
   "source": [
    "def get_LN_mu(mu, sigma, N, sd_num):\n",
    "    #Note that mu and sigma are NOT the mean and SD of the LN distribution, \n",
    "    #but rather those of the corresponding normal distribution.\n",
    "    nodes, weights = LN_distribution(mu, sigma, N, sd_num)\n",
    "    #Use trapezoid estimate\n",
    "    return nodes@weights\n",
    "\n",
    "#I would not recommend running this, it takes forever.\n",
    "print(get_LN_mu(10.5, 0.8, 1000, 5))\n",
    "print(np.e ** (10.5 + (0.8 ** 2) / 2))"
   ]
  },
  {
   "cell_type": "code",
   "execution_count": 72,
   "metadata": {},
   "outputs": [
    {
     "name": "stdout",
     "output_type": "stream",
     "text": [
      "Gaussian quadrature approximation: 4373.333333333333\n",
      "scipy.integrate.quad approximation: 4373.333333333334\n"
     ]
    }
   ],
   "source": [
    "g = lambda x: 0.1*x**4 - 1.5*x**3 + 0.53*x**2 + 2*x + 1\n",
    "\n",
    "def error_g(params):\n",
    "    omega_1, omega_2, omega_3, x_1, x_2, x_3 = params\n",
    "    error1 = 20 - omega_1 - omega_2 - omega_3\n",
    "    error2 = -omega_1*x_1 - omega_2*x_2 - omega_3*x_3\n",
    "    error3 = (2000 / 3) - omega_1*x_1**2 - omega_2*x_2**2 - omega_3*x_3**2\n",
    "    error4 = -omega_1*x_1**3 - omega_2*x_2**3 - omega_3*x_3**3\n",
    "    error5 = 40000 - omega_1*x_1**4 - omega_2*x_2**4 - omega_3*x_3**4\n",
    "    error6 = -omega_1*x_1**5 - omega_2*x_2**5 - omega_3*x_3**5\n",
    "    return np.array([error1, error2, error3, error4, error5, error6])\n",
    "\n",
    "\n",
    "def approx_g(g, params):\n",
    "    omega_1, omega_2, omega_3, x_1, x_2, x_3 = root(error_g, params, tol=1e-20).x\n",
    "    return omega_1*g(x_1) + omega_2*g(x_2) + omega_3*g(x_3)\n",
    "\n",
    "#Note that this breaks for a bad intial guess...\n",
    "#However, the accuracy is very good.\n",
    "print('Gaussian quadrature approximation: {}'.format(approx_g(g, np.array([2, 1, 1, 1, 1, 1]))))\n",
    "\n",
    "print('scipy.integrate.quad approximation: {}'.format(quad(g, -10, 10)[0]))"
   ]
  },
  {
   "cell_type": "code",
   "execution_count": 246,
   "metadata": {},
   "outputs": [
    {
     "data": {
      "text/plain": [
       "3.1415040799999998"
      ]
     },
     "execution_count": 246,
     "metadata": {},
     "output_type": "execute_result"
    }
   ],
   "source": [
    "def MC_integr(g, Omega, N):\n",
    "    assert Omega.shape[1] == 2, 'Please enter a two dimensional array with interval entries.'\n",
    "    V = np.product(Omega[:, 1] - Omega[:, 0])\n",
    "    integral = V * sum(map(g, zip(*map(lambda x: np.random.uniform(x[0], x[1], N), Omega)))) / N\n",
    "    return integral\n",
    "\n",
    "@jit\n",
    "def g(x):\n",
    "    if x[0] ** 2 + x[1] ** 2 <= 1:\n",
    "        return 1\n",
    "    else:\n",
    "        return 0\n",
    "\n",
    "#4 decimal places for N around 100,000,000\n",
    "MC_integr(g, np.array([[-1, 1], [-1, 1]]), 100000000)"
   ]
  },
  {
   "cell_type": "code",
   "execution_count": 283,
   "metadata": {},
   "outputs": [],
   "source": [
    "def prime(i, primes):\n",
    "    for prime in primes:\n",
    "        if not (i == prime or i % prime):\n",
    "            return False\n",
    "    primes.add(i)\n",
    "    return i\n",
    "\n",
    "def get_primes(n):\n",
    "    primes = set([2])\n",
    "    i, p = 2, 0\n",
    "    while True:\n",
    "        if prime(i, primes):\n",
    "            p += 1\n",
    "            if p == n:\n",
    "                return primes\n",
    "        i += 1\n",
    "\n",
    "def EQ_element(n, d, name='Weyl'):\n",
    "    element = []\n",
    "    if name == 'Weyl':\n",
    "        primes = get_primes(d)\n",
    "        for prime in primes:\n",
    "            element.append(n * (prime ** 0.5) % 1)\n",
    "    elif name == 'Haber':\n",
    "        primes = get_primes(d)\n",
    "        for prime in primes:\n",
    "            element.append((n * (n + 1) / 2) * (prime ** 0.5) % 1)\n",
    "    elif name == 'Niederreiter':\n",
    "        for i in range(d):\n",
    "            element.append(n * (2 ** ((i + 1) / (n + 1))) % 1)\n",
    "    elif name == 'Baker':\n",
    "        for i in range(d):\n",
    "            element.append(n * (np.e ** (i + 1)) % 1)\n",
    "    else:\n",
    "        raise ValueError('Please enter a valid name.')\n",
    "    return element"
   ]
  },
  {
   "cell_type": "code",
   "execution_count": 297,
   "metadata": {},
   "outputs": [
    {
     "data": {
      "text/plain": [
       "3.1415576000000001"
      ]
     },
     "execution_count": 297,
     "metadata": {},
     "output_type": "execute_result"
    }
   ],
   "source": [
    "def qMC_integr(g, Omega, N):\n",
    "    assert Omega.shape[1] == 2, 'Please enter a two dimensional array with interval entries.'\n",
    "    n = Omega.shape[0]\n",
    "    V = np.product(Omega[:, 1] - Omega[:, 0])\n",
    "    EQ_sequence = [[EQ_element(i + 1, n)[j] * (Omega[j, 1] - Omega[j, 0]) + Omega[j, 0]  for j in range(n)] for i in range(N)]\n",
    "    integral = V * sum(map(g, EQ_sequence)) / N\n",
    "    return integral\n",
    "\n",
    "@jit\n",
    "def g(x):\n",
    "    if x[0] ** 2 + x[1] ** 2 <= 1:\n",
    "        return 1\n",
    "    else:\n",
    "        return 0\n",
    "\n",
    "#4 decimal places for N around 10,000,000\n",
    "qMC_integr(g, np.array([[-1, 1], [-1, 1]]), 10000000)"
   ]
  },
  {
   "cell_type": "code",
   "execution_count": null,
   "metadata": {},
   "outputs": [],
   "source": []
  },
  {
   "cell_type": "code",
   "execution_count": null,
   "metadata": {},
   "outputs": [],
   "source": []
  },
  {
   "cell_type": "code",
   "execution_count": null,
   "metadata": {
    "collapsed": true
   },
   "outputs": [],
   "source": []
  }
 ],
 "metadata": {
  "kernelspec": {
   "display_name": "Python 3",
   "language": "python",
   "name": "python3"
  },
  "language_info": {
   "codemirror_mode": {
    "name": "ipython",
    "version": 3
   },
   "file_extension": ".py",
   "mimetype": "text/x-python",
   "name": "python",
   "nbconvert_exporter": "python",
   "pygments_lexer": "ipython3",
   "version": "3.6.1"
  }
 },
 "nbformat": 4,
 "nbformat_minor": 2
}
