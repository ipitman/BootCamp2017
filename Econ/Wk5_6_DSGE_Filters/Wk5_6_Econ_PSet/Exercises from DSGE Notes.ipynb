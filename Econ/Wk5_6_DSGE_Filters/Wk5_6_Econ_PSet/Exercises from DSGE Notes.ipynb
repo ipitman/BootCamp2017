{
 "cells": [
  {
   "cell_type": "markdown",
   "metadata": {},
   "source": [
    "# Exercise 1. #"
   ]
  },
  {
   "cell_type": "markdown",
   "metadata": {},
   "source": [
    "Plugging in the policy function to the Euler equation, we get:\n",
    "\n",
    "\\begin{align*}\n",
    "\\frac{1}{e^{z_t}K_{t}^{\\alpha} - Ae^{z_t}K_{t}^{\\alpha}} &= \\beta \\left(\\frac{1}{3} \\cdot \\frac{\\alpha e^{\\rho z_t + \\sigma \\sqrt{3 / 2}}(Ae^{z_t}K_{t}^{\\alpha})^{\\alpha - 1}}{e^{\\rho z_t + \\sigma \\sqrt{3 / 2}}(Ae^{z_t}K_{t}^{\\alpha})^{\\alpha} - Ae^{\\rho z_t + \\sigma \\sqrt{3 / 2}}(Ae^{z_t}K_{t}^{\\alpha})^{\\alpha}} + \n",
    "\\frac{1}{3} \\cdot \\frac{\\alpha e^{\\rho z_t}(Ae^{z_t}K_{t}^{\\alpha})^{\\alpha - 1}}{e^{\\rho z_t}(Ae^{z_t}K_{t}^{\\alpha})^{\\alpha} - Ae^{\\rho z_t}(Ae^{z_t}K_{t}^{\\alpha})^{\\alpha}} + \n",
    "\\frac{1}{3} \\cdot \\frac{\\alpha e^{\\rho z_t - \\sigma \\sqrt{3 / 2}}(Ae^{z_t}K_{t}^{\\alpha})^{\\alpha - 1}}{e^{\\rho z_t - \\sigma \\sqrt{3 / 2}}(Ae^{z_t}K_{t}^{\\alpha})^{\\alpha} - Ae^{\\rho z_t - \\sigma \\sqrt{3 / 2}}(Ae^{z_t}K_{t}^{\\alpha})^{\\alpha}}\\right) \\\\\n",
    "\\frac{1}{e^{z_t}K_{t}^{\\alpha}} \\cdot \\frac{1}{1 - A} &= \\frac{\\alpha\\beta}{3} \\left(\\frac{e^{\\rho z_t + \\sigma \\sqrt{3 / 2}}(Ae^{z_t}K_{t}^{\\alpha})^{\\alpha - 1}}{e^{\\rho z_t + \\sigma \\sqrt{3 / 2}}(Ae^{z_t}K_{t}^{\\alpha})^{\\alpha}} \\cdot \\frac{1}{1 - A} + \n",
    "\\frac{e^{\\rho z_t}(Ae^{z_t}K_{t}^{\\alpha})^{\\alpha - 1}}{e^{\\rho z_t}(Ae^{z_t}K_{t}^{\\alpha})^{\\alpha}} \\cdot \\frac{1}{1 - A} + \n",
    "\\frac{e^{\\rho z_t - \\sigma \\sqrt{3 / 2}}(Ae^{z_t}K_{t}^{\\alpha})^{\\alpha - 1}}{e^{\\rho z_t - \\sigma \\sqrt{3 / 2}}(Ae^{z_t}K_{t}^{\\alpha})^{\\alpha}} \\cdot \\frac{1}{1 - A}\\right) \\\\\n",
    "\\frac{1}{e^{z_t}K_{t}^{\\alpha}} &= \\frac{\\alpha\\beta}{3} \\left(\\frac{1}{Ae^{z_t}K_{t}^{\\alpha}} + \\frac{1}{Ae^{z_t}K_{t}^{\\alpha}} + \\frac{1}{Ae^{z_t}K_{t}^{\\alpha}}\\right) \\\\\n",
    "\\frac{1}{e^{z_t}K_{t}^{\\alpha}} &= \\frac{\\alpha\\beta}{Ae^{z_t}K_{t}^{\\alpha}}\n",
    "\\end{align*}\n",
    "\n",
    "So, we have that $A = \\alpha\\beta$"
   ]
  },
  {
   "cell_type": "markdown",
   "metadata": {},
   "source": [
    "# Exercise 2. #"
   ]
  },
  {
   "cell_type": "markdown",
   "metadata": {},
   "source": [
    "Characterizing equations:\n",
    "$$c_t = (1 - \\tau)[w_{t}l_{t} + (r_t - \\delta)k_t] + k_t + T_t - k_{t + 1}$$\n",
    "$$\\frac{1}{c_t} = \\beta E_t\\left\\{\\frac{[(r_{t + 1} - \\delta)(1 - \\tau) + 1]}{c_{t + 1}}\\right\\}$$\n",
    "$$\\frac{a}{1 - l_t} = \\frac{w_{t}(1 - \\tau)}{c_t}$$\n",
    "$$r_t = \\alpha e^{z_t}\\left(\\frac{l_t}{k_t}\\right)^{1 - \\alpha}$$\n",
    "$$w_t = (1 - \\alpha) e^{z_t}\\left(\\frac{k_t}{l_t}\\right)^{\\alpha}$$\n",
    "$$\\tau [w_{t}l_{t} + (r_t - \\delta)k_t] = T_t$$\n",
    "$$z_t = (1 - \\rho_z)\\bar z + \\rho_{z}z_{t - 1} + \\epsilon_{t}^{z}; \\quad \\epsilon_{t}^{z} \\sim i.i.d.(0, \\sigma_{z}^{2})$$"
   ]
  },
  {
   "cell_type": "markdown",
   "metadata": {},
   "source": [
    "# Exercise 3. #"
   ]
  },
  {
   "cell_type": "markdown",
   "metadata": {},
   "source": [
    "Characterizing equations:\n",
    "$$c_t = (1 - \\tau)[w_{t}l_{t} + (r_t - \\delta)k_t] + k_t + T_t - k_{t + 1}$$\n",
    "$$\\frac{1}{c_{t}^{\\gamma}} = \\beta E_t\\left\\{\\frac{[(r_{t + 1} - \\delta)(1 - \\tau) + 1]}{c_{t + 1}^{\\gamma}}\\right\\}$$\n",
    "$$\\frac{a}{1 - l_t} = \\frac{w_{t}(1 - \\tau)}{c_{t}^{\\gamma}}$$\n",
    "$$r_t = \\alpha e^{z_t}\\left(\\frac{l_t}{k_t}\\right)^{1 - \\alpha}$$\n",
    "$$w_t = (1 - \\alpha) e^{z_t}\\left(\\frac{k_t}{l_t}\\right)^{\\alpha}$$\n",
    "$$\\tau [w_{t}l_{t} + (r_t - \\delta)k_t] = T_t$$\n",
    "$$z_t = (1 - \\rho_z)\\bar z + \\rho_{z}z_{t - 1} + \\epsilon_{t}^{z}; \\quad \\epsilon_{t}^{z} \\sim i.i.d.(0, \\sigma_{z}^{2})$$"
   ]
  },
  {
   "cell_type": "markdown",
   "metadata": {},
   "source": [
    "# Exercise 4. #"
   ]
  },
  {
   "cell_type": "markdown",
   "metadata": {},
   "source": [
    "Characterizing equations:\n",
    "$$c_t = (1 - \\tau)[w_{t}l_{t} + (r_t - \\delta)k_t] + k_t + T_t - k_{t + 1}$$\n",
    "$$\\frac{1}{c_{t}^{\\gamma}} = \\beta E_t\\left\\{\\frac{[(r_{t + 1} - \\delta)(1 - \\tau) + 1]}{c_{t + 1}^{\\gamma}}\\right\\}$$\n",
    "$$\\frac{a}{(1 - l_t)^{\\xi}} = \\frac{w_{t}(1 - \\tau)}{c_{t}^{\\gamma}}$$\n",
    "$$r_t = \\frac{\\alpha e^{z_t}}{k_{t}^{1 - \\eta}}\\left[\\alpha k_{t}^{\\eta} + (1 - \\alpha)l_{t}^{\\eta}\\right]^{\\frac{1 - \\eta}{\\eta}}$$\n",
    "$$w_t = \\frac{(1 - \\alpha)e^{z_t}}{l_{t}^{1 - \\eta}}\\left[\\alpha k_{t}^{\\eta} + (1 - \\alpha)l_{t}^{\\eta}\\right]^{\\frac{1 - \\eta}{\\eta}}$$\n",
    "$$\\tau [w_{t}l_{t} + (r_t - \\delta)k_t] = T_t$$\n",
    "$$z_t = (1 - \\rho_z)\\bar z + \\rho_{z}z_{t - 1} + \\epsilon_{t}^{z}; \\quad \\epsilon_{t}^{z} \\sim i.i.d.(0, \\sigma_{z}^{2})$$"
   ]
  },
  {
   "cell_type": "markdown",
   "metadata": {},
   "source": [
    "# Exercise 5. #"
   ]
  },
  {
   "cell_type": "markdown",
   "metadata": {},
   "source": [
    "Characterizing equations:\n",
    "$$c_t = (1 - \\tau)[w_{t} + (r_t - \\delta)k_t] + k_t + T_t - k_{t + 1}$$\n",
    "$$\\frac{1}{c_{t}^{\\gamma}} = \\beta E_t\\left\\{\\frac{[(r_{t + 1} - \\delta)(1 - \\tau) + 1]}{c_{t + 1}^{\\gamma}}\\right\\}$$\n",
    "$$r_t = \\alpha\\left(\\frac{e^{z_t}}{k_t}\\right)^{1 - \\alpha}$$\n",
    "$$w_t = (1 - \\alpha)e^{z_t}\\left(\\frac{k_t}{e^{z_t}}\\right)^{\\alpha}$$\n",
    "$$\\tau [w_{t} + (r_t - \\delta)k_t] = T_t$$\n",
    "$$z_t = (1 - \\rho_z)\\bar z + \\rho_{z}z_{t - 1} + \\epsilon_{t}^{z}; \\quad \\epsilon_{t}^{z} \\sim i.i.d.(0, \\sigma_{z}^{2})$$\n",
    "Steady state versions:\n",
    "$$\\bar c = (1 - \\tau)[\\bar w + (\\bar r - \\delta)\\bar k] + \\bar T$$\n",
    "$$\\frac{1}{\\bar c^{\\gamma}} = \\frac{\\beta[(\\bar r - \\delta)(1 - \\tau) + 1]}{\\bar c^{\\gamma}}$$\n",
    "$$\\bar r = \\alpha\\left(\\frac{e^{\\bar z}}{\\bar k}\\right)^{1 - \\alpha}$$\n",
    "$$\\bar w = (1 - \\alpha)e^{\\bar z}\\left(\\frac{\\bar k}{e^{\\bar z}}\\right)^{\\alpha}$$\n",
    "$$\\tau [\\bar w + (\\bar r - \\delta)\\bar k] = \\bar T$$\n",
    "Solving, we get:\n",
    "$$\\bar k = \\frac{e^{\\bar z}}{\\left(\\frac{1 - \\beta + \\delta\\beta(1 - \\tau)}{\\alpha\\beta(1 - \\tau)}\\right)^{\\frac{1}{1 - \\alpha}}}$$"
   ]
  },
  {
   "cell_type": "code",
   "execution_count": 1,
   "metadata": {},
   "outputs": [
    {
     "name": "stdout",
     "output_type": "stream",
     "text": [
      "Numerical:\n",
      "w:  1.32795276835 \n",
      "r:  0.121482277002 \n",
      "c:  1.48450481885 \n",
      "k:  7.28749795066 \n",
      "y:  2.21325461391 \n",
      "i:  0.728749795066\n",
      "\n",
      "Algebraic:\n",
      "w:  1.32795276835 \n",
      "r:  0.121482277121 \n",
      "c:  1.48450481885 \n",
      "k:  7.28749795069 \n",
      "y:  2.21325461392 \n",
      "i:  0.728749795069\n"
     ]
    }
   ],
   "source": [
    "#Imports:\n",
    "import numpy as np\n",
    "from scipy.optimize import root\n",
    "\n",
    "#Parameter values:\n",
    "gamma = 2.5\n",
    "beta = 0.98\n",
    "alpha = 0.4\n",
    "delta = 0.1\n",
    "z_bar = 0\n",
    "tau = 0.05\n",
    "\n",
    "#Get w, r, c, and 1 given k:\n",
    "def get_w(k):\n",
    "    return (1 - alpha) * np.exp(z_bar) * ((k / np.exp(z_bar)) ** alpha)\n",
    "\n",
    "def get_r(k):\n",
    "    return alpha * ((np.exp(z_bar) / k) ** (1 - alpha))\n",
    "\n",
    "def get_c(k):\n",
    "    return get_w(k) + (get_r(k) - delta) * k\n",
    "\n",
    "def get_one(k):\n",
    "    return beta * ((get_r(k) - delta) * (1 - tau) + 1)\n",
    "\n",
    "#Get error given a guess for the parameters:\n",
    "def get_error(params):\n",
    "    w, r, c, k = params\n",
    "    error1 = abs(get_w(k) - w)\n",
    "    error2 = abs(get_r(k) - r)\n",
    "    error3 = abs(get_c(k) - c)\n",
    "    error4 = abs(get_one(k) - 1)\n",
    "    return np.array([error1, error2, error3, error4])\n",
    "\n",
    "#Get initial parameters:\n",
    "params_init = np.array([1, 1, 1, 1])\n",
    "\n",
    "#Numerically solved steady state values:\n",
    "w_n, r_n, c_n, k_n = root(get_error, params_init).x\n",
    "y_n = (k_n ** alpha) * (np.exp(z_bar) ** (1 - alpha))\n",
    "i_n = delta * k_n\n",
    "print('Numerical:')\n",
    "print('w: ', w_n, '\\nr: ', r_n, '\\nc: ', c_n, '\\nk: ', k_n, '\\ny: ', y_n, '\\ni: ', i_n)\n",
    "\n",
    "#Algebraically solved state state values:\n",
    "k_a = (np.exp(z_bar)) / (((1 - beta + delta * beta * (1 - tau)) / (alpha * beta * (1 - tau))) ** (1 / (1 - alpha)))\n",
    "w_a, r_a, c_a = get_w(k_a), get_r(k_a), get_c(k_a)\n",
    "y_a = (k_a ** alpha) * (np.exp(z_bar) ** (1 - alpha))\n",
    "i_a = delta * k_a\n",
    "print('\\nAlgebraic:')\n",
    "print('w: ', w_a, '\\nr: ', r_a, '\\nc: ', c_a, '\\nk: ', k_a, '\\ny: ', y_a, '\\ni: ', i_a)"
   ]
  },
  {
   "cell_type": "markdown",
   "metadata": {},
   "source": [
    "# Exercise 6. #"
   ]
  },
  {
   "cell_type": "markdown",
   "metadata": {},
   "source": [
    "Characterizing equations:\n",
    "$$c_t = (1 - \\tau)[w_{t}l_{t} + (r_t - \\delta)k_t] + k_t + T_t - k_{t + 1}$$\n",
    "$$\\frac{1}{c_{t}^{\\gamma}} = \\beta E_t\\left\\{\\frac{[(r_{t + 1} - \\delta)(1 - \\tau) + 1]}{c_{t + 1}^{\\gamma}}\\right\\}$$\n",
    "$$\\frac{a}{(1 - l_t)^{\\xi}} = \\frac{w_{t}(1 - \\tau)}{c_{t}^{\\gamma}}$$\n",
    "$$r_t = \\alpha\\left(\\frac{l_{t}e^{z_t}}{k_t}\\right)^{1 - \\alpha}$$\n",
    "$$w_t = (1 - \\alpha)e^{z_t}\\left(\\frac{k_t}{l_{t}e^{z_t}}\\right)^{\\alpha}$$\n",
    "$$\\tau [w_{t}l_{t} + (r_t - \\delta)k_t] = T_t$$\n",
    "$$z_t = (1 - \\rho_z)\\bar z + \\rho_{z}z_{t - 1} + \\epsilon_{t}^{z}; \\quad \\epsilon_{t}^{z} \\sim i.i.d.(0, \\sigma_{z}^{2})$$\n",
    "Steady state versions:\n",
    "$$\\bar c = (1 - \\tau)[\\bar w\\bar l + (\\bar r - \\delta)\\bar k] + \\bar T$$\n",
    "$$\\frac{1}{\\bar c^{\\gamma}} = \\frac{\\beta[(\\bar r - \\delta)(1 - \\tau) + 1]}{\\bar c^{\\gamma}}$$\n",
    "$$\\frac{a}{(1 - \\bar l)^{\\xi}} = \\frac{w_{t}(1 - \\tau)}{\\bar c^{\\gamma}}$$\n",
    "$$\\bar r = \\alpha\\left(\\frac{\\bar l e^{\\bar z}}{\\bar k}\\right)^{1 - \\alpha}$$\n",
    "$$\\bar w = (1 - \\alpha)e^{\\bar z}\\left(\\frac{\\bar k}{\\bar l e^{\\bar z}}\\right)^{\\alpha}$$\n",
    "$$\\tau [\\bar w\\bar l + (\\bar r - \\delta)\\bar k] = \\bar T$$"
   ]
  },
  {
   "cell_type": "code",
   "execution_count": 21,
   "metadata": {},
   "outputs": [
    {
     "name": "stdout",
     "output_type": "stream",
     "text": [
      "Numerical:\n",
      "w:  1.32795276943 \n",
      "r:  0.121482277121 \n",
      "c:  0.860703206255 \n",
      "k:  4.22522902728 \n",
      "l:  0.579791453235 \n",
      "y:  1.77967255015 \n",
      "i:  0.422522902728\n"
     ]
    }
   ],
   "source": [
    "#Imports:\n",
    "import numpy as np\n",
    "from scipy.optimize import root\n",
    "\n",
    "#Parameter values:\n",
    "gamma = 2.5\n",
    "xi = 1.5\n",
    "beta = 0.98\n",
    "alpha = 0.4\n",
    "a = 0.5\n",
    "delta = 0.1\n",
    "z_bar = 0\n",
    "tau = 0.05\n",
    "\n",
    "#Get w, r, c, and 1 given k:\n",
    "def get_w(k, l):\n",
    "    return (1 - alpha) * np.exp(z_bar) * ((k / (l * np.exp(z_bar))) ** alpha)\n",
    "\n",
    "def get_r(k, l):\n",
    "    return alpha * (((l * np.exp(z_bar)) / k) ** (1 - alpha))\n",
    "\n",
    "def get_c(k, l):\n",
    "    return get_w(k, l) * l + (get_r(k, l) - delta) * k\n",
    "\n",
    "def get_one(k, l):\n",
    "    return beta * ((get_r(k, l) - delta) * (1 - tau) + 1)\n",
    "\n",
    "#Get error given a guess for the parameters:\n",
    "def get_error(params):\n",
    "    w, r, c, k, l = params\n",
    "    error1 = abs(get_w(k, l) - w)\n",
    "    error2 = abs(get_r(k, l) - r)\n",
    "    error3 = abs(get_c(k, l) - c)\n",
    "    error4 = abs(get_one(k, l) - 1)\n",
    "    error5 = abs(a * (c ** gamma) - ((1 - l) ** xi) * (w * (1 - tau)))\n",
    "    return np.array([error1, error2, error3, error4, error5])\n",
    "\n",
    "#Get initial parameters:\n",
    "params_init = np.array([0.5, 0.5, 0.5, 0.5, 0.5])\n",
    "\n",
    "#Numerically solved steady state values:\n",
    "w_n, r_n, c_n, k_n, l_n = root(get_error, params_init).x\n",
    "y_n = (k_n ** alpha) * (np.exp(z_bar) ** (1 - alpha))\n",
    "i_n = delta * k_n\n",
    "print('Numerical:')\n",
    "print('w: ', w_n, '\\nr: ', r_n, '\\nc: ', c_n, '\\nk: ', k_n, '\\nl: ', l_n, '\\ny: ', y_n, '\\ni: ', i_n)"
   ]
  },
  {
   "cell_type": "markdown",
   "metadata": {},
   "source": [
    "# Exercise 8. #"
   ]
  },
  {
   "cell_type": "code",
   "execution_count": 30,
   "metadata": {},
   "outputs": [],
   "source": [
    "#Imports:\n",
    "import numpy as np\n",
    "from numba import jit, i8, f8\n",
    "\n",
    "#Parameter values:\n",
    "alpha = 0.35\n",
    "beta = 0.98\n",
    "rho = 0.95\n",
    "sigma = 0.02\n",
    "\n",
    "#Get k_bar and grids:\n",
    "k_bar = (alpha * beta) ** (1 / (1 - alpha))\n",
    "k_grid = np.linspace(0.5 * k_bar, 1.5 * k_bar, 26)\n",
    "z_grid = np.linspace(-5 * sigma, 5 * sigma, 26)\n",
    "V = np.zeros((26, 26))\n",
    "H = np.zeros((26, 26))\n",
    "\n",
    "#Define policy function:\n",
    "def pf(k, z):\n",
    "    return alpha * beta * np.exp(z) * (k ** alpha)\n",
    "\n",
    "#Define helper function:\n",
    "@jit(i8(f8, f8[:], i8))\n",
    "def closest_val_index(x_val, xp, xp_len):\n",
    "    #finds the index of the value in a list that is\n",
    "    #closest to the value x_val\n",
    "    lo = 0\n",
    "    hi = xp_len\n",
    "    while lo < hi:\n",
    "        mid = (lo+hi)//2\n",
    "        if xp[mid] < x_val: lo = mid+1\n",
    "        else: hi = mid\n",
    "    if lo == 0: lo += 1\n",
    "    elif lo == xp_len: lo -= 1\n",
    "    elif x_val - xp[lo - 1] < xp[lo] - x_val: lo -= 1\n",
    "    return lo\n",
    "\n",
    "#Loop over combinations of k and z:\n",
    "for i in range(26):\n",
    "    for j in range(26):\n",
    "        closest_val_index(pf(k_grid[i], z_grid[i]), k_grid, 26)"
   ]
  },
  {
   "cell_type": "code",
   "execution_count": null,
   "metadata": {
    "collapsed": true
   },
   "outputs": [],
   "source": []
  }
 ],
 "metadata": {
  "kernelspec": {
   "display_name": "Python 3",
   "language": "python",
   "name": "python3"
  },
  "language_info": {
   "codemirror_mode": {
    "name": "ipython",
    "version": 3
   },
   "file_extension": ".py",
   "mimetype": "text/x-python",
   "name": "python",
   "nbconvert_exporter": "python",
   "pygments_lexer": "ipython3",
   "version": "3.6.1"
  }
 },
 "nbformat": 4,
 "nbformat_minor": 2
}
