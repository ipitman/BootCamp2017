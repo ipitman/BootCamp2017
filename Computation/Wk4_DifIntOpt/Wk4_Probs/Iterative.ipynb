{
 "cells": [
  {
   "cell_type": "code",
   "execution_count": 1,
   "metadata": {},
   "outputs": [],
   "source": [
    "import numpy as np\n",
    "from numpy.linalg import norm\n",
    "import matplotlib.pyplot as plt\n",
    "from scipy import sparse\n",
    "import warnings\n",
    "warnings.filterwarnings('ignore')"
   ]
  },
  {
   "cell_type": "code",
   "execution_count": 2,
   "metadata": {},
   "outputs": [
    {
     "data": {
      "image/png": "[encoded data removed]",
      "text/plain": [
       "<matplotlib.figure.Figure at 0x113b79ac8>"
      ]
     },
     "metadata": {},
     "output_type": "display_data"
    },
    {
     "data": {
      "text/plain": [
       "True"
      ]
     },
     "execution_count": 2,
     "metadata": {},
     "output_type": "execute_result"
    }
   ],
   "source": [
    "def jacobi(A, b, tol, maxiters, plot=False):\n",
    "    n = b.shape[0]\n",
    "    x_0 = np.zeros(n)\n",
    "    D_inv = np.diag(1 / np.diag(A))\n",
    "    current_iter = 0\n",
    "    error_list = []\n",
    "    while current_iter < maxiters:\n",
    "        x_1 = x_0 + D_inv@(b - A@x_0)\n",
    "        error_list.append(norm(b - A@x_1, ord=np.inf))\n",
    "        if norm(x_1 - x_0, ord=np.inf) < tol:\n",
    "            if plot:\n",
    "                plt.semilogy(range(current_iter + 1), error_list)\n",
    "                plt.show()\n",
    "            return x_1\n",
    "        x_0 = x_1\n",
    "        current_iter += 1\n",
    "    if plot:\n",
    "        plt.semilogy(range(current_iter + 1), error_list)\n",
    "        plt.show()\n",
    "    return x_1\n",
    "\n",
    "def diag_dom(n, num_entries=None):\n",
    "    \"\"\"Generate a strictly diagonally dominant (n, n) matrix.\n",
    "    Parameters:\n",
    "        n (int): The dimension of the system.\n",
    "        num_entries (int): The number of nonzero values.\n",
    "            Defaults to n^(3/2)-n.\n",
    "    Returns:\n",
    "        A ((n,n) ndarray): A (n, n) strictly diagonally dominant matrix.\n",
    "    \"\"\"\n",
    "    if num_entries is None:\n",
    "        num_entries = int(n**1.5) - n\n",
    "    A = np.zeros((n,n))\n",
    "    rows = np.random.choice(np.arange(0,n), size=num_entries)\n",
    "    cols = np.random.choice(np.arange(0,n), size=num_entries)\n",
    "    data = np.random.randint(-4, 4, size=num_entries)\n",
    "    for i in range(num_entries):\n",
    "        A[rows[i], cols[i]] = data[i]\n",
    "    for i in range(n):\n",
    "        A[i,i] = np.sum(np.abs(A[i])) + 1\n",
    "    return A\n",
    "\n",
    "A = diag_dom(100)\n",
    "b = np.random.random(100)\n",
    "x = jacobi(A, b, 1e-10, 1000, plot=True)\n",
    "\n",
    "np.allclose(A@x, b)"
   ]
  },
  {
   "cell_type": "code",
   "execution_count": 3,
   "metadata": {},
   "outputs": [
    {
     "data": {
      "image/png": "[encoded data removed]",
      "text/plain": [
       "<matplotlib.figure.Figure at 0x1173be8d0>"
      ]
     },
     "metadata": {},
     "output_type": "display_data"
    },
    {
     "data": {
      "text/plain": [
       "True"
      ]
     },
     "execution_count": 3,
     "metadata": {},
     "output_type": "execute_result"
    }
   ],
   "source": [
    "def GS(A, b, tol, maxiters, plot=False):\n",
    "    n = b.shape[0]\n",
    "    x_0 = np.zeros(n)\n",
    "    diag = 1 / np.diag(A)\n",
    "    current_iter = 0\n",
    "    error_list = []\n",
    "    while current_iter < maxiters:\n",
    "        x_1 = np.empty(n)\n",
    "        for i in range(n):\n",
    "            x_1[i] = x_0[i] + diag[i]*(b[i] - A[i, :]@x_0)\n",
    "        error_list.append(norm(b - A@x_1, ord=np.inf))\n",
    "        if norm(x_1 - x_0, ord=np.inf) < tol:\n",
    "            if plot:\n",
    "                plt.semilogy(range(current_iter + 1), error_list)\n",
    "                plt.show()\n",
    "            return x_1\n",
    "        x_0 = x_1\n",
    "        current_iter += 1\n",
    "    if plot:\n",
    "        plt.semilogy(range(current_iter + 1), error_list)\n",
    "        plt.show()\n",
    "    return x_1\n",
    "\n",
    "A = diag_dom(100)\n",
    "b = np.random.random(100)\n",
    "x = GS(A, b, 1e-10, 1000, plot=True)\n",
    "\n",
    "np.allclose(A@x, b)"
   ]
  },
  {
   "cell_type": "code",
   "execution_count": 4,
   "metadata": {},
   "outputs": [
    {
     "data": {
      "text/plain": [
       "True"
      ]
     },
     "execution_count": 4,
     "metadata": {},
     "output_type": "execute_result"
    }
   ],
   "source": [
    "def GS_sparse(A, b, tol, maxiters):\n",
    "    n = b.shape[0]\n",
    "    x_0 = np.zeros(n)\n",
    "    diag = 1 / A.diagonal()\n",
    "    current_iter = 0\n",
    "    while current_iter < maxiters:\n",
    "        x_1 = np.empty(n)\n",
    "        for i in range(n):\n",
    "            rowstart = A.indptr[i]\n",
    "            rowend = A.indptr[i+1]\n",
    "            Aix_0 = A.data[rowstart:rowend] @ x_0[A.indices[rowstart:rowend]]\n",
    "            x_1[i] = x_0[i] + diag[i]*(b[i] - Aix_0)\n",
    "        if norm(x_1 - x_0, ord=np.inf) < tol:\n",
    "            return x_1\n",
    "        x_0 = x_1\n",
    "        current_iter += 1\n",
    "    return x_1\n",
    "\n",
    "A = sparse.csr_matrix(diag_dom(100))\n",
    "b = np.random.random(100)\n",
    "x = GS_sparse(A, b, 1e-10, 1000)\n",
    "\n",
    "np.allclose(A@x, b)"
   ]
  },
  {
   "cell_type": "code",
   "execution_count": null,
   "metadata": {},
   "outputs": [],
   "source": [
    "def SOR(A, b, omega, tol, maxiters):\n",
    "    if type(A) != sparse.csr_matrix:   \n",
    "        A=sparse.csr_matrix(A)\n",
    "    n = b.shape[0]\n",
    "    x_0 = np.zeros(n)\n",
    "    x_1 = np.empty(n)\n",
    "    current_iter = 0\n",
    "    while current_iter < maxiters:\n",
    "        for i in range(n):\n",
    "            rowstart = A.indptr[i]\n",
    "            rowend = A.indptr[i+1]\n",
    "            Aix_0 = A.data[rowstart:rowend] @ x_0[A.indices[rowstart:rowend]]\n",
    "            x_1[i] = x_0[i] + (omega / A[i, i]) * (b[i] - Aix_0)\n",
    "        if norm(x_1 - x_0, ord=np.inf) < tol:\n",
    "            return x_1, current_iter\n",
    "        x_0 = np.copy(x_1)\n",
    "        current_iter += 1\n",
    "    return x_1, current_iter\n",
    "\n",
    "A = sparse.csr_matrix(diag_dom(100))\n",
    "b = np.random.random(100)\n",
    "x1, num_iters1 = SOR(A, b, 1, 1e-10, 1000)\n",
    "x2, num_iters2 = SOR(A, b, 1.05, 1e-10, 1000)\n",
    "\n",
    "\n",
    "#Seems to consistently take more iterations with the relaxation factor...\n",
    "print(np.allclose(A@x1, b))\n",
    "print(num_iters1, 'iterations')\n",
    "print(np.allclose(A@x2, b))\n",
    "print(num_iters2, 'iterations')"
   ]
  },
  {
   "cell_type": "code",
   "execution_count": null,
   "metadata": {},
   "outputs": [],
   "source": [
    "def FDM(n, omega, tol=10e-8, maxiters=100, plot=False):\n",
    "    diag_ones = np.ones(n-1)\n",
    "    diag_neg_fours = -4*np.ones(n)\n",
    "    B = sparse.diags((diag_ones, diag_neg_fours, diag_ones), (-1, 0, 1), shape=(n,n))\n",
    "    I = sparse.identity(n)\n",
    "    A_list = []\n",
    "    for i in range(n):\n",
    "        if i == 0:\n",
    "            A_list.append([B, I] + [None]*(n - 2))\n",
    "        elif i == n - 1:\n",
    "            A_list.append([None]*(n - 2) + [I, B])\n",
    "        else:\n",
    "            A_list.append([None]*(i - 1) + [I, B, I] + [None]*((n - 3) - (i - 1)))\n",
    "    A = sparse.bmat(A_list, format='bsr')\n",
    "    b = np.tile(np.array([-100] + [0]*(n - 2) + [-100]), n)\n",
    "    solution, num_iters = SOR(A, b, omega, tol, maxiters)\n",
    "    solution = solution.reshape((n, n))\n",
    "    if plot:\n",
    "        x_domain = np.linspace(0, 1, n + 1)\n",
    "        y_domain = np.linspace(0, 1, n + 1)\n",
    "        X, Y = np.meshgrid(x_domain, y_domain)\n",
    "        plt.pcolormesh(X, Y, solution, cmap='coolwarm')\n",
    "        plt.colorbar()\n",
    "        plt.show()\n",
    "    return solution, num_iters\n",
    "\n",
    "FDM(100, 1, plot=True, maxiters=1000)"
   ]
  },
  {
   "cell_type": "code",
   "execution_count": null,
   "metadata": {},
   "outputs": [],
   "source": [
    "domain = np.linspace(1, 1.95, 20)\n",
    "iterations = [FDM(4, omega, tol=1e-2, maxiters=1000)[1] for omega in domain]\n",
    "plt.plot(domain, iterations)\n",
    "plt.show()\n",
    "print('Optimal relaxation factor:', domain[np.argmin(iterations)])"
   ]
  },
  {
   "cell_type": "code",
   "execution_count": null,
   "metadata": {},
   "outputs": [],
   "source": []
  },
  {
   "cell_type": "code",
   "execution_count": null,
   "metadata": {
    "collapsed": true
   },
   "outputs": [],
   "source": []
  },
  {
   "cell_type": "code",
   "execution_count": null,
   "metadata": {
    "collapsed": true
   },
   "outputs": [],
   "source": []
  }
 ],
 "metadata": {
  "kernelspec": {
   "display_name": "Python 3",
   "language": "python",
   "name": "python3"
  },
  "language_info": {
   "codemirror_mode": {
    "name": "ipython",
    "version": 3
   },
   "file_extension": ".py",
   "mimetype": "text/x-python",
   "name": "python",
   "nbconvert_exporter": "python",
   "pygments_lexer": "ipython3",
   "version": "3.6.1"
  }
 },
 "nbformat": 4,
 "nbformat_minor": 2
}
