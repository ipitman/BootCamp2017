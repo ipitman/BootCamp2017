{
 "cells": [
  {
   "cell_type": "code",
   "execution_count": 1,
   "metadata": {
    "collapsed": true
   },
   "outputs": [],
   "source": [
    "def Problem1(ls):\n",
    "    try:\n",
    "        lsavg = sum(ls) / len(ls)\n",
    "    except:\n",
    "        print(\"Please enter a list of numbers.\")\n",
    "    return [min(ls), max(ls), lsavg]"
   ]
  },
  {
   "cell_type": "code",
   "execution_count": 2,
   "metadata": {
    "collapsed": true
   },
   "outputs": [],
   "source": [
    "def Problem2():\n",
    "    num1 = 3\n",
    "    num2 = num1\n",
    "    num2 += 1\n",
    "    print(\"Are numbers mutable? {}.\".format(num1 == num2))\n",
    "    word1 = \"Aloh\"\n",
    "    word2 = word1\n",
    "    word2 += 'a'\n",
    "    print(\"Are strings mutable? {}.\".format(word1 == word2))\n",
    "    ls1 = [3, 2]\n",
    "    ls2 = ls1\n",
    "    ls2.append(1)\n",
    "    print(\"Are lists mutable? {}.\".format(ls1 == ls2))\n",
    "    tup1 = (3, 2)\n",
    "    tup2 = tup1\n",
    "    tup2 += (1,)\n",
    "    print(\"Are tuples mutable? {}.\".format(tup1 == tup2))\n",
    "    dt1 = {1: 'c', 2: 'b'}\n",
    "    dt2 = dt1\n",
    "    dt2[1] = 'a'\n",
    "    print(\"Are dictionaries mutable? {}.\".format(dt1 == dt2))"
   ]
  },
  {
   "cell_type": "code",
   "execution_count": 3,
   "metadata": {
    "collapsed": true
   },
   "outputs": [],
   "source": [
    "import calculator as c\n",
    "\n",
    "def Problem3(a, b):\n",
    "    return c.square_rooter(c.adder(c.multiplier(a, a), c.multiplier(b, b)))"
   ]
  },
  {
   "cell_type": "code",
   "execution_count": 4,
   "metadata": {},
   "outputs": [
    {
     "name": "stdout",
     "output_type": "stream",
     "text": [
      "Please enter your name here: Ian\n",
      "Numebers left: [1, 2, 3, 4, 5, 6, 7, 8, 9]\n",
      "Roll: 2\n",
      "Numbers to eliminate: 2\n",
      "Numebers left: [1, 3, 4, 5, 6, 7, 8, 9]\n",
      "Roll: 4\n",
      "Numbers to eliminate: 4\n",
      "Numebers left: [1, 3, 5, 6, 7, 8, 9]\n",
      "Roll: 9\n",
      "Numbers to eliminate: 9\n",
      "Numebers left: [1, 3, 5, 6, 7, 8]\n",
      "Roll: 7\n",
      "Numbers to eliminate: 7\n",
      "Numebers left: [1, 3, 5, 6, 8]\n",
      "Roll: 7\n",
      "Numbers to eliminate: 6 1\n",
      "Numebers left: [3, 5, 8]\n",
      "Roll: 8\n",
      "Numbers to eliminate: 8\n",
      "Score for player Ian: 8 points\n"
     ]
    }
   ],
   "source": [
    "import sys\n",
    "import random\n",
    "import box\n",
    "\n",
    "if __name__ == '__main__':\n",
    "    \n",
    "    class Game(object):\n",
    "        \"\"\"\n",
    "        I know I don't need to write a class for this, I just wanted to see if I could remember how classes worked.\n",
    "        \"\"\"\n",
    "        def __init__(self):\n",
    "            self.numbers = [1, 2, 3, 4, 5, 6, 7, 8, 9]\n",
    "        \n",
    "        def eliminate(self, number):\n",
    "            self.numbers.remove(number)\n",
    "        \n",
    "        def sixorless(self):\n",
    "            return sum(self.numbers) <= 6\n",
    "    \n",
    "    if len(sys.argv) == 1:\n",
    "        name = sys.argv[1]\n",
    "    else:\n",
    "        name = input(\"Please enter your name here: \")\n",
    "    \n",
    "    newgame = Game()\n",
    "    while True:\n",
    "        if not newgame.sixorless():\n",
    "            Roll1 = random.randint(1, 6)\n",
    "            Roll2 = random.randint(1, 6)\n",
    "            RollSum = Roll1 + Roll2\n",
    "        else:\n",
    "            RollSum = random.randint(1, 6)\n",
    "        if not box.isvalid(RollSum, newgame.numbers):\n",
    "            break\n",
    "        while True:\n",
    "            player_input = input(\"Numebers left: {}\\nRoll: {}\\nNumbers to eliminate: \".format(newgame.numbers, RollSum))\n",
    "            choices = box.parse_input(player_input, newgame.numbers)\n",
    "            if choices:\n",
    "                break\n",
    "            else:\n",
    "                print(\"Please try again:\")\n",
    "        for number in choices:\n",
    "            newgame.eliminate(number)\n",
    "    score = sum(newgame.numbers)\n",
    "    print(\"Score for player {}: {} points\".format(name, score))\n",
    "    if score == 0:\n",
    "        print(\"Congratulations!! You shut the box!\")"
   ]
  },
  {
   "cell_type": "code",
   "execution_count": null,
   "metadata": {
    "collapsed": true
   },
   "outputs": [],
   "source": []
  },
  {
   "cell_type": "code",
   "execution_count": null,
   "metadata": {
    "collapsed": true
   },
   "outputs": [],
   "source": []
  }
 ],
 "metadata": {
  "kernelspec": {
   "display_name": "Python 3",
   "language": "python",
   "name": "python3"
  },
  "language_info": {
   "codemirror_mode": {
    "name": "ipython",
    "version": 3
   },
   "file_extension": ".py",
   "mimetype": "text/x-python",
   "name": "python",
   "nbconvert_exporter": "python",
   "pygments_lexer": "ipython3",
   "version": "3.6.1"
  }
 },
 "nbformat": 4,
 "nbformat_minor": 1
}
