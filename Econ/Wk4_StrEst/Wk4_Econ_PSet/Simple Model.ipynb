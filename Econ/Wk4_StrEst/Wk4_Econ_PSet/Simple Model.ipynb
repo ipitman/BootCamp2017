{
 "cells": [
  {
   "cell_type": "code",
   "execution_count": 45,
   "metadata": {
    "collapsed": true
   },
   "outputs": [],
   "source": [
    "import numpy as np\n",
    "import scipy.stats as sts\n",
    "import scipy.optimize as opt"
   ]
  },
  {
   "cell_type": "code",
   "execution_count": 46,
   "metadata": {
    "collapsed": true
   },
   "outputs": [],
   "source": [
    "data = np.loadtxt('../data/MacroSeries.txt', delimiter=',')"
   ]
  },
  {
   "cell_type": "code",
   "execution_count": 47,
   "metadata": {
    "collapsed": true
   },
   "outputs": [],
   "source": [
    "c = data[:, 0]\n",
    "k = data[:, 1]\n",
    "w = data[:, 2]\n",
    "r = data[:, 3]"
   ]
  },
  {
   "cell_type": "code",
   "execution_count": 48,
   "metadata": {
    "collapsed": true
   },
   "outputs": [],
   "source": [
    "def get_z_w(alpha, k, w):\n",
    "    n = k.shape[0]\n",
    "    z = np.empty(n)\n",
    "    for i in range(n):\n",
    "        z[i] = np.log(w[i] / ((1 - alpha) * (k[i] ** alpha)))\n",
    "    return z"
   ]
  },
  {
   "cell_type": "code",
   "execution_count": 49,
   "metadata": {
    "collapsed": true
   },
   "outputs": [],
   "source": [
    "def get_p(rho, mu, sigma, z):\n",
    "    n = z.shape[0]\n",
    "    p = np.empty(n)\n",
    "    for i in range(n):\n",
    "        if i == 0:\n",
    "            p[i] = sts.norm.pdf(z[i] - mu, 0, sigma)\n",
    "        else:\n",
    "            p[i] = sts.norm.pdf(z[i] - (rho * z[i - 1]) - ((1 - rho) * mu), 0, sigma)\n",
    "    p[p == 0] = 1e-10\n",
    "    return p"
   ]
  },
  {
   "cell_type": "code",
   "execution_count": 50,
   "metadata": {
    "collapsed": true
   },
   "outputs": [],
   "source": [
    "def log_lik_w(alpha, rho, mu, sigma, k, w):\n",
    "    z = get_z_w(alpha, k, w)\n",
    "    p = get_p(rho, mu, sigma, z)\n",
    "    ln_pdf_vals = np.log(p)\n",
    "    log_lik_val = ln_pdf_vals.sum()\n",
    "    return log_lik_val"
   ]
  },
  {
   "cell_type": "code",
   "execution_count": 51,
   "metadata": {
    "collapsed": true
   },
   "outputs": [],
   "source": [
    "def crit_w(params, k, w):\n",
    "    alpha, rho, mu, sigma = params\n",
    "    log_lik_val = log_lik_w(alpha, rho, mu, sigma, k, w)\n",
    "    neg_log_lik_val = -log_lik_val\n",
    "    return neg_log_lik_val"
   ]
  },
  {
   "cell_type": "code",
   "execution_count": 52,
   "metadata": {},
   "outputs": [
    {
     "name": "stdout",
     "output_type": "stream",
     "text": [
      "alpha_MLE_w:  0.459335309273 rho_MLE_w:  0.719165661591 mu_MLE_w:  9.4972894385 sigma_MLE:  0.0919962260786\n",
      "Maximum log likelihood: 96.70687671414075\n",
      "Inverse Hessian variance-covariance matrix: \n",
      "[[ 0.00632257  0.02115401 -0.07350399  0.00124115]\n",
      " [ 0.02115401  1.14401947 -0.02324772  0.04824339]\n",
      " [-0.07350399 -0.02324772  0.99847788 -0.00337276]\n",
      " [ 0.00124115  0.04824339 -0.00337276  0.00214132]]\n"
     ]
    }
   ],
   "source": [
    "alpha_init = 0.5\n",
    "rho_init = 0.7\n",
    "mu_init = 9.5\n",
    "sigma_init = 0.1\n",
    "params_init = np.array([alpha_init, rho_init, mu_init, sigma_init])\n",
    "results_w = opt.minimize(crit_w, params_init, args=(k, w), bounds=((1e-10, 1), (-1, 1), (1e-10, None), (1e-10, None)))\n",
    "alpha_MLE_w, rho_MLE_w, mu_MLE_w, sigma_MLE_w = results_w.x\n",
    "print('alpha_MLE_w: ', alpha_MLE_w, 'rho_MLE_w: ', rho_MLE_w, 'mu_MLE_w: ', mu_MLE_w, 'sigma_MLE: ', sigma_MLE_w)\n",
    "print('Maximum log likelihood: {}'.format(log_lik_w(alpha_MLE_w, rho_MLE_w, mu_MLE_w, sigma_MLE_w, k, w)))\n",
    "print('Inverse Hessian variance-covariance matrix: \\n{}'.format(results_w.hess_inv.todense()))"
   ]
  },
  {
   "cell_type": "code",
   "execution_count": 53,
   "metadata": {
    "collapsed": true
   },
   "outputs": [],
   "source": [
    "def get_z_r(alpha, k, r):\n",
    "    n = k.shape[0]\n",
    "    z = np.empty(n)\n",
    "    for i in range(n):\n",
    "        z[i] = np.log(r[i] / (alpha * (k[i] ** (alpha - 1))))\n",
    "    return z"
   ]
  },
  {
   "cell_type": "code",
   "execution_count": 54,
   "metadata": {
    "collapsed": true
   },
   "outputs": [],
   "source": [
    "def log_lik_r(alpha, rho, mu, sigma, k, r):\n",
    "    z = get_z_r(alpha, k, r)\n",
    "    p = get_p(rho, mu, sigma, z)\n",
    "    ln_pdf_vals = np.log(p)\n",
    "    log_lik_val = ln_pdf_vals.sum()\n",
    "    return log_lik_val"
   ]
  },
  {
   "cell_type": "code",
   "execution_count": 55,
   "metadata": {
    "collapsed": true
   },
   "outputs": [],
   "source": [
    "def crit_r(params, k, r):\n",
    "    alpha, rho, mu, sigma = params\n",
    "    log_lik_val = log_lik_r(alpha, rho, mu, sigma, k, r)\n",
    "    neg_log_lik_val = -log_lik_val\n",
    "    return neg_log_lik_val"
   ]
  },
  {
   "cell_type": "code",
   "execution_count": 56,
   "metadata": {},
   "outputs": [
    {
     "name": "stdout",
     "output_type": "stream",
     "text": [
      "alpha_MLE_r:  0.450217961795 rho_MLE_r:  0.725725702046 mu_MLE_r:  9.50188499049 sigma_MLE_r:  0.0919967237379\n",
      "Maximum log likelihood: -2302.5850929940457\n",
      "Inverse Hessian variance-covariance matrix: \n",
      "[[  4.18268693e-03   4.33577277e-02  -5.42768067e-02   6.32800281e-04]\n",
      " [  4.33577277e-02   1.69983962e+00   3.64157376e-02   2.15538442e-02]\n",
      " [ -5.42768067e-02   3.64157376e-02   9.97049341e-01  -6.98595327e-04]\n",
      " [  6.32800281e-04   2.15538442e-02  -6.98595327e-04   5.20886403e-04]]\n"
     ]
    }
   ],
   "source": [
    "results_r = opt.minimize(crit_r, params_init, args=(k, r), bounds=((1e-10, 1), (-1, 1), (1e-10, None), (1e-10, None)))\n",
    "alpha_MLE_r, rho_MLE_r, mu_MLE_r, sigma_MLE_r = results_r.x\n",
    "print('alpha_MLE_r: ', alpha_MLE_r, 'rho_MLE_r: ', rho_MLE_r, 'mu_MLE_r: ', mu_MLE_r, 'sigma_MLE_r: ', sigma_MLE_r)\n",
    "print('Maximum log likelihood: {}'.format(log_lik_r(alpha_MLE_r, rho_MLE_r, mu_MLE_r, sigma_MLE_r, k, w)))\n",
    "print('Inverse Hessian variance-covariance matrix: \\n{}'.format(results_r.hess_inv.todense()))"
   ]
  },
  {
   "cell_type": "code",
   "execution_count": 61,
   "metadata": {},
   "outputs": [
    {
     "data": {
      "text/plain": [
       "0.99999999298700304"
      ]
     },
     "execution_count": 61,
     "metadata": {},
     "output_type": "execute_result"
    }
   ],
   "source": [
    "z_star = np.log(1 / (alpha_MLE_w * (7500000 ** (alpha_MLE_w - 1))))\n",
    "p_star = 1 - sts.norm.cdf(z_star - (rho_MLE_w * 10) - ((1 - rho_MLE_w) * mu_MLE_w), 0, sigma_MLE_w)\n",
    "p_star"
   ]
  },
  {
   "cell_type": "code",
   "execution_count": null,
   "metadata": {
    "collapsed": true
   },
   "outputs": [],
   "source": []
  }
 ],
 "metadata": {
  "kernelspec": {
   "display_name": "Python 3",
   "language": "python",
   "name": "python3"
  },
  "language_info": {
   "codemirror_mode": {
    "name": "ipython",
    "version": 3
   },
   "file_extension": ".py",
   "mimetype": "text/x-python",
   "name": "python",
   "nbconvert_exporter": "python",
   "pygments_lexer": "ipython3",
   "version": "3.6.1"
  }
 },
 "nbformat": 4,
 "nbformat_minor": 2
}
