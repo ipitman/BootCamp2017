{
 "cells": [
  {
   "cell_type": "markdown",
   "metadata": {},
   "source": [
    "## Exercise Set 1 for OSM \n",
    "\n",
    "### Dynamic Programming with John Stachurski"
   ]
  },
  {
   "cell_type": "markdown",
   "metadata": {},
   "source": [
    "This notebook contains the first set of exercises for the [OSM](https://bfi.uchicago.edu/osm) bootcamp dynamic programming section.\n",
    "\n",
    "We will use the following libraries:"
   ]
  },
  {
   "cell_type": "code",
   "execution_count": 2,
   "metadata": {
    "collapsed": true
   },
   "outputs": [],
   "source": [
    "import numpy as np\n",
    "import matplotlib.pyplot as plt"
   ]
  },
  {
   "cell_type": "markdown",
   "metadata": {},
   "source": [
    "### Exercise 1\n",
    "\n",
    "Consider the data"
   ]
  },
  {
   "cell_type": "code",
   "execution_count": 3,
   "metadata": {
    "collapsed": true
   },
   "outputs": [],
   "source": [
    "A = [[0.6, 0.1, -0.3],\n",
    "     [0.5, -0.4, 0.2],\n",
    "     [1.0, -0.2, 1.1]]\n",
    "\n",
    "b = [[12],\n",
    "     [10],\n",
    "     [-1]]\n",
    "\n",
    "A, b = map(np.asarray, (A, b))"
   ]
  },
  {
   "cell_type": "markdown",
   "metadata": {
    "collapsed": true
   },
   "source": [
    "The equation $x = A x + b$ has a unique solution in $\\mathbb R^3$.  Show that this is true by checking the spectral radius condition."
   ]
  },
  {
   "cell_type": "code",
   "execution_count": 4,
   "metadata": {},
   "outputs": [
    {
     "name": "stdout",
     "output_type": "stream",
     "text": [
      "0.965538166352\n"
     ]
    }
   ],
   "source": [
    "from scipy.linalg import eigvals, solve\n",
    "evs = eigvals(A)\n",
    "ρ = max(abs(evs))\n",
    "print(ρ)"
   ]
  },
  {
   "cell_type": "markdown",
   "metadata": {},
   "source": [
    "Compute the solution using both successive approximations --- that is,\n",
    "\n",
    "$$ x_{t+1} = A x_t + b $$\n",
    "\n",
    "and matrix algebra."
   ]
  },
  {
   "cell_type": "code",
   "execution_count": 5,
   "metadata": {},
   "outputs": [
    {
     "data": {
      "text/plain": [
       "array([[ -0.89552238],\n",
       "       [ 13.34328358],\n",
       "       [ 45.64179101]])"
      ]
     },
     "execution_count": 5,
     "metadata": {},
     "output_type": "execute_result"
    }
   ],
   "source": [
    "def find_x(A, b):\n",
    "    x_previous = np.array([[1], [1], [1]])\n",
    "    while True:\n",
    "        x_next = A@x_previous + b\n",
    "        if sum((x_previous - x_next) ** 2) < 1e-16:\n",
    "            return x_next\n",
    "        x_previous = x_next\n",
    "\n",
    "find_x(A, b)"
   ]
  },
  {
   "cell_type": "markdown",
   "metadata": {},
   "source": [
    "### Exercise 2"
   ]
  },
  {
   "cell_type": "markdown",
   "metadata": {},
   "source": [
    "In a standard job search model, an agent \n",
    "\n",
    "\n",
    "* receives offer $w_t$ in period $t$ where $\\{w_t\\}$ is  iid\n",
    "* accepts this offer at time $t$ or remains unemployed\n",
    "    *  if remains unemployed, then receives compensation $c > 0$\n",
    "    * if accepts, then works indefinitely at this wage\n",
    "\n",
    "The agent discounts the future at rate $\\beta \\in (0, 1)$\n",
    "\n",
    "\n",
    "It can be shown that the following is an optimal strategy: \n",
    "\n",
    "* Set a reservation wage $\\bar w$\n",
    "* Accept the first offer $w_t$ such that $w_t \\geq \\bar w$\n",
    "\n",
    "\n",
    "It can also be shown (details omitted) that $\\bar w$ should satisfy\n",
    "\n",
    "$$\n",
    "    \\bar w\n",
    "    = c (1-\\beta) + \\beta\n",
    "    \\sum_{k=1}^K \\max \\left\\{\n",
    "        w_k ,\\, \\bar w\n",
    "    \\right\\}\n",
    "    \\, p_k\n",
    "$$\n",
    "\n",
    "Here \n",
    "\n",
    "* $w_1, \\ldots, w_K$ are the possible wage values, occuring with probabilities $p_1, \\ldots, p_K$\n",
    "* $c > 0$\n",
    "\n",
    "Does there always exists a $x \\in [0, \\infty)$ that solves the equation\n",
    "$$\n",
    "    x\n",
    "    = c (1-\\beta) + \\beta\n",
    "    \\sum_{k=1}^K \\max \\left\\{\n",
    "        w_k ,\\, x\n",
    "    \\right\\}\n",
    "    \\, p_k\n",
    "$$\n",
    "Is it unique?  Suggest a strategy for computing it"
   ]
  },
  {
   "cell_type": "markdown",
   "metadata": {},
   "source": [
    "### Solution\n",
    "\n",
    "Define the function:\n",
    "\n",
    "$$T(w) = c(1 - \\beta) + \\beta \\sum\\limits_{k = 1}^K max\\{w_k, w\\}p_k$$\n",
    "\n",
    "Since $w \\in \\mathbb{R_+}$, we have that $T: \\mathbb{R_+} \\mapsto \\mathbb{R_+}$ and we know that $\\mathbb{R_+}$ is a complete metric space. So, we must show that:\n",
    "\n",
    "$$\\exists \\ \\beta \\in (0, 1) \\ s.t. \\forall \\ w, w' \\in \\mathbb{R_+}, \\mid T(w) - T(w')\\mid \\leq \\beta \\mid w - w'\\mid$$\n",
    "\n",
    "Take $w, w' \\in \\mathbb{R_+}$. Then we have that:\n",
    "\n",
    "\\begin{align*}\n",
    "\\mid T(w) - T(w')\\mid &= \\beta \\ \\bigg| \\sum\\limits_{k = 1}^K \\bigg(max\\{w_k, w\\} - max\\{w_k, w'\\}\\bigg)p_k \\bigg| \\\\\n",
    "&\\leq \\beta \\sum\\limits_{k = 1}^K \\bigg| \\ max\\{w_k, w\\} - max\\{w_k, w'\\} \\bigg| \\ p_k \\\\ \n",
    "&\\leq \\beta \\sum\\limits_{k = 1}^K \\mid w - w'\\mid p_k \\\\\n",
    "&= \\beta \\mid w - w'\\mid \\sum\\limits_{k = 1}^K p_k \\\\\n",
    "&= \\beta \\mid w - w'\\mid\n",
    "\\end{align*}\n",
    "\n",
    "So, we have found the desired $\\beta \\in (0, 1)$. Thus, T is a contraction mapping, so by Banach's Fixed Point theorem, T has a unique fixed point $\\bar w \\in \\mathbb{R_+}$. So, the desired $\\bar w$ exists and is unique.\n"
   ]
  },
  {
   "cell_type": "markdown",
   "metadata": {},
   "source": [
    "#### Hints\n",
    "\n",
    "There are different ways to show this, but I found the following facts useful:\n",
    "\n",
    "*  If $x_1, \\ldots, x_K$ are any $K$ numbers, then\n",
    "\n",
    "$$ \\left| \\sum_{k=1}^K x_k \\right| \\leq \\sum_{k=1}^K |x_k| $$\n",
    "\n",
    "* For any $a, x, y$ in $\\mathbb R$, \n",
    "    \n",
    "$$ \n",
    "    \\left| \n",
    "            \\max \\left\\{ a,\\, x \\right\\} - \\max \\left\\{ a,\\, y \\right\\} \n",
    "        \\right|\n",
    "        \\leq | x - y |\n",
    "$$\n",
    "\n",
    "\n",
    "You can convince yourself of the second inequality by sketching and checking different cases..."
   ]
  },
  {
   "cell_type": "markdown",
   "metadata": {},
   "source": [
    "### Exercise 3"
   ]
  },
  {
   "cell_type": "markdown",
   "metadata": {},
   "source": [
    "Let \n",
    "\n",
    "* $\\beta = 0.96$\n",
    "* $(w_1, w_2, w_3) = (0.5, 1.0, 1.5)$\n",
    "* $(p_1, p_2, p_3) = (0.2, 0.4, 0.4)$\n",
    "\n",
    "Compute and plot the reservation wage for unemployment compensation values"
   ]
  },
  {
   "cell_type": "code",
   "execution_count": 6,
   "metadata": {},
   "outputs": [
    {
     "data": {
      "image/png": "[encoded data removed]",
      "text/plain": [
       "<matplotlib.figure.Figure at 0x105ea4438>"
      ]
     },
     "metadata": {},
     "output_type": "display_data"
    }
   ],
   "source": [
    "c_vals = np.linspace(1, 2, 100)\n",
    "beta = 0.96\n",
    "wvec = np.array([0.5, 1.0, 1.5])\n",
    "pvec = np.array([0.2, 0.4, 0.4])\n",
    "\n",
    "def find_wbar(c, beta, wvec, pvec):\n",
    "    wbar_previous = 1\n",
    "    while True:\n",
    "        wbar_next = c * (1 - beta) + beta * sum(np.maximum(wvec, wbar_previous) * pvec)\n",
    "        if abs(wbar_previous - wbar_next) < 1e-16:\n",
    "            return wbar_next\n",
    "        wbar_previous = wbar_next\n",
    "\n",
    "wbarvec = []\n",
    "        \n",
    "for c in c_vals:\n",
    "    wbarvec.append(find_wbar(c, beta, wvec, pvec))\n",
    "\n",
    "plt.plot(c_vals, wbarvec)\n",
    "plt.title(\"Reservation Wage vs. Unemployment Compensation\")\n",
    "plt.ylabel(\"Reservation Wage\")\n",
    "plt.xlabel(\"Unemployment Compensation\")\n",
    "plt.show()"
   ]
  },
  {
   "cell_type": "markdown",
   "metadata": {},
   "source": [
    "Is the reservation wage increasing or decreasing in this value?  Does that coincide with your intuition?"
   ]
  },
  {
   "cell_type": "markdown",
   "metadata": {
    "collapsed": true
   },
   "source": [
    "Reservation wage is increasing in unemployment compensation, which makes sense since the opportunity cost of working is greater so the benefit of working must increase in order for agents to be indifferent."
   ]
  },
  {
   "cell_type": "code",
   "execution_count": null,
   "metadata": {
    "collapsed": true
   },
   "outputs": [],
   "source": []
  }
 ],
 "metadata": {
  "kernelspec": {
   "display_name": "Python 3",
   "language": "python",
   "name": "python3"
  },
  "language_info": {
   "codemirror_mode": {
    "name": "ipython",
    "version": 3
   },
   "file_extension": ".py",
   "mimetype": "text/x-python",
   "name": "python",
   "nbconvert_exporter": "python",
   "pygments_lexer": "ipython3",
   "version": "3.6.1"
  }
 },
 "nbformat": 4,
 "nbformat_minor": 2
}
