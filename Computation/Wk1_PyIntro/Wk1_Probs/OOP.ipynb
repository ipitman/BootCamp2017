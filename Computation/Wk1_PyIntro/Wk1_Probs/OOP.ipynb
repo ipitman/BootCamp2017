{
 "cells": [
  {
   "cell_type": "code",
   "execution_count": 66,
   "metadata": {
    "collapsed": true
   },
   "outputs": [],
   "source": [
    "class Backpack(object):\n",
    "    def __init__(self, name, color, max_size=5):\n",
    "        self.name = name\n",
    "        self.color = color\n",
    "        self.max_size = max_size\n",
    "        self.contents = []\n",
    "    def __eq__(self, other):\n",
    "        return self.name == other.name and self.color == other.color and len(self.contents) == len(other.contents)\n",
    "    def __ne__(self, other):\n",
    "        return not self == other\n",
    "    def __str__(self):\n",
    "        return \"Owner: {}\\nColor: {}\\nSize: {}\\nMax Size: {}\\nContents: {}\\n\".format(\n",
    "            self.name, self.color, len(self.contents), self.max_size, self.contents)\n",
    "    def put(self, item):\n",
    "        \"\"\"Add 'item' to the backpack's list of contents.\"\"\"\n",
    "        if len(self.contents) < self.max_size:\n",
    "            self.contents.append(item)\n",
    "        else:\n",
    "            print('No Room!')\n",
    "    def take(self, item):\n",
    "        \"\"\"Remove 'item' to the backpack's list of contents.\"\"\"\n",
    "        self.contents.remove(item)\n",
    "    def dump(self):\n",
    "        self.contents = []"
   ]
  },
  {
   "cell_type": "code",
   "execution_count": 67,
   "metadata": {},
   "outputs": [],
   "source": [
    "class Jetpack(Backpack):\n",
    "    def __init__(self, name, color, max_size=2, fuel=10):\n",
    "        Backpack.__init__(self, name, color, max_size)\n",
    "        self.fuel = fuel\n",
    "    def fly(self, amount):\n",
    "        if amount < self.fuel:\n",
    "            self.fuel -= amount\n",
    "        else:\n",
    "            print(\"Not enough fuel!\")\n",
    "    def dump(self):\n",
    "        Backpack.dump(self)\n",
    "        self.fuel = 0"
   ]
  },
  {
   "cell_type": "code",
   "execution_count": 68,
   "metadata": {},
   "outputs": [],
   "source": [
    "class ComplexNumber(object):\n",
    "    def __init__(self, a, b):\n",
    "        self.real = a\n",
    "        self.imag = b\n",
    "    def conjugate(self):\n",
    "        return ComplexNumber(self.real, - self.imag)\n",
    "    def __abs__(self):\n",
    "        return ((self.real ** 2) + (self.imag ** 2)) ** 0.5\n",
    "    def __lt__(self, other):\n",
    "        return abs(self) < abs(other)\n",
    "    def __gt__(self, other):\n",
    "        return abs(self) > abs(other)\n",
    "    def __eq__(self, other):\n",
    "        return self.real == other.real and self.imag == other.imag\n",
    "    def __ne__(self, other):\n",
    "        return not self == other\n",
    "    def __add__(self, other):\n",
    "        real = self.real + other.real\n",
    "        imag = self.imag + other.imag\n",
    "        return ComplexNumber(real, imag)\n",
    "    def __sub__(self, other):\n",
    "        real = self.real - other.real\n",
    "        imag = self.imag - other.imag\n",
    "        return ComplexNumber(real, imag)\n",
    "    def __mul__(self, other):\n",
    "        real = self.real*other.real - self.imag*other.imag\n",
    "        imag = self.imag*other.real + other.imag*self.real\n",
    "        return ComplexNumber(real, imag)\n",
    "    def __truediv__(self, other):\n",
    "        if other.real == 0 and other.imag == 0:\n",
    "            raise ValueError(\"Cannot divide by zero\")\n",
    "        bottom = (other.conjugate()*other*1.).real\n",
    "        top = self*other.conjugate()\n",
    "        return ComplexNumber(top.real / bottom, top.imag / bottom)"
   ]
  }
 ],
 "metadata": {
  "kernelspec": {
   "display_name": "Python 3",
   "language": "python",
   "name": "python3"
  },
  "language_info": {
   "codemirror_mode": {
    "name": "ipython",
    "version": 3
   },
   "file_extension": ".py",
   "mimetype": "text/x-python",
   "name": "python",
   "nbconvert_exporter": "python",
   "pygments_lexer": "ipython3",
   "version": "3.6.1"
  }
 },
 "nbformat": 4,
 "nbformat_minor": 2
}
