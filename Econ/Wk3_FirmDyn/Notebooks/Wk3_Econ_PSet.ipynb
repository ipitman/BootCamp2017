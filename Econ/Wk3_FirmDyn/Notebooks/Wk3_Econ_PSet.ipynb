{
 "cells": [
  {
   "cell_type": "code",
   "execution_count": 1,
   "metadata": {
    "collapsed": true
   },
   "outputs": [],
   "source": [
    "# import packages\n",
    "import matplotlib.pyplot as plt\n",
    "from scipy.stats import norm\n",
    "import scipy.integrate as integrate\n",
    "import numpy as np"
   ]
  },
  {
   "cell_type": "code",
   "execution_count": 6,
   "metadata": {
    "collapsed": true
   },
   "outputs": [],
   "source": [
    "alpha_k = 0.297\n",
    "alpha_l = 0.650\n",
    "delta = 0.154\n",
    "psi = 1.080\n",
    "w = 0.700\n",
    "r = 0.040\n",
    "sigma_z = 0.213\n",
    "mu = 0.000\n",
    "rho = 0.7605\n",
    "sigma_eps = sigma_z * ((1 - rho ** 2) ** (1 / 2))\n",
    "sizez = 9\n",
    "betafirm = 1 / (1 + r)"
   ]
  },
  {
   "cell_type": "code",
   "execution_count": 7,
   "metadata": {},
   "outputs": [
    {
     "name": "stdout",
     "output_type": "stream",
     "text": [
      "Cut-off values =  [       -inf -0.25999639 -0.16288316 -0.09174491 -0.02975829  0.02975829\n",
      "  0.09174491  0.16288316  0.25999639         inf]\n"
     ]
    }
   ],
   "source": [
    "# Compute cut-off values\n",
    "z_cutoffs = (sigma_z * norm.ppf(np.arange(sizez + 1) / sizez)) + mu\n",
    "print('Cut-off values = ', z_cutoffs)"
   ]
  },
  {
   "cell_type": "code",
   "execution_count": 8,
   "metadata": {},
   "outputs": [
    {
     "name": "stdout",
     "output_type": "stream",
     "text": [
      "Grid points =  [-0.36307041 -0.20781458 -0.12613578 -0.0603241   0.          0.0603241\n",
      "  0.12613578  0.20781458  0.36307041]\n"
     ]
    }
   ],
   "source": [
    "# compute grid points for z\n",
    "z_grid = ((sizez * sigma_z * (norm.pdf((z_cutoffs[:-1] - mu) / sigma_z)\n",
    "                              - norm.pdf((z_cutoffs[1:] - mu) / sigma_z)))\n",
    "              + mu)\n",
    "print('Grid points = ', z_grid)"
   ]
  },
  {
   "cell_type": "code",
   "execution_count": 9,
   "metadata": {},
   "outputs": [
    {
     "name": "stdout",
     "output_type": "stream",
     "text": [
      "Transition matrix =  [[  5.34646999e-01   2.33099908e-01   1.19241334e-01   6.16948412e-02\n",
      "    3.06368282e-02   1.38694209e-02   5.27307457e-03   1.39972319e-03\n",
      "    1.37871226e-04]\n",
      " [  2.33099908e-01   2.53066831e-01   1.95990939e-01   1.38221479e-01\n",
      "    8.98690322e-02   5.26608516e-02   2.62024217e-02   9.48881413e-03\n",
      "    1.39972319e-03]\n",
      " [  1.19241334e-01   1.95990939e-01   1.96744233e-01   1.70765394e-01\n",
      "    1.33994761e-01   9.44950201e-02   5.72928238e-02   2.62024217e-02\n",
      "    5.27307457e-03]\n",
      " [  6.16948412e-02   1.38221479e-01   1.70765394e-01   1.75481409e-01\n",
      "    1.60693238e-01   1.32118347e-01   9.44950201e-02   5.26608516e-02\n",
      "    1.38694209e-02]\n",
      " [  3.06368282e-02   8.98690322e-02   1.33994761e-01   1.60693238e-01\n",
      "    1.69612281e-01   1.60693238e-01   1.33994761e-01   8.98690322e-02\n",
      "    3.06368282e-02]\n",
      " [  1.38694209e-02   5.26608516e-02   9.44950201e-02   1.32118347e-01\n",
      "    1.60693238e-01   1.75481409e-01   1.70765394e-01   1.38221479e-01\n",
      "    6.16948412e-02]\n",
      " [  5.27307457e-03   2.62024217e-02   5.72928238e-02   9.44950201e-02\n",
      "    1.33994761e-01   1.70765394e-01   1.96744233e-01   1.95990939e-01\n",
      "    1.19241334e-01]\n",
      " [  1.39972319e-03   9.48881413e-03   2.62024217e-02   5.26608516e-02\n",
      "    8.98690322e-02   1.38221479e-01   1.95990939e-01   2.53066831e-01\n",
      "    2.33099908e-01]\n",
      " [  1.37871226e-04   1.39972319e-03   5.27307457e-03   1.38694209e-02\n",
      "    3.06368282e-02   6.16948412e-02   1.19241334e-01   2.33099908e-01\n",
      "    5.34646999e-01]]\n",
      "pi sums =  [ 1.  1.  1.  1.  1.  1.  1.  1.  1.] [ 1.  1.  1.  1.  1.  1.  1.  1.  1.]\n"
     ]
    }
   ],
   "source": [
    "# define function that we will integrate\n",
    "def integrand(x, sigma_z, sigma_eps, rho, mu, z_j, z_jp1):\n",
    "    val = (np.exp((-1 * ((x - mu) ** 2)) / (2 * (sigma_z ** 2)))\n",
    "            * (norm.cdf((z_jp1 - (mu * (1 - rho)) - (rho * x)) / sigma_eps)\n",
    "               - norm.cdf((z_j - (mu * (1 - rho)) - (rho * x)) / sigma_eps)))\n",
    "    \n",
    "    return val\n",
    "\n",
    "# compute transition probabilities\n",
    "pi = np.empty((sizez, sizez))\n",
    "for i in range(sizez):\n",
    "    for j in range(sizez):\n",
    "        results = integrate.quad(integrand, z_cutoffs[i], z_cutoffs[i + 1],\n",
    "                                 args = (sigma_z, sigma_eps, rho, mu,\n",
    "                                         z_cutoffs[j], z_cutoffs[j + 1]))\n",
    "        pi[i,j] = (sizez / np.sqrt(2 * np.pi * sigma_z ** 2)) * results[0]\n",
    "        \n",
    "print('Transition matrix = ', pi)\n",
    "print('pi sums = ', pi.sum(axis=0), pi.sum(axis=1))"
   ]
  },
  {
   "cell_type": "code",
   "execution_count": 31,
   "metadata": {},
   "outputs": [],
   "source": [
    "dens = 1\n",
    "# put in bounds here for the capital stock space\n",
    "kstar = (((alpha_k / (1 / betafirm - 1 + delta))**(1 - alpha_l)) * ((alpha_l / w) ** alpha_l)) ** (1 - alpha_k - alpha_l)\n",
    "kbar = 2*kstar\n",
    "lb_k = 0.001\n",
    "ub_k = kbar\n",
    "krat = np.log(lb_k / ub_k)\n",
    "numb = np.ceil(krat / np.log(1 - delta))\n",
    "K = np.zeros(int(numb * dens))\n",
    "# we'll create in a way where we pin down the upper bound - since\n",
    "# the distance will be small near the lower bound, we'll miss that by little\n",
    "for j in range(int(numb * dens)):\n",
    "    K[j] = ub_k * (1 - delta) ** (j / dens)\n",
    "k_grid = K[::-1]\n",
    "sizek = k_grid.shape[0]"
   ]
  },
  {
   "cell_type": "code",
   "execution_count": 32,
   "metadata": {},
   "outputs": [
    {
     "data": {
      "image/png": "[encoded data removed]",
      "text/plain": [
       "<matplotlib.figure.Figure at 0x1107b7208>"
      ]
     },
     "metadata": {},
     "output_type": "display_data"
    }
   ],
   "source": [
    "k_linear = np.linspace(lb_k, ub_k, num=sizek)\n",
    "plt.scatter(k_linear, k_grid)\n",
    "plt.show()"
   ]
  },
  {
   "cell_type": "code",
   "execution_count": 33,
   "metadata": {},
   "outputs": [
    {
     "name": "stderr",
     "output_type": "stream",
     "text": [
      "/anaconda/lib/python3.6/site-packages/ipykernel_launcher.py:1: RuntimeWarning: invalid value encountered in power\n",
      "  \"\"\"Entry point for launching an IPython kernel.\n"
     ]
    },
    {
     "ename": "ValueError",
     "evalue": "operands could not be broadcast together with shapes (9,) (46,) ",
     "output_type": "error",
     "traceback": [
      "\u001b[0;31m---------------------------------------------------------------------------\u001b[0m",
      "\u001b[0;31mValueError\u001b[0m                                Traceback (most recent call last)",
      "\u001b[0;32m<ipython-input-33-e56daf67cb12>\u001b[0m in \u001b[0;36m<module>\u001b[0;34m()\u001b[0m\n\u001b[0;32m----> 1\u001b[0;31m \u001b[0mop\u001b[0m \u001b[0;34m=\u001b[0m \u001b[0;34m(\u001b[0m\u001b[0;36m1\u001b[0m \u001b[0;34m-\u001b[0m \u001b[0malpha_l\u001b[0m\u001b[0;34m)\u001b[0m \u001b[0;34m*\u001b[0m \u001b[0;34m(\u001b[0m\u001b[0;34m(\u001b[0m\u001b[0malpha_l\u001b[0m \u001b[0;34m/\u001b[0m \u001b[0mw\u001b[0m\u001b[0;34m)\u001b[0m \u001b[0;34m**\u001b[0m \u001b[0;34m(\u001b[0m\u001b[0malpha_l\u001b[0m \u001b[0;34m/\u001b[0m \u001b[0;34m(\u001b[0m\u001b[0;36m1\u001b[0m \u001b[0;34m-\u001b[0m \u001b[0malpha_l\u001b[0m\u001b[0;34m)\u001b[0m\u001b[0;34m)\u001b[0m\u001b[0;34m)\u001b[0m \u001b[0;34m*\u001b[0m \u001b[0;34m(\u001b[0m\u001b[0mz_grid\u001b[0m \u001b[0;34m**\u001b[0m \u001b[0;34m(\u001b[0m\u001b[0;36m1\u001b[0m \u001b[0;34m/\u001b[0m \u001b[0;34m(\u001b[0m\u001b[0;36m1\u001b[0m \u001b[0;34m-\u001b[0m \u001b[0malpha_l\u001b[0m\u001b[0;34m)\u001b[0m\u001b[0;34m)\u001b[0m\u001b[0;34m)\u001b[0m \u001b[0;34m*\u001b[0m \u001b[0;34m(\u001b[0m\u001b[0mk_grid\u001b[0m \u001b[0;34m**\u001b[0m \u001b[0;34m(\u001b[0m\u001b[0malpha_k\u001b[0m \u001b[0;34m/\u001b[0m \u001b[0;34m(\u001b[0m\u001b[0;36m1\u001b[0m \u001b[0;34m-\u001b[0m \u001b[0malpha_l\u001b[0m\u001b[0;34m)\u001b[0m\u001b[0;34m)\u001b[0m\u001b[0;34m)\u001b[0m\u001b[0;34m\u001b[0m\u001b[0m\n\u001b[0m\u001b[1;32m      2\u001b[0m \u001b[0;34m\u001b[0m\u001b[0m\n\u001b[1;32m      3\u001b[0m \u001b[0mprint\u001b[0m\u001b[0;34m(\u001b[0m\u001b[0mop\u001b[0m\u001b[0;34m)\u001b[0m\u001b[0;34m\u001b[0m\u001b[0m\n\u001b[1;32m      4\u001b[0m \u001b[0;34m\u001b[0m\u001b[0m\n\u001b[1;32m      5\u001b[0m \u001b[0;31m## firm cash flow, e\u001b[0m\u001b[0;34m\u001b[0m\u001b[0;34m\u001b[0m\u001b[0m\n",
      "\u001b[0;31mValueError\u001b[0m: operands could not be broadcast together with shapes (9,) (46,) "
     ]
    }
   ],
   "source": [
    "op_grid = np.empty((sizez, sizek))\n",
    "\n",
    "for i in range(sizez):\n",
    "    op_grid(1 - alpha_l) * ((alpha_l / w) ** (alpha_l / (1 - alpha_l))) * (z ** (1 / (1 - alpha_l))) * (k_grid ** (alpha_k / (1 - alpha_l)))\n",
    "\n",
    "print(op)\n",
    "\n",
    "## firm cash flow, e\n",
    "#e = np.zeros((sizek, sizek, sizez))\n",
    "#for i in range(sizek):\n",
    "#    for j in range(sizek):\n",
    "#        for k in range(sizez):\n",
    "#            e[i, j, k] = (op[i] - k_grid[j] + ((1 - delta) * kvec[i]) -\n",
    "#                       ((psi / 2) * ((kvec[j] - ((1 - delta) * kvec[i])) ** 2)\n",
    "#                        / kvec[i]))"
   ]
  },
  {
   "cell_type": "code",
   "execution_count": null,
   "metadata": {},
   "outputs": [],
   "source": []
  },
  {
   "cell_type": "code",
   "execution_count": null,
   "metadata": {
    "collapsed": true
   },
   "outputs": [],
   "source": []
  }
 ],
 "metadata": {
  "kernelspec": {
   "display_name": "Python 3",
   "language": "python",
   "name": "python3"
  },
  "language_info": {
   "codemirror_mode": {
    "name": "ipython",
    "version": 3
   },
   "file_extension": ".py",
   "mimetype": "text/x-python",
   "name": "python",
   "nbconvert_exporter": "python",
   "pygments_lexer": "ipython3",
   "version": "3.6.1"
  }
 },
 "nbformat": 4,
 "nbformat_minor": 2
}
