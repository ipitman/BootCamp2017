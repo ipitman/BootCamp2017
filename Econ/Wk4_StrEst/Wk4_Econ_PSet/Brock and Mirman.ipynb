{
 "cells": [
  {
   "cell_type": "code",
   "execution_count": 2,
   "metadata": {
    "collapsed": true
   },
   "outputs": [],
   "source": [
    "import numpy as np\n",
    "import scipy.stats as sts\n",
    "import scipy.optimize as opt"
   ]
  },
  {
   "cell_type": "code",
   "execution_count": 3,
   "metadata": {
    "collapsed": true
   },
   "outputs": [],
   "source": [
    "data = np.loadtxt('../data/MacroSeries.txt', delimiter=',')"
   ]
  },
  {
   "cell_type": "code",
   "execution_count": 7,
   "metadata": {
    "collapsed": true
   },
   "outputs": [],
   "source": [
    "c = data[:, 0]\n",
    "k = data[:, 1]\n",
    "w = data[:, 2]\n",
    "r = data[:, 3]\n",
    "beta = 0.99"
   ]
  },
  {
   "cell_type": "code",
   "execution_count": 6,
   "metadata": {},
   "outputs": [],
   "source": [
    "def get_z_r(alpha, k, r):\n",
    "    n = k.shape[0]\n",
    "    z = np.empty(n)\n",
    "    for i in range(n):\n",
    "        z[i] = np.log(r[i] / (alpha * (k[i] ** (alpha - 1))))\n",
    "    return z"
   ]
  },
  {
   "cell_type": "code",
   "execution_count": 8,
   "metadata": {
    "collapsed": true
   },
   "outputs": [],
   "source": [
    "def get_expectations(alpha, beta, rho, mu, c, k, w, r):\n",
    "    z = get_z_r(alpha, k, r)\n",
    "    n = z.shape[0]\n",
    "    e1_vec = np.empty(n - 1)\n",
    "    e2_vec = np.empty(n - 1)\n",
    "    e3_vec = np.empty(n - 1)\n",
    "    e4_vec = np.empty(n - 1)\n",
    "    for i in range(n - 1):\n",
    "        e1_vec[i] = z[i + 1] - rho*z[i] - (1 - rho)*mu\n",
    "        e2_vec[i] = e1_vec[i]*z[i]\n",
    "        e3_vec[i] = beta*alpha*np.exp(z[i + 1])*(k[i + 1] ** (alpha - 1))*(c[i] / c[i + 1]) - 1\n",
    "        e4_vec[i] = e3_vec[i]*w[i]\n",
    "    return e1_vec.mean(), e2_vec.mean(), e3_vec.mean(), e4_vec.mean()"
   ]
  },
  {
   "cell_type": "code",
   "execution_count": 9,
   "metadata": {
    "collapsed": true
   },
   "outputs": [],
   "source": [
    "def crit(params, c, k, w, r, W):\n",
    "    alpha, beta, rho, mu = params\n",
    "    e1, e2, e3, e4 = get_expectations(alpha, beta, rho, mu, c, k, w, r)\n",
    "    err_vec = np.array([e1, e2, e3, e4])\n",
    "    crit_val = np.dot(np.dot(err_vec.T, W), err_vec)\n",
    "    return crit_val"
   ]
  },
  {
   "cell_type": "code",
   "execution_count": 28,
   "metadata": {},
   "outputs": [
    {
     "name": "stdout",
     "output_type": "stream",
     "text": [
      "alpha_GMM:  0.721932899517 beta_GMM:  0.989999995001 rho_GMM:  0.999961683708 mu_GMM:  3.02443780625\n",
      "Value of minimized crit function:  0.0027675262016\n"
     ]
    }
   ],
   "source": [
    "W = np.identity(4)\n",
    "alpha_init = 0.4\n",
    "beta_init = 0.2\n",
    "rho_init = 0.4\n",
    "mu_init = 3\n",
    "params_init = np.array([alpha_init, beta_init, rho_init, mu_init])\n",
    "results = opt.minimize(crit, params_init, args=(c, k, w, r, W), bounds=((1e-10, 1), (1e-10, 1), (-1, 1), (1e-10, None)))\n",
    "alpha_GMM, beta_GMM, rho_GMM, mu_GMM = results.x\n",
    "print('alpha_GMM: ', alpha_GMM, 'beta_GMM: ', beta_GMM, 'rho_GMM: ', rho_GMM, 'mu_GMM: ', mu_GMM)\n",
    "print('Value of minimized crit function: ', crit((alpha_GMM, beta_GMM, rho_GMM, mu_GMM), c, k, w, r, W))"
   ]
  },
  {
   "cell_type": "code",
   "execution_count": null,
   "metadata": {
    "collapsed": true
   },
   "outputs": [],
   "source": []
  }
 ],
 "metadata": {
  "kernelspec": {
   "display_name": "Python 3",
   "language": "python",
   "name": "python3"
  },
  "language_info": {
   "codemirror_mode": {
    "name": "ipython",
    "version": 3
   },
   "file_extension": ".py",
   "mimetype": "text/x-python",
   "name": "python",
   "nbconvert_exporter": "python",
   "pygments_lexer": "ipython3",
   "version": "3.6.1"
  }
 },
 "nbformat": 4,
 "nbformat_minor": 2
}
